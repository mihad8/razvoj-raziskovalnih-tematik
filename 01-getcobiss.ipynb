{
 "cells": [
  {
   "cell_type": "markdown",
   "metadata": {},
   "source": [
    "# Pridobivanje podatkov o objavah iz COBISS"
   ]
  },
  {
   "cell_type": "code",
   "execution_count": 1,
   "metadata": {},
   "outputs": [],
   "source": [
    "import os\n",
    "import time\n",
    "from datetime import datetime\n",
    "import gzip\n",
    "import mechanicalsoup\n",
    "import urllib"
   ]
  },
  {
   "cell_type": "markdown",
   "metadata": {},
   "source": [
    "Pridobimo podatke za obdobje tekočega in prejšnjega leta. "
   ]
  },
  {
   "cell_type": "code",
   "execution_count": 2,
   "metadata": {},
   "outputs": [
    {
     "name": "stdout",
     "output_type": "stream",
     "text": [
      "začetek: 2019-07-09 22:40:04\n",
      "Čas poizvedbe: 2019-07-09-224004\n"
     ]
    }
   ],
   "source": [
    "now = datetime.now()\n",
    "print('začetek: {:}'.format(now.strftime('%Y-%m-%d %H:%M:%S')))\n",
    "\n",
    "tstamp = now.strftime('%Y-%m-%d-%H%M%S')\n",
    "print('Čas poizvedbe: {:}'.format(tstamp))\n",
    "\n",
    "doleta = now.year\n",
    "odleta = doleta - 1"
   ]
  },
  {
   "cell_type": "markdown",
   "metadata": {},
   "source": [
    "Podatke shranimo v mapo `cobiss`."
   ]
  },
  {
   "cell_type": "code",
   "execution_count": 3,
   "metadata": {},
   "outputs": [],
   "source": [
    "target_folder = 'downloads/cobiss-org'\n",
    "if not os.path.isdir(target_folder):\n",
    "    os.makedirs(target_folder)\n",
    "    # če mapa ne obstaja, potem moramo pridobiti podatke od začetka organizacije\n",
    "    odleta = 1990"
   ]
  },
  {
   "cell_type": "markdown",
   "metadata": {},
   "source": [
    "Letnici pretvorimo v niza."
   ]
  },
  {
   "cell_type": "code",
   "execution_count": 4,
   "metadata": {},
   "outputs": [
    {
     "name": "stdout",
     "output_type": "stream",
     "text": [
      "Obdobje: 2018-2019\n"
     ]
    }
   ],
   "source": [
    "doleta = str(doleta)\n",
    "odleta = str(odleta)\n",
    "print('Obdobje: {:}-{:}'.format(odleta, doleta))"
   ]
  },
  {
   "cell_type": "markdown",
   "metadata": {},
   "source": [
    "Podatki o UL FRI, šifra organizacije `1539`."
   ]
  },
  {
   "cell_type": "code",
   "execution_count": 5,
   "metadata": {},
   "outputs": [
    {
     "name": "stdout",
     "output_type": "stream",
     "text": [
      "start: http://www.sicris.si/search/org_biblio.aspx?lang=slv&mstid=1539\n"
     ]
    }
   ],
   "source": [
    "org_id='1539'\n",
    "\n",
    "url_start='http://www.sicris.si/search/org_biblio.aspx?lang=slv&mstid={:}'.format(org_id)\n",
    "#url_step2='http://splet02.izum.si/cobiss/bibliography?lang=slv'\n",
    "#url_xml='http://splet02.izum.si/cobiss/bibpersonal/ConnectForm.jsp?lang=slv&mstid={:}&odleta={:}&doleta={:}&wos=on&biblunit=1&izpis=11&veda=T&points=connect&altmetrics=0&units=1&DaljeC=DALJE'.format(org_id, odleta, doleta)\n",
    "#url_html='http://splet02.izum.si/cobiss/bibpersonal/ConnectForm.jsp?lang=slv&mstid={:}&odleta={:}&doleta={:}&wos=on&biblunit=1&izpis=7&veda=T&points=connect&altmetrics=0&units=1&DaljeC=DALJE'.format(org_id, odleta, doleta)\n",
    "print('start: {:}'.format(url_start))"
   ]
  },
  {
   "cell_type": "markdown",
   "metadata": {},
   "source": [
    "V ime datoteke zapišemo čas poizvedbe."
   ]
  },
  {
   "cell_type": "code",
   "execution_count": 6,
   "metadata": {},
   "outputs": [],
   "source": [
    "target_file = '{:}/{:}_cobiss'.format(target_folder, tstamp)"
   ]
  },
  {
   "cell_type": "code",
   "execution_count": 7,
   "metadata": {},
   "outputs": [],
   "source": [
    "def get_url(izpis):\n",
    "    browser = mechanicalsoup.StatefulBrowser()\n",
    "    browser.open(url_start)\n",
    "    browser.select_form()\n",
    "    # browser.get_current_form().print_summary()\n",
    "    browser.submit_selected()\n",
    "    browser.select_form()\n",
    "    browser['odleta'] = odleta\n",
    "    browser['doleta'] = doleta\n",
    "    browser['izpis'] = izpis\n",
    "    # browser.get_current_form().print_summary()\n",
    "    response = browser.submit_selected()\n",
    "    url = response.text.split('URL=')[1].split('\">')[0]\n",
    "    return url"
   ]
  },
  {
   "cell_type": "markdown",
   "metadata": {},
   "source": [
    "Podamo zahtevo za generiranje datoteke html."
   ]
  },
  {
   "cell_type": "code",
   "execution_count": 8,
   "metadata": {},
   "outputs": [
    {
     "name": "stdout",
     "output_type": "stream",
     "text": [
      "URL datoteke html: http://izumbib.izum.si/bibliografije/Z20190709224008-1539.html\n"
     ]
    }
   ],
   "source": [
    "url_html = get_url('7')\n",
    "print('URL datoteke html: {:}'.format(url_html))"
   ]
  },
  {
   "cell_type": "markdown",
   "metadata": {},
   "source": [
    "Podamo zahtevo za generiranje datoteke xml."
   ]
  },
  {
   "cell_type": "code",
   "execution_count": 9,
   "metadata": {},
   "outputs": [
    {
     "name": "stdout",
     "output_type": "stream",
     "text": [
      "URL datoteke xml: http://izumbib.izum.si/bibliografije/Z20190709224009-1539.xml\n"
     ]
    }
   ],
   "source": [
    "url_xml = get_url('11')\n",
    "print('URL datoteke xml: {:}'.format(url_xml))"
   ]
  },
  {
   "cell_type": "markdown",
   "metadata": {},
   "source": [
    "Preverjaj, dokler datoteki nista generirani."
   ]
  },
  {
   "cell_type": "code",
   "execution_count": 10,
   "metadata": {},
   "outputs": [
    {
     "name": "stdout",
     "output_type": "stream",
     "text": [
      "2019-07-09 22:40:09: preverjam, ali je izpis pripravljen...\n",
      "čakam...\n",
      "2019-07-09 22:42:09: preverjam, ali je izpis pripravljen...\n",
      "čakam...\n",
      "2019-07-09 22:44:10: preverjam, ali je izpis pripravljen...\n",
      "Pripravljeni datoteki sta prenešeni iz strežnika.\n"
     ]
    }
   ],
   "source": [
    "ponovi = True\n",
    "while ponovi:\n",
    "    print('{:}: preverjam, ali je izpis pripravljen...'.format(datetime.now().strftime('%Y-%m-%d %H:%M:%S')))\n",
    "    with urllib.request.urlopen(url_html) as response:\n",
    "        text_html = response.read()\n",
    "\n",
    "    with urllib.request.urlopen(url_xml) as response:\n",
    "        text_xml = response.read()\n",
    "        \n",
    "    ponovi = '<info>Prosimo, po' in text_xml.decode() or '<meta http-equiv=\"REFRESH\"' in text_html.decode()\n",
    "    if ponovi:\n",
    "        print('čakam...')\n",
    "        time.sleep(120)\n",
    "print('Pripravljeni datoteki sta prenešeni iz strežnika.')"
   ]
  },
  {
   "cell_type": "code",
   "execution_count": 11,
   "metadata": {},
   "outputs": [],
   "source": [
    "assert text_xml.decode().endswith('</Bibliography>\\n')\n",
    "assert text_html.decode().endswith('</html>\\n')"
   ]
  },
  {
   "cell_type": "markdown",
   "metadata": {},
   "source": [
    "Shranimo datoteko tipa html in xml."
   ]
  },
  {
   "cell_type": "code",
   "execution_count": 12,
   "metadata": {},
   "outputs": [],
   "source": [
    "with open(target_file + '.html', 'wb') as fout:\n",
    "    fout.write(text_html)\n",
    "\n",
    "with gzip.open(target_file + '.xml.gz', 'wb') as fout:\n",
    "    fout.write(text_xml)"
   ]
  },
  {
   "cell_type": "code",
   "execution_count": 13,
   "metadata": {},
   "outputs": [
    {
     "name": "stdout",
     "output_type": "stream",
     "text": [
      "konec: 2019-07-09 22:44:28\n"
     ]
    }
   ],
   "source": [
    "print('konec: {:}'.format(datetime.now().strftime('%Y-%m-%d %H:%M:%S')))"
   ]
  },
  {
   "cell_type": "code",
   "execution_count": null,
   "metadata": {},
   "outputs": [],
   "source": []
  }
 ],
 "metadata": {
  "kernelspec": {
   "display_name": "Python 3",
   "language": "python",
   "name": "python3"
  },
  "language_info": {
   "codemirror_mode": {
    "name": "ipython",
    "version": 3
   },
   "file_extension": ".py",
   "mimetype": "text/x-python",
   "name": "python",
   "nbconvert_exporter": "python",
   "pygments_lexer": "ipython3",
   "version": "3.7.2"
  },
  "latex_envs": {
   "LaTeX_envs_menu_present": true,
   "autocomplete": true,
   "bibliofile": "biblio.bib",
   "cite_by": "apalike",
   "current_citInitial": 1,
   "eqLabelWithNumbers": true,
   "eqNumInitial": 1,
   "hotkeys": {
    "equation": "Ctrl-E",
    "itemize": "Ctrl-I"
   },
   "labels_anchors": false,
   "latex_user_defs": false,
   "report_style_numbering": false,
   "user_envs_cfg": false
  },
  "nbTranslate": {
   "displayLangs": [
    "*"
   ],
   "hotkey": "alt-t",
   "langInMainMenu": true,
   "sourceLang": "en",
   "targetLang": "fr",
   "useGoogleTranslate": true
  }
 },
 "nbformat": 4,
 "nbformat_minor": 1
}
