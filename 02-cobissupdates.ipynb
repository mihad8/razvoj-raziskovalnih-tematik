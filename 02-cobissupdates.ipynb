{
 "cells": [
  {
   "cell_type": "markdown",
   "metadata": {},
   "source": [
    "# Osveževanje podatkov iz COBISS"
   ]
  },
  {
   "cell_type": "markdown",
   "metadata": {},
   "source": [
    "Naloži funkcije za branje datotek XML iz COBISS."
   ]
  },
  {
   "cell_type": "code",
   "execution_count": 3,
   "metadata": {},
   "outputs": [],
   "source": [
    "%run 'cobiss.ipynb'"
   ]
  },
  {
   "cell_type": "markdown",
   "metadata": {},
   "source": [
    "Read current list of researchers and publications."
   ]
  },
  {
   "cell_type": "code",
   "execution_count": 4,
   "metadata": {},
   "outputs": [
    {
     "name": "stdout",
     "output_type": "stream",
     "text": [
      "Authors data in file: rd/_data/authors.yml\n",
      "Number of records: 6678\n",
      "Publications data in file: rd/_data/publications.yml\n",
      "Number of records: 10332\n"
     ]
    }
   ],
   "source": [
    "%run 'data.ipynb'"
   ]
  },
  {
   "cell_type": "code",
   "execution_count": 5,
   "metadata": {},
   "outputs": [],
   "source": [
    "import glob"
   ]
  },
  {
   "cell_type": "markdown",
   "metadata": {},
   "source": [
    "V vsaki datoteki z update preveri, ali vsebuje kakšen nov podatek."
   ]
  },
  {
   "cell_type": "code",
   "execution_count": 6,
   "metadata": {},
   "outputs": [],
   "source": [
    "def read_one(fn):\n",
    "    ret_authors = {}\n",
    "    ret_publications = {}\n",
    "    print(fn)\n",
    "    for r in get_recs(fn):\n",
    "        for a in r.get('avtorji', []):\n",
    "            k = (a['surname'], a['firstname'], a['SICRIS'])\n",
    "            ret_authors[k] = a\n",
    "        ret_publications[r.get('COBISS')] = r\n",
    "    print('{:} authors in {:}'.format(len(ret_authors), fn))\n",
    "    print('{:} publications in {:}'.format(len(ret_publications), fn))\n",
    "    return ret_authors, ret_publications"
   ]
  },
  {
   "cell_type": "code",
   "execution_count": 7,
   "metadata": {
    "scrolled": true
   },
   "outputs": [
    {
     "name": "stdout",
     "output_type": "stream",
     "text": [
      "downloads/cobiss-org/2018-12-26-054807_cobiss.xml.gz\n",
      "Processing group: ČLANKI IN DRUGI SESTAVNI DELI\n",
      "Processing group: MONOGRAFIJE IN DRUGA ZAKLJUČENA DELA\n",
      "Processing group: IZVEDENA DELA (DOGODKI)\n",
      "Processing group: SEKUNDARNO AVTORSTVO\n",
      "unexpected AuthorGroup: OrderedDict([('Corporate', 'Dnevi slovenske informatike (2009 ; Portorož)')])\n",
      "record will be ignored: OrderedDict([('@bno', '6488'), ('@type', 'monograph'), ('AuthorGroup', OrderedDict([('Corporate', 'Dnevi slovenske informatike (2009 ; Portorož)')])), ('Title', 'Z inteligentnimi sistemi do strateške prednosti : zbornik \\npovzetkov'), ('TitleISBD', 'Z inteligentnimi sistemi do strateške prednosti : zbornik \\npovzetkov / Dnevi slovenske informatike 2009 - DSI, Portorož, Slovenija, \\n15.-17. april 2009 ; [uredniški odbor Sašo Novaković ... et al.]'), ('Subtitle', 'zbornik povzetkov'), ('Publisher', OrderedDict([('Address', 'Ljubljana'), ('PublisherName', 'Slovensko društvo Informatika')])), ('PublisherISBD', 'Ljubljana : Slovensko društvo Informatika, \\n2009'), ('Manufacturer', '[Ljubljana] : T.K.B.M.'), ('PubDate', '2009'), ('Country', OrderedDict([('@code', 'svn')])), ('PhysicalAttributes', OrderedDict([('Extent', '155 str.'), ('Dim', '24 cm'), ('AccompMaterial', '1 optični disk (CD-ROM)')])), ('Identifier', OrderedDict([('ISBN', '978-961-6165-28-0'), ('Err', '978-961-6165-26-6')])), ('TopicalName', ['Informatika - Posvetovanja', 'Inteligentni sistemi - Posvetovanja', 'Informatika', 'Informatics']), ('Descriptors', OrderedDict([('@lang', ''), ('#text', 'poslovna informatika /informacijska tehnologija \\n/elektronsko poslovanje /zborniki')])), ('UDK', ['659.2:004', '004.8']), ('ClassNumber', [OrderedDict([('@code', 'udc'), ('#text', '659.2:004(082)')]), OrderedDict([('@code', 'udc'), ('#text', '004.89(082)')])]), ('Typology', 'Urednik'), ('COBISS', OrderedDict([('@co', 'SI'), ('@id', '245006080'), ('#text', 'https://plus.si.cobiss.net/opac7/bib/245006080')])), ('Evaluation', OrderedDict([('@cat', 'SU (S)'), ('@points', '2'), ('@authno', '1/5')]))])\n",
      "\n",
      "unexpected AuthorGroup: OrderedDict([('CorpAuthor', 'Dnevi slovenske informatike 2009 - DSI, Portorož, \\nSlovenija, 15.-17. april 2009'), ('Corporate', 'Dnevi slovenske informatike (2009 ; Portorož)')])\n",
      "record will be ignored: OrderedDict([('@bno', '6489'), ('@type', 'monograph'), ('AuthorGroup', OrderedDict([('CorpAuthor', 'Dnevi slovenske informatike 2009 - DSI, Portorož, \\nSlovenija, 15.-17. april 2009'), ('Corporate', 'Dnevi slovenske informatike (2009 ; Portorož)')])), ('Title', 'Z inteligentnimi sistemi do strateške prednosti : zbornik \\nprispevkov'), ('TitleISBD', 'Z inteligentnimi sistemi do strateške prednosti \\n[Elektronski vir] : zbornik prispevkov / Dnevi slovenske informatike 2009 - \\nDSI, Portorož, Slovenija, 15.-17. april 2009 ; uredniški odbor Sašo \\nNovaković ... [et al.]'), ('Subtitle', 'zbornik prispevkov'), ('Edition', '1. izd.'), ('EditionISBD', '1. izd.'), ('Material', OrderedDict([('Electronic', 'Besedilni in slikovni podatki s programom')])), ('Publisher', OrderedDict([('Address', 'Ljubljana'), ('PublisherName', 'Slovensko društvo Informatika')])), ('PublisherISBD', 'Ljubljana : Slovensko društvo Informatika, \\n2009'), ('PubDate', '2009'), ('Country', OrderedDict([('@code', 'svn')])), ('PhysicalAttributes', OrderedDict([('Extent', '1 optični disk (CD-ROM)'), ('Details', 'barve'), ('Dim', '12 cm')])), ('Identifier', OrderedDict([('ISBN', '978-961-6165-29-7')])), ('Notes', OrderedDict([('SysRequirements', 'Sistemske zahteve: Adobe Reader'), ('Type', 'El. zbornik')])), ('TopicalName', ['Informatika - Posvetovanja', 'Inteligentni sistemi - Posvetovanja']), ('Descriptors', OrderedDict([('@lang', ''), ('#text', 'poslovna informatika /informacijska tehnologija \\n/elektronsko poslovanje /zborniki /CD-ROM')])), ('UDK', ['659.2:004', '004.8']), ('ClassNumber', [OrderedDict([('@code', 'udc'), ('#text', '659.2:004(086.034.4)(082)')]), OrderedDict([('@code', 'udc'), ('#text', '004.89(086.034.4)(082)')])]), ('Typology', 'Urednik'), ('COBISS', OrderedDict([('@co', 'SI'), ('@id', '245034752'), ('#text', 'https://plus.si.cobiss.net/opac7/bib/245034752')])), ('Evaluation', OrderedDict([('@cat', 'SU (S)'), ('@points', '2'), ('@authno', '1/5')]))])\n",
      "\n",
      "unexpected AuthorGroup: {}\n",
      "record will be ignored: OrderedDict([('@bno', '10389'), ('@type', 'monograph'), ('AuthorGroup', {}), ('Title', 'La Regione di Idrija e Cerkno : esperienze indimenticabili, \\nvacanze indimenticabili'), ('TitleISBD', 'La Regione di Idrija e Cerkno : esperienze \\nindimenticabili, vacanze indimenticabili / [testo ICRA d.o.o. Idrija, LTO \\nLaufar Cerkno ; traduzione Jaka Čibej ; fotografie archivio ICRA d.o.o. ... \\net al.]'), ('Subtitle', 'esperienze indimenticabili, vacanze \\nindimenticabili'), ('Publisher', OrderedDict([('Address', ['[Nova Gorica]', 'Idrija', 'Cerkno']), ('PublisherName', ['RDO Smaragdna pot', 'Comune', 'Comune'])])), ('PublisherISBD', '[Nova Gorica] : RDO Smaragdna pot ; Idrija : Comune ; \\nCerkno : Comune, 2012'), ('Manufacturer', '[Kranj] : Gorenjski tisk'), ('PubDate', '2012'), ('Country', OrderedDict([('@code', 'svn')])), ('PhysicalAttributes', OrderedDict([('Extent', '11 str.'), ('Details', 'ilustr.'), ('Dim', '30 cm')])), ('TopicalName', ['Idrija - Turizem', 'Cerkno - Turizem']), ('Descriptors', OrderedDict([('@lang', ''), ('#text', 'prenočišča /turistične kmetije /kulturna \\ndediščina /tehniška dediščina /turistična ponudba /Idrijsko /Cerkljansko \\n/turistični prospekti')])), ('UDK', '338.48'), ('ClassNumber', OrderedDict([('@code', 'udc'), ('#text', '338.48(497.473)(036)=131.1')])), ('Typology', 'Prevajalec'), ('COBISS', OrderedDict([('@co', 'SI'), ('@id', '4030875'), ('#text', 'https://plus.si.cobiss.net/opac7/bib/4030875')])), ('Evaluation', OrderedDict([('@cat', 'SU (S)'), ('@points', '1'), ('@authno', '1/1')]))])\n",
      "\n",
      "unexpected AuthorGroup: {}\n",
      "record will be ignored: OrderedDict([('@bno', '10400'), ('@type', 'monograph'), ('AuthorGroup', {}), ('Title', 'Vodnik po znanju projektnega vodenja : (PMBOK vodnik) : tretja \\nizdaja'), ('TitleISBD', 'Vodnik po znanju projektnega vodenja : (PMBOK vodnik) : \\ntretja izdaja / [prevajalci Andrej A. Česen ... et al.]'), ('Subtitle', ['(PMBOK vodnik)', 'tretja izdaja']), ('Publisher', OrderedDict([('Address', 'Kranj'), ('PublisherName', 'Moderna organizacija')])), ('PublisherISBD', 'Kranj : Moderna organizacija, 2008'), ('Manufacturer', 'Ljubljana : Present'), ('PubDate', '2008'), ('Country', OrderedDict([('@code', 'svn')])), ('PhysicalAttributes', OrderedDict([('Extent', 'VIII, 393 str.'), ('Details', 'graf. prikazi, tabele'), ('Dim', '28 cm')])), ('Identifier', OrderedDict([('ISBN', '978-961-232-210-6')])), ('Notes', OrderedDict([('Summaries', ['Bibliografija: str. 345-346', 'Kazalo'])])), ('TopicalName', 'Projektno vodenje - Vodniki'), ('Descriptors', OrderedDict([('@lang', ''), ('#text', 'management')])), ('UDK', '005'), ('ClassNumber', OrderedDict([('@code', 'udc'), ('#text', '005.8(036)')])), ('Typology', 'Prevajalec'), ('COBISS', OrderedDict([('@co', 'SI'), ('@id', '235217664'), ('#text', 'https://plus.si.cobiss.net/opac7/bib/235217664')])), ('Evaluation', OrderedDict([('@cat', 'SU (S)'), ('@points', '13.33'), ('@authno', '1/3')]))])\n",
      "\n",
      "unexpected AuthorGroup: {}\n",
      "record will be ignored: OrderedDict([('@bno', '10408'), ('@type', 'monograph'), ('AuthorGroup', {}), ('Title', 'Ljubljanska hagada : Pesah 5760 = Agada Ljubljanit : leto \\n2000'), ('TitleISBD', 'Ljubljanska hagada : Pesah 5760 = Agada Ljubljanit : leto \\n2000 / [Prevod Hagade in vsa pripadajoča gradiva so pripravili in uredili]: \\nUri ben Avraham, Kušajahu K. Killer, Matevž Košir, Borut Robič, Irena Šumi \\nin Janez Zor]'), ('Subtitle', ['Pesah 5760', 'leto 2000']), ('Publisher', OrderedDict([('Address', 'Ljubljana'), ('PublisherName', 'Judovska skupnost Slovenije')])), ('PublisherISBD', 'Ljubljana : Judovska skupnost Slovenije, \\n2000'), ('PubDate', '2000'), ('Country', OrderedDict([('@code', 'svn')])), ('PhysicalAttributes', OrderedDict([('Extent', 'X, 30 str.'), ('Dim', '30 cm')])), ('Descriptors', OrderedDict([('@lang', 'slv'), ('#text', 'Hagada')])), ('UDK', '26'), ('Typology', 'Prevajalec'), ('COBISS', OrderedDict([('@co', 'SI'), ('@id', '7422797'), ('#text', 'https://plus.si.cobiss.net/opac7/bib/7422797')])), ('Evaluation', OrderedDict([('@cat', 'SU (S)'), ('@points', '0.67'), ('@authno', '1/6')]))])\n",
      "\n",
      "6678 authors in downloads/cobiss-org/2018-12-26-054807_cobiss.xml.gz\n",
      "10332 publications in downloads/cobiss-org/2018-12-26-054807_cobiss.xml.gz\n",
      "total new added, authors: 0, publications: 0\n",
      "\n"
     ]
    }
   ],
   "source": [
    "for fn in sorted(glob.glob('downloads/cobiss-org/*.xml.gz')):\n",
    "    new_authors = {}\n",
    "    new_publications = {}\n",
    "\n",
    "    fbname = os.path.basename(fn).split('_cobiss')[0]\n",
    "    cur_authors, cur_publications = read_one(fn)\n",
    "    for a in sorted(cur_authors):\n",
    "        if a not in authors:\n",
    "            print(\"adding new author:\", a)\n",
    "            add_author(a)\n",
    "            new_authors[a] = cur_authors[a]\n",
    "    for p in cur_publications:\n",
    "        if p not in publications:\n",
    "            print(p)\n",
    "            print(\"adding new publication:\", cur_publications[p]['COBISS'], cur_publications[p]['naslov'])\n",
    "            add_publication(cur_publications[p])\n",
    "            new_publications[p] = cur_publications[p]\n",
    "    print('total new added, authors: {:}, publications: {:}'.format(len(new_authors), len(new_publications)))\n",
    "    print()"
   ]
  },
  {
   "cell_type": "markdown",
   "metadata": {},
   "source": [
    "Update latest publication date for each author."
   ]
  },
  {
   "cell_type": "code",
   "execution_count": 8,
   "metadata": {},
   "outputs": [],
   "source": [
    "for cobiss, p in publications.items():\n",
    "    pub_date = p.get('PubDate', None)\n",
    "    if pub_date is None:\n",
    "        continue\n",
    "    for a in p['avtorji']:\n",
    "        k = (a['surname'], a['firstname'], a['SICRIS'])\n",
    "        a_rec = authors[k]\n",
    "        a_rec['latest_publication_year'] = max(a_rec.get('latest_publication_year', pub_date), pub_date)"
   ]
  },
  {
   "cell_type": "markdown",
   "metadata": {},
   "source": [
    "Shrani končen seznam avtorjev in publikacij."
   ]
  },
  {
   "cell_type": "code",
   "execution_count": 9,
   "metadata": {},
   "outputs": [],
   "source": [
    "store_authors()\n",
    "store_publications()"
   ]
  },
  {
   "cell_type": "markdown",
   "metadata": {},
   "source": [
    "Uredi revije po kategorizaciji ARRS, impact faktorju in percentilu.\n",
    "\n",
    "Hkrati preštej tudi avtorje."
   ]
  },
  {
   "cell_type": "code",
   "execution_count": 12,
   "metadata": {},
   "outputs": [],
   "source": [
    "avtorji = {}\n",
    "ranking = []\n",
    "for cobiss, p in publications.items():\n",
    "    if 'JCR' not in p: continue\n",
    "    rang = p['rang']\n",
    "    leto, impact, per, impact_str, kats = get_JCR(p['JCR'])\n",
    "#    if p['PubDate'] < 2019-5:\n",
    "#        continue\n",
    "    ranking.append((-p.get('CI', 0), rang, -impact, per, p['PubDate'], p['naslov']))\n",
    "    \n",
    "    if 'avtorji' not in p: continue\n",
    "    for a in p['avtorji']:\n",
    "        avtor = (a['surname'], a['firstname'], a['SICRIS'])\n",
    "        avtorji[avtor] = avtorji.get(avtor, 0) + 1\n",
    "ranking.sort()"
   ]
  },
  {
   "cell_type": "markdown",
   "metadata": {},
   "source": [
    "Pet najpogostejših avtorjev:"
   ]
  },
  {
   "cell_type": "code",
   "execution_count": 14,
   "metadata": {},
   "outputs": [
    {
     "data": {
      "text/plain": [
       "[(94, ('Zupan', 'Blaž', '12536')),\n",
       " (69, ('Bratko', 'Ivan', '02275')),\n",
       " (61, ('Leonardis', 'Aleš', '05896')),\n",
       " (59, ('Curk', 'Tomaž', '23399')),\n",
       " (58, ('Kononenko', 'Igor', '04242')),\n",
       " (43, ('Demšar', 'Janez', '16324')),\n",
       " (36, ('Jurič', 'Matjaž B.', '18337')),\n",
       " (34, ('Trček', 'Denis', '11077')),\n",
       " (29, ('Robnik Šikonja', 'Marko', '15295')),\n",
       " (29, ('Mraz', 'Miha', '13442')),\n",
       " (28, ('Kristan', 'Matej', '30155')),\n",
       " (28, ('Bajec', 'Marko', '16154')),\n",
       " (27, ('Zimic', 'Nikolaj', '05957')),\n",
       " (26, ('Jurišić', 'Aleksandar', '08724')),\n",
       " (25, ('Sadikov', 'Aleksander', '20389')),\n",
       " (24, ('Štrumbelj', 'Erik', '29486')),\n",
       " (24, ('Solina', 'Franc', '09581')),\n",
       " (24, ('Oblak', 'Polona', '22723')),\n",
       " (24, ('Kukar', 'Matjaž', '14565')),\n",
       " (23, ('Bosnić', 'Zoran', '28779'))]"
      ]
     },
     "execution_count": 14,
     "metadata": {},
     "output_type": "execute_result"
    }
   ],
   "source": [
    "sorted([(n, a) for a, n in avtorji.items()], reverse=True)[:20]"
   ]
  },
  {
   "cell_type": "markdown",
   "metadata": {},
   "source": [
    "Pet najboljših objav:"
   ]
  },
  {
   "cell_type": "code",
   "execution_count": 10,
   "metadata": {
    "scrolled": false
   },
   "outputs": [
    {
     "data": {
      "text/plain": [
       "[(-88,\n",
       "  \"1A1 (Z, A'', A', A1/2)\",\n",
       "  -11.329,\n",
       "  0.047619047619047616,\n",
       "  2015,\n",
       "  'The RNA-binding proteomes from yeast to man harbour conserved enigmRBPs'),\n",
       " (-70,\n",
       "  \"1A1 (Z, A'', A', A1/2)\",\n",
       "  -14.714,\n",
       "  0.020689655172413793,\n",
       "  2016,\n",
       "  'Comprehensive identification of RNA-binding domains in human cells'),\n",
       " (-48,\n",
       "  \"1A1 (Z, A'', A', A1/2)\",\n",
       "  -9.413,\n",
       "  0.08947368421052632,\n",
       "  2016,\n",
       "  'SR proteins are NXF1 adaptors that link alternative RNA processing to mRNA export'),\n",
       " (-45,\n",
       "  \"1A1 (Z, A', A1/2)\",\n",
       "  -2.033,\n",
       "  0.48,\n",
       "  2015,\n",
       "  'Inertial sensor-based gait recognition : a review'),\n",
       " (-43,\n",
       "  \"1A1 (Z, A'', A', A1/2)\",\n",
       "  -19.381,\n",
       "  0.026490066225165563,\n",
       "  2015,\n",
       "  'The RNA-binding protein HuR is essential for the B cell antibody response'),\n",
       " (-41,\n",
       "  \"1A1 (Z, A'', A', A1/2)\",\n",
       "  -14.018,\n",
       "  0.020689655172413793,\n",
       "  2014,\n",
       "  'Rbfox2-coordinated alternative splicing of Mef2d and Rock2 controls myoblast fusion during myogenesis'),\n",
       " (-41,\n",
       "  \"1A1 (Z, A', A1/2)\",\n",
       "  -5.876,\n",
       "  0.058823529411764705,\n",
       "  2017,\n",
       "  \"World scientists' warning to humanity : a second notice\"),\n",
       " (-40,\n",
       "  \"1A1 (Z, A'', A', A1/2)\",\n",
       "  -12.996,\n",
       "  0.027586206896551724,\n",
       "  2014,\n",
       "  'Designable DNA-binding domains enable construction of logic circuits in mammalian cells'),\n",
       " (-38,\n",
       "  \"1A1 (Z, A'', A', A1/2)\",\n",
       "  -7.003,\n",
       "  0.0975609756097561,\n",
       "  2015,\n",
       "  'Promiscuous RNA binding ensures effective encapsidation of APOBEC3 proteins by HIV-1'),\n",
       " (-36,\n",
       "  \"1A1 (Z, A', A1/2)\",\n",
       "  -4.974,\n",
       "  0.1793103448275862,\n",
       "  2014,\n",
       "  'Crosslinking-immunoprecipitation (iCLIP) analysis reveals global regulatory roles of hnRNP L'),\n",
       " (-35,\n",
       "  \"1A1 (Z, A'', A', A1/2)\",\n",
       "  -38.138,\n",
       "  0.015873015873015872,\n",
       "  2015,\n",
       "  'Recursive splicing in long vertebrate genes'),\n",
       " (-35,\n",
       "  \"1A1 (Z, A'', A', A1/2)\",\n",
       "  -8.329,\n",
       "  0.015037593984962405,\n",
       "  2016,\n",
       "  'A novel performance evaluation methodology for single-target trackers'),\n",
       " (-35,\n",
       "  \"1A1 (Z, A'', A', A1/2)\",\n",
       "  -3.949,\n",
       "  0.22085889570552147,\n",
       "  2015,\n",
       "  'The CHEMDNER corpus of chemicals and drugs and its annotation principles'),\n",
       " (-35,\n",
       "  \"1A1 (Z, A', A1/2)\",\n",
       "  -4.981,\n",
       "  0.10126582278481013,\n",
       "  2014,\n",
       "  'A combinatorial approach to graphlet counting'),\n",
       " (-33,\n",
       "  \"1A1 (Z, A', A1/2)\",\n",
       "  -2.806,\n",
       "  0.13008130081300814,\n",
       "  2014,\n",
       "  'C [sup] 2SLDS : a WSN-based perishable food shelf-life prediction and LSFO strategy decision support system in cold chain logistics'),\n",
       " (-32,\n",
       "  \"1A1 (Z, A'', A', A1/2)\",\n",
       "  -5.243,\n",
       "  0.01904761904761905,\n",
       "  2015,\n",
       "  'Anticipatory mobile computing : a survey of the state of the art and research challenges'),\n",
       " (-32,\n",
       "  \"1A1 (Z, A', A1/2)\",\n",
       "  -7.87,\n",
       "  0.13903743315508021,\n",
       "  2015,\n",
       "  'Aubergine iCLIP reveals piRNA-dependent decay of mRNAs involved in germ cell development in the early embryo'),\n",
       " (-29,\n",
       "  \"1A1 (Z, A', A1/2)\",\n",
       "  -5.203,\n",
       "  0.11875,\n",
       "  2016,\n",
       "  'Polygenic analysis and targeted improvement of the complex trait of high acetic acid tolerance in the yeast Saccharomyces cerevisiae'),\n",
       " (-29,\n",
       "  \"1A1 (Z, A', A1/2)\",\n",
       "  -4.828,\n",
       "  0.09774436090225563,\n",
       "  2016,\n",
       "  'Visual object tracking performance measures revisited'),\n",
       " (-29,\n",
       "  \"1A1 (Z, A', A1/2)\",\n",
       "  -4.344,\n",
       "  0.23875432525951557,\n",
       "  2015,\n",
       "  'FASTKD2 is an RNA-binding protein required for mitochondrial RNA processing and translation')]"
      ]
     },
     "execution_count": 10,
     "metadata": {},
     "output_type": "execute_result"
    }
   ],
   "source": [
    "ranking[:20]"
   ]
  },
  {
   "cell_type": "code",
   "execution_count": null,
   "metadata": {},
   "outputs": [],
   "source": []
  }
 ],
 "metadata": {
  "kernelspec": {
   "display_name": "Python [default]",
   "language": "python",
   "name": "python3"
  },
  "language_info": {
   "codemirror_mode": {
    "name": "ipython",
    "version": 3
   },
   "file_extension": ".py",
   "mimetype": "text/x-python",
   "name": "python",
   "nbconvert_exporter": "python",
   "pygments_lexer": "ipython3",
   "version": "3.6.3"
  },
  "latex_envs": {
   "LaTeX_envs_menu_present": true,
   "autocomplete": true,
   "bibliofile": "biblio.bib",
   "cite_by": "apalike",
   "current_citInitial": 1,
   "eqLabelWithNumbers": true,
   "eqNumInitial": 1,
   "hotkeys": {
    "equation": "Ctrl-E",
    "itemize": "Ctrl-I"
   },
   "labels_anchors": false,
   "latex_user_defs": false,
   "report_style_numbering": false,
   "user_envs_cfg": false
  },
  "nbTranslate": {
   "displayLangs": [
    "*"
   ],
   "hotkey": "alt-t",
   "langInMainMenu": true,
   "sourceLang": "en",
   "targetLang": "fr",
   "useGoogleTranslate": true
  }
 },
 "nbformat": 4,
 "nbformat_minor": 1
}
