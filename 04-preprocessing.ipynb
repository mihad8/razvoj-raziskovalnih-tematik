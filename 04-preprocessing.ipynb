{
 "cells": [
  {
   "cell_type": "code",
   "execution_count": null,
   "metadata": {},
   "outputs": [],
   "source": [
    "import pandas as pd\n",
    "import pickle\n",
    "import re\n",
    "import numpy as np"
   ]
  },
  {
   "cell_type": "code",
   "execution_count": null,
   "metadata": {},
   "outputs": [],
   "source": [
    "import nltk\n",
    "from nltk import bigrams\n",
    "from nltk.collocations import BigramAssocMeasures, BigramCollocationFinder\n",
    "from nltk.corpus import stopwords\n",
    "from nltk.tokenize import RegexpTokenizer\n",
    "from nltk.stem import WordNetLemmatizer\n",
    "from nltk.tokenize import MWETokenizer"
   ]
  },
  {
   "cell_type": "code",
   "execution_count": null,
   "metadata": {},
   "outputs": [],
   "source": [
    "nltk.download(\"stopwords\")\n",
    "nltk.download(\"wordnet\")"
   ]
  },
  {
   "cell_type": "code",
   "execution_count": null,
   "metadata": {},
   "outputs": [],
   "source": [
    "def remove_phrases(text):\n",
    "    regex = \"(Copyright)?( © )(.+?)(\\\\.)\"\n",
    "    text = re.sub(regex, '', text)\n",
    "    return text.replace(\" Todos los derechos reservados.\", \"\").replace(\" -H.Clout\", \"\")"
   ]
  },
  {
   "cell_type": "code",
   "execution_count": null,
   "metadata": {},
   "outputs": [],
   "source": [
    "stop_words = set(stopwords.words('english'))\n",
    "regex = \"(?u)\\\\b[\\\\w-]+\\\\b\"\n",
    "\n",
    "def tokenize(text):\n",
    "    text = text.lower()\n",
    "    tokenizer = RegexpTokenizer(regex)\n",
    "    tokens = tokenizer.tokenize(text)\n",
    "    mwe_tokenizer = MWETokenizer([('u', 's', 'a'), ('u', 's'), ('b', 'b')], separator='')\n",
    "    tokens = mwe_tokenizer.tokenize(tokens)\n",
    "    tokens = [t for t in tokens if t not in stop_words and not re.match(\"[0-9]\", t)]\n",
    "    return tokens"
   ]
  },
  {
   "cell_type": "code",
   "execution_count": null,
   "metadata": {},
   "outputs": [],
   "source": [
    "def lemmatize(text):\n",
    "    wordnet_lemmatizer = WordNetLemmatizer()\n",
    "    return [wordnet_lemmatizer.lemmatize(t) for t in text]"
   ]
  },
  {
   "cell_type": "code",
   "execution_count": null,
   "metadata": {},
   "outputs": [],
   "source": [
    "def remove_stopwords(text, to_ignore):\n",
    "    return [token for token in text if token not in to_ignore]"
   ]
  },
  {
   "cell_type": "code",
   "execution_count": null,
   "metadata": {},
   "outputs": [],
   "source": [
    "def bgrams(text, lexicon):\n",
    "    for doc in text:\n",
    "        doc.extend([i + \" \" + j for i, j in list(bigrams(doc)) if i + \" \" + j in lexicon]) # if i != j ?\n",
    "    return text"
   ]
  },
  {
   "cell_type": "code",
   "execution_count": null,
   "metadata": {},
   "outputs": [],
   "source": [
    "def remove_letters(text):\n",
    "    return [token for token in text if len(token) > 1]"
   ]
  },
  {
   "cell_type": "code",
   "execution_count": null,
   "metadata": {},
   "outputs": [],
   "source": [
    "def preprocess(df, to_ignore=None, save_to_file=None, bigram_min_freq=10, take_top_bigrams=100):\n",
    "    if to_ignore is None:\n",
    "        # use default\n",
    "        to_ignore = ignore_words\n",
    "\n",
    "    new_df = df\n",
    "    # remove instances with empty abstracts\n",
    "    new_df = new_df[new_df.Abstract != '']\n",
    "    new_df.reset_index(drop=True, inplace=True)\n",
    "    \n",
    "    # remove copyright phrases\n",
    "    new_df['Abstract'] = new_df['Abstract'].apply(remove_phrases)\n",
    "    \n",
    "    # tokenize\n",
    "    tokens = [tokenize(t) for t in new_df['Abstract']]\n",
    "       \n",
    "    # lemmatize\n",
    "    tokens = [lemmatize(t) for t in tokens]\n",
    "    \n",
    "    # remove additional stop words\n",
    "    tokens = [remove_stopwords(t, to_ignore) for t in tokens]\n",
    "    \n",
    "    # remove words with only one letter\n",
    "    tokens = [remove_letters(t) for t in tokens]\n",
    "\n",
    "    # find bigrams\n",
    "    bigram_measures = BigramAssocMeasures()\n",
    "    finder = BigramCollocationFinder.from_documents(tokens)\n",
    "    finder.apply_freq_filter(bigram_min_freq)\n",
    "    bigram_lexicon = [i + \" \" + j for i, j in finder.nbest(bigram_measures.pmi, take_top_bigrams)]\n",
    "\n",
    "    tokens = bgrams(tokens, bigram_lexicon)\n",
    "    new_df['tokens'] = tokens\n",
    "       \n",
    "    if save_to_file:\n",
    "        new_df.to_csv(save_to_file, index=False)       \n",
    "    \n",
    "    return new_df['tokens'], new_df, bigram_lexicon"
   ]
  },
  {
   "cell_type": "markdown",
   "metadata": {},
   "source": [
    "### Word Frequencies\n",
    "\n",
    "Find most frequent words in the corpus."
   ]
  },
  {
   "cell_type": "code",
   "execution_count": null,
   "metadata": {},
   "outputs": [],
   "source": [
    "from nltk.probability import FreqDist\n",
    "\n",
    "def word_frequencies(tokens):\n",
    "    flat_tokens = [t for doc in tokens for t in doc]\n",
    "    fdist = FreqDist(flat_tokens)\n",
    "    return fdist"
   ]
  },
  {
   "cell_type": "markdown",
   "metadata": {},
   "source": [
    "### Context of words\n",
    "\n",
    "Find common contexts where the words from the list frequently occur."
   ]
  },
  {
   "cell_type": "code",
   "execution_count": null,
   "metadata": {},
   "outputs": [],
   "source": [
    "from nltk import Text\n",
    "\n",
    "def word_contexts(tokens, words, num=20):\n",
    "    flat_tokens = [t for doc in tokens for t in doc]\n",
    "    text = Text(flat_tokens)   \n",
    "    return text.common_contexts(words, num)"
   ]
  }
 ],
 "metadata": {
  "kernelspec": {
   "display_name": "Python 3",
   "language": "python",
   "name": "python3"
  },
  "language_info": {
   "codemirror_mode": {
    "name": "ipython",
    "version": 3
   },
   "file_extension": ".py",
   "mimetype": "text/x-python",
   "name": "python",
   "nbconvert_exporter": "python",
   "pygments_lexer": "ipython3",
   "version": "3.6.8"
  },
  "latex_envs": {
   "LaTeX_envs_menu_present": true,
   "autocomplete": true,
   "bibliofile": "biblio.bib",
   "cite_by": "apalike",
   "current_citInitial": 1,
   "eqLabelWithNumbers": true,
   "eqNumInitial": 1,
   "hotkeys": {
    "equation": "Ctrl-E",
    "itemize": "Ctrl-I"
   },
   "labels_anchors": false,
   "latex_user_defs": false,
   "report_style_numbering": false,
   "user_envs_cfg": false
  },
  "nbTranslate": {
   "displayLangs": [
    "*"
   ],
   "hotkey": "alt-t",
   "langInMainMenu": true,
   "sourceLang": "en",
   "targetLang": "fr",
   "useGoogleTranslate": true
  }
 },
 "nbformat": 4,
 "nbformat_minor": 2
}
