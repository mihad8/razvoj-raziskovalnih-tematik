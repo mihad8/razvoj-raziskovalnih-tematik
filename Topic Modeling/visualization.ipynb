{
 "cells": [
  {
   "cell_type": "code",
   "execution_count": null,
   "metadata": {},
   "outputs": [],
   "source": [
    "import gensim\n",
    "import numpy as np\n",
    "import pandas as pd\n",
    "\n",
    "import itertools\n",
    "\n",
    "import matplotlib.pyplot as plt\n",
    "import seaborn as sns"
   ]
  },
  {
   "cell_type": "code",
   "execution_count": null,
   "metadata": {},
   "outputs": [],
   "source": [
    "def add_topics_vector(corpus, ldamodel):\n",
    "    all_topics_csr = gensim.matutils.corpus2csc(ldamodel.get_document_topics(corpus))\n",
    "    all_topics_numpy = all_topics_csr.T.toarray()\n",
    "\n",
    "    topic_labels = ['Topic {}'.format(i+1) for i in range(all_topics_numpy.shape[1])]\n",
    "    topic_vectors = pd.DataFrame(all_topics_numpy, columns=topic_labels)\n",
    "\n",
    "    return topic_vectors"
   ]
  },
  {
   "cell_type": "code",
   "execution_count": null,
   "metadata": {},
   "outputs": [],
   "source": [
    "def visualize(topic_vectors):\n",
    "    plt.figure(figsize=(6, 15))\n",
    "    plt.title('Document topic heatmap')\n",
    "    hm = sns.heatmap(topic_vectors) #, xticklabels=ind)\n",
    "\n",
    "    cm = sns.clustermap(topic_vectors, col_cluster=True, figsize=(6, 15))\n",
    "    cm.fig.suptitle('Document topic heatmap - clustered') \n",
    "\n",
    "    return hm, cm"
   ]
  },
  {
   "cell_type": "code",
   "execution_count": null,
   "metadata": {},
   "outputs": [],
   "source": [
    "def get_datetime(topic_vectors, data):\n",
    "    topic_vectors = pd.concat([topic_vectors, data['Date']], axis=1)\n",
    "    topic_vectors['Date'] = pd.to_datetime(topic_vectors['Date'])\n",
    "    topic_vectors = topic_vectors.set_index('Date')\n",
    "    topic_vectors.sort_index(inplace=True)\n",
    "    return topic_vectors"
   ]
  },
  {
   "cell_type": "code",
   "execution_count": null,
   "metadata": {},
   "outputs": [],
   "source": [
    "def heat_map_time(start_date, end_date, data):\n",
    "    subset = data.loc[start_date : end_date]\n",
    "    ind = list(data)\n",
    "    time_cm = sns.clustermap(subset[ind], col_cluster=False)\n",
    "    return time_cm"
   ]
  },
  {
   "cell_type": "code",
   "execution_count": null,
   "metadata": {},
   "outputs": [],
   "source": [
    "def get_dominant_topic(ldamodel, corpus, data):\n",
    "    sent_topics_df = pd.DataFrame()\n",
    "\n",
    "    for i, row in enumerate(ldamodel[corpus]):\n",
    "        row = sorted(row, key=lambda x: (x[1]), reverse=True)\n",
    "        for j, (topic_num, prop_topic) in enumerate(row):\n",
    "            if j == 0:\n",
    "                wp = ldamodel.show_topic(topic_num)\n",
    "                topic_keywords = \", \".join([word for word, prop in wp])\n",
    "                sent_topics_df = sent_topics_df.append(pd.Series([int(topic_num), \n",
    "                                                                  round(prop_topic,4), \n",
    "                                                                  topic_keywords]), \n",
    "                                                       ignore_index=True)\n",
    "            else:\n",
    "                break\n",
    "    sent_topics_df.columns = ['Dominant_Topic', 'Perc_Contribution', 'Topic_Keywords']\n",
    "\n",
    "    sent_topics_df = pd.concat([sent_topics_df, data['Abstract'], data['Title']], axis=1)\n",
    "    sent_topics_df.reset_index(inplace=True)\n",
    "    sent_topics_df.columns = ['Document_No', 'Dominant_Topic', 'Topic_Perc_Contrib', 'Keywords', 'Text', 'Title']\n",
    "    return sent_topics_df"
   ]
  },
  {
   "cell_type": "code",
   "execution_count": null,
   "metadata": {},
   "outputs": [],
   "source": [
    "def get_representative_doc(sent_topics_df):\n",
    "    repr_doc = pd.DataFrame()\n",
    "\n",
    "    sent_topics_outdf_grpd = sent_topics_df.groupby('Dominant_Topic')\n",
    "\n",
    "    for i, grp in sent_topics_outdf_grpd:\n",
    "        repr_doc = pd.concat([repr_doc, grp.sort_values(['Topic_Perc_Contrib'], ascending=[0]).head(1)], axis=0)\n",
    " \n",
    "    repr_doc.reset_index(drop=True, inplace=True)\n",
    "    repr_doc.columns = ['Document_No', 'Topic_Num', 'Topic_Perc_Contrib', 'Keywords', 'Text', 'Title']\n",
    "    return repr_doc"
   ]
  },
  {
   "cell_type": "code",
   "execution_count": null,
   "metadata": {},
   "outputs": [],
   "source": [
    "def get_topic_distribution(sent_topics_df, repr_doc):\n",
    "    topic_counts = sent_topics_df['Dominant_Topic'].value_counts()\n",
    "    topic_contribution = round(topic_counts/topic_counts.sum(), 4)\n",
    "    topic_num_keywords = repr_doc[['Topic_Num', 'Keywords']]\n",
    "\n",
    "    df_dominant_topics = pd.concat([topic_num_keywords, topic_counts, topic_contribution], axis=1)\n",
    "    df_dominant_topics.columns = ['Topic_Num', 'Topic_Keywords', 'Num_Documents', 'Perc_Documents']\n",
    "\n",
    "    return df_dominant_topics"
   ]
  }
 ],
 "metadata": {
  "kernelspec": {
   "display_name": "Python 3",
   "language": "python",
   "name": "python3"
  },
  "language_info": {
   "codemirror_mode": {
    "name": "ipython",
    "version": 3
   },
   "file_extension": ".py",
   "mimetype": "text/x-python",
   "name": "python",
   "nbconvert_exporter": "python",
   "pygments_lexer": "ipython3",
   "version": "3.7.2"
  },
  "latex_envs": {
   "LaTeX_envs_menu_present": true,
   "autocomplete": true,
   "bibliofile": "biblio.bib",
   "cite_by": "apalike",
   "current_citInitial": 1,
   "eqLabelWithNumbers": true,
   "eqNumInitial": 1,
   "hotkeys": {
    "equation": "Ctrl-E",
    "itemize": "Ctrl-I"
   },
   "labels_anchors": false,
   "latex_user_defs": false,
   "report_style_numbering": false,
   "user_envs_cfg": false
  },
  "nbTranslate": {
   "displayLangs": [
    "*"
   ],
   "hotkey": "alt-t",
   "langInMainMenu": true,
   "sourceLang": "en",
   "targetLang": "fr",
   "useGoogleTranslate": true
  }
 },
 "nbformat": 4,
 "nbformat_minor": 2
}
