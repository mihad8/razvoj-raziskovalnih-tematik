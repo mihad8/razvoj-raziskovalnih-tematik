{
 "cells": [
  {
   "cell_type": "code",
   "execution_count": 1,
   "metadata": {},
   "outputs": [],
   "source": [
    "from xml.dom import minidom\n",
    "import pandas as pd\n",
    "import numpy as np\n",
    "import os\n",
    "import time\n",
    "from datetime import datetime\n",
    "import gzip\n",
    "import mechanicalsoup\n",
    "import urllib\n",
    "import requests\n",
    "from bs4 import BeautifulSoup\n",
    "import json"
   ]
  },
  {
   "cell_type": "code",
   "execution_count": 2,
   "metadata": {},
   "outputs": [],
   "source": [
    "url_start = 'http://www.scopus.com/inward/record.url?partnerID=2dRBettD&eid=2-s2.0-85061065196'\n",
    "response = requests.get(url_start)\n",
    "\n",
    "soup = BeautifulSoup(response.text, 'html.parser')"
   ]
  },
  {
   "cell_type": "code",
   "execution_count": 3,
   "metadata": {},
   "outputs": [],
   "source": [
    "arr = soup.find_all('p')\n",
    "abstract = str(arr[1])\n",
    "abstract = abstract[abstract.find('>') + 1:-4]"
   ]
  },
  {
   "cell_type": "code",
   "execution_count": 4,
   "metadata": {},
   "outputs": [
    {
     "data": {
      "text/plain": [
       "[<li>\n",
       " <span class=\"previewTxt\" title=\"Show author details: Subscription required\">Marolt, M.</span><span class=\"disabled\" title=\"Email this author: Subscription required\"></span><span class=\"guestView\">,</span>\n",
       " </li>, <li>\n",
       " <span class=\"previewTxt\" title=\"Show author details: Subscription required\">Bohak, C.</span><span class=\"disabled\" title=\"Email this author: Subscription required\"></span><span class=\"guestView\">,</span>\n",
       " </li>, <li>\n",
       " <span class=\"previewTxt\" title=\"Show author details: Subscription required\">Kavčič, A.</span><span class=\"disabled\" title=\"Email this author: Subscription required\"></span><span class=\"guestView\">,</span>\n",
       " </li>, <li>\n",
       " <span class=\"previewTxt\" title=\"Show author details: Subscription required\">Pesek, M.</span><span class=\"disabled\" title=\"Email this author: Subscription required\"></span>\n",
       " </li>, <li>\n",
       " <a name=\"corrAuthorTitle\"><span aria-hidden=\"true\" class=\"ico-person\"></span><span class=\"sr-only\">View Correspondence (jump link)</span></a>\n",
       " </li>]"
      ]
     },
     "execution_count": 4,
     "metadata": {},
     "output_type": "execute_result"
    }
   ],
   "source": [
    "arr = soup.find_all('ul')\n",
    "lines = arr[4].find_all('li')\n",
    "lines"
   ]
  },
  {
   "cell_type": "code",
   "execution_count": 13,
   "metadata": {},
   "outputs": [
    {
     "data": {
      "text/plain": [
       "['Marolt, M.', 'Bohak, C.', 'Kavčič, A.', 'Pesek, M.']"
      ]
     },
     "execution_count": 13,
     "metadata": {},
     "output_type": "execute_result"
    }
   ],
   "source": [
    "authors = []\n",
    "\n",
    "for line in lines:\n",
    "    line = str(line)\n",
    "    if(len(line[line.find('\\\">')+2:line.find('.')+1])):\n",
    "        authors.append(line[line.find('\\\">')+2:line.find('.')+1])\n",
    "    \n",
    "authors"
   ]
  },
  {
   "cell_type": "code",
   "execution_count": 6,
   "metadata": {},
   "outputs": [
    {
     "data": {
      "text/plain": [
       "[<h2 class=\"h3\" xmlns:localzn=\"xalan://com.elsevier.scopus.biz.util.LocalizationHelper\">Automatic segmentation of ethnomusicological field recordings<span>(Article)</span><span>(<span class=\"text-nowrap\" id=\"openAccessNotice\">Open Access</span>)</span>\n",
       " </h2>]"
      ]
     },
     "execution_count": 6,
     "metadata": {},
     "output_type": "execute_result"
    }
   ],
   "source": [
    "arr = soup.find_all('h2')\n",
    "arr"
   ]
  },
  {
   "cell_type": "code",
   "execution_count": 7,
   "metadata": {},
   "outputs": [
    {
     "data": {
      "text/plain": [
       "'Automatic segmentation of ethnomusicological field recordings'"
      ]
     },
     "execution_count": 7,
     "metadata": {},
     "output_type": "execute_result"
    }
   ],
   "source": [
    "title = str(arr)\n",
    "title = title[title.find('\\\">')+2:title.find('<span>')]\n",
    "title"
   ]
  },
  {
   "cell_type": "code",
   "execution_count": 8,
   "metadata": {},
   "outputs": [
    {
     "data": {
      "text/plain": [
       "b'{\"title\": \"Automatic segmentation of ethnomusicological field recordings\", \"authors\": [\"Marolt, M.\", \"Bohak, C.\", \"Kav\\xc4\\x8di\\xc4\\x8d, A.\", \"Pesek, M.\"], \"abstract\": \"The article presents a method for segmentation of ethnomusicological field recordings. Field recordings are integral documents of folk music performances captured in the field, and typically contain performances, intertwined with interviews and commentaries. As these are live recordings, captured in non-ideal conditions, they usually contain significant background noise. We present a segmentation method that segments field recordings into individual units labelled as speech, solo singing, choir singing, and instrumentals. Classification is based on convolutional deep networks, and is augmented with a probabilistic approach for segmentation. We describe the dataset gathered for the task and the tools developed for gathering the reference annotations. We outline a deep network architecture based on residual modules for labelling short audio segments and compare it to the more standard feature based approaches, where an improvement in classification accuracy of over 10% was obtained. We also present the SeFiRe segmentation tool that incorporates the presented segmentation method. \\xc2\\xa9 2019 by the authors.\"}'"
      ]
     },
     "execution_count": 8,
     "metadata": {},
     "output_type": "execute_result"
    }
   ],
   "source": [
    "data = {}\n",
    "data['title'] = title\n",
    "data['authors'] = authors\n",
    "data['abstract'] = abstract\n",
    "json_data = json.dumps(data, ensure_ascii=False).encode('utf8')\n",
    "json_data"
   ]
  },
  {
   "cell_type": "code",
   "execution_count": 14,
   "metadata": {},
   "outputs": [
    {
     "data": {
      "text/plain": [
       "{'title': 'Automatic segmentation of ethnomusicological field recordings',\n",
       " 'authors': ['Marolt, M.', 'Bohak, C.', 'Kavčič, A.', 'Pesek, M.'],\n",
       " 'abstract': 'The article presents a method for segmentation of ethnomusicological field recordings. Field recordings are integral documents of folk music performances captured in the field, and typically contain performances, intertwined with interviews and commentaries. As these are live recordings, captured in non-ideal conditions, they usually contain significant background noise. We present a segmentation method that segments field recordings into individual units labelled as speech, solo singing, choir singing, and instrumentals. Classification is based on convolutional deep networks, and is augmented with a probabilistic approach for segmentation. We describe the dataset gathered for the task and the tools developed for gathering the reference annotations. We outline a deep network architecture based on residual modules for labelling short audio segments and compare it to the more standard feature based approaches, where an improvement in classification accuracy of over 10% was obtained. We also present the SeFiRe segmentation tool that incorporates the presented segmentation method. © 2019 by the authors.'}"
      ]
     },
     "execution_count": 14,
     "metadata": {},
     "output_type": "execute_result"
    }
   ],
   "source": [
    "data"
   ]
  }
 ],
 "metadata": {
  "kernelspec": {
   "display_name": "Python 3",
   "language": "python",
   "name": "python3"
  },
  "language_info": {
   "codemirror_mode": {
    "name": "ipython",
    "version": 3
   },
   "file_extension": ".py",
   "mimetype": "text/x-python",
   "name": "python",
   "nbconvert_exporter": "python",
   "pygments_lexer": "ipython3",
   "version": "3.7.2"
  }
 },
 "nbformat": 4,
 "nbformat_minor": 2
}
