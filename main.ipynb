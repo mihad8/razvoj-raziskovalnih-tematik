{
 "cells": [
  {
   "cell_type": "markdown",
   "metadata": {},
   "source": [
    "## Load API keys needed for Elsevier and Dropbox\n",
    "\n",
    "Set the API keys in [api_keys.ipynb](api_keys.ipynb)."
   ]
  },
  {
   "cell_type": "code",
   "execution_count": 1,
   "metadata": {},
   "outputs": [],
   "source": [
    "#%run api_keys.ipynb"
   ]
  },
  {
   "cell_type": "markdown",
   "metadata": {},
   "source": [
    "### Connect to Scopus"
   ]
  },
  {
   "cell_type": "code",
   "execution_count": 2,
   "metadata": {},
   "outputs": [],
   "source": [
    "#%run scopus.ipynb"
   ]
  },
  {
   "cell_type": "markdown",
   "metadata": {},
   "source": [
    "## Obtain records"
   ]
  },
  {
   "cell_type": "code",
   "execution_count": 3,
   "metadata": {},
   "outputs": [],
   "source": [
    "#scopus_query = \"tourism+AND+innovation\""
   ]
  },
  {
   "cell_type": "code",
   "execution_count": 4,
   "metadata": {},
   "outputs": [],
   "source": [
    "#data = scopus_retrive(scopus_query, save_to_file='tmp_all.csv')\n",
    "#print('Documents loaded: {}'.format(len(data)))"
   ]
  },
  {
   "cell_type": "markdown",
   "metadata": {},
   "source": [
    "## Preprocess"
   ]
  },
  {
   "cell_type": "code",
   "execution_count": 5,
   "metadata": {},
   "outputs": [
    {
     "name": "stdout",
     "output_type": "stream",
     "text": [
      "[nltk_data] Downloading package stopwords to\n",
      "[nltk_data]     /home/raztematike/nltk_data...\n",
      "[nltk_data]   Package stopwords is already up-to-date!\n",
      "[nltk_data] Downloading package wordnet to\n",
      "[nltk_data]     /home/raztematike/nltk_data...\n",
      "[nltk_data]   Package wordnet is already up-to-date!\n"
     ]
    }
   ],
   "source": [
    "%run 04-preprocessing.ipynb"
   ]
  },
  {
   "cell_type": "code",
   "execution_count": 6,
   "metadata": {},
   "outputs": [],
   "source": [
    "ignore_words = [\n",
    "    \"finding\", \"research\", \"purpose\", \"study\", \"methodology\", \"result\", \n",
    "    \"analysis\", \"method\", \"paper\", \"literature\", \"tourism\", \"tourist\", \"innovation\",\n",
    "    \"also\", \"within\", \"whereas\", \"would\", \"br\", \"elsevier\"\n",
    "]"
   ]
  },
  {
   "cell_type": "code",
   "execution_count": 7,
   "metadata": {},
   "outputs": [
    {
     "name": "stdout",
     "output_type": "stream",
     "text": [
      "Documents kept after preprocessing: 1782\n"
     ]
    }
   ],
   "source": [
    "data = pd.read_json(open('data/scopus_data_2019-08-26-204942.json'), encoding='utf-8')\n",
    "\n",
    "documents_tokens, data_preprocessed, bigram_lexicon = preprocess(data, to_ignore=ignore_words, save_to_file='tmp_preprocessed.csv')\n",
    "print('Documents kept after preprocessing: {}'.format(len(documents_tokens)))"
   ]
  },
  {
   "cell_type": "markdown",
   "metadata": {},
   "source": [
    "## Basic statistics"
   ]
  },
  {
   "cell_type": "code",
   "execution_count": 8,
   "metadata": {},
   "outputs": [],
   "source": [
    "import matplotlib.pyplot as plt\n",
    "%matplotlib inline"
   ]
  },
  {
   "cell_type": "markdown",
   "metadata": {},
   "source": [
    "### Word Frequencies\n",
    "\n",
    "Find most frequent words in the corpus."
   ]
  },
  {
   "cell_type": "code",
   "execution_count": 9,
   "metadata": {},
   "outputs": [],
   "source": [
    "fdist = word_frequencies(documents_tokens)"
   ]
  },
  {
   "cell_type": "markdown",
   "metadata": {},
   "source": [
    "Change `show_top_n` to adjust the number of words to display."
   ]
  },
  {
   "cell_type": "code",
   "execution_count": 10,
   "metadata": {},
   "outputs": [
    {
     "data": {
      "image/png": "[encoded data removed]",
      "text/plain": [
       "<Figure size 216x432 with 1 Axes>"
      ]
     },
     "metadata": {
      "needs_background": "light"
     },
     "output_type": "display_data"
    }
   ],
   "source": [
    "show_top_n = 30\n",
    "\n",
    "# calc\n",
    "mc = fdist.most_common(show_top_n)\n",
    "\n",
    "# plot\n",
    "mc = mc[::-1] ; ws, fs = zip(*mc) ; ws = ['{} ({})'.format(w, f) for w, f in mc]\n",
    "plt.figure(figsize=(3, 6*show_top_n/30))\n",
    "plt.box(False); plt.tick_params(top=False, bottom=True, left=False, right=False, labelleft=True, labelbottom=True)\n",
    "plt.barh(range(len(ws)), fs) ; plt.yticks(range(len(ws)), ws); plt.ylim(-1, len(ws));"
   ]
  },
  {
   "cell_type": "markdown",
   "metadata": {},
   "source": [
    "### Context of words\n",
    "\n",
    "Find common contexts (co-occurring words) where the words from the list appear."
   ]
  },
  {
   "cell_type": "code",
   "execution_count": 11,
   "metadata": {},
   "outputs": [
    {
     "name": "stdout",
     "output_type": "stream",
     "text": [
      "('The following word(s) were not found:', 'hotel technology')\n"
     ]
    }
   ],
   "source": [
    "word_list = ['hotel', 'technology']\n",
    "\n",
    "context = word_contexts(documents_tokens, word_list, num=20)"
   ]
  },
  {
   "cell_type": "markdown",
   "metadata": {},
   "source": [
    "## Topic discovery"
   ]
  },
  {
   "cell_type": "code",
   "execution_count": 12,
   "metadata": {},
   "outputs": [],
   "source": [
    "%run \"Topic Modeling/pyldavis.ipynb\""
   ]
  },
  {
   "cell_type": "markdown",
   "metadata": {},
   "source": [
    "### Show topics and most frequently used words in each topic\n",
    "Set `num_topics` to the expected number of topics in the corpus.\n",
    "\n",
    "Set `num_words` to control the number of ***most frequent*** words listed for each topic."
   ]
  },
  {
   "cell_type": "code",
   "execution_count": 13,
   "metadata": {
    "scrolled": false
   },
   "outputs": [
    {
     "name": "stdout",
     "output_type": "stream",
     "text": [
      "Topic 1:\n",
      "   \"disease\": 0.010\n",
      "   \"patient\": 0.010\n",
      "   \"protein\": 0.007\n",
      "   \"rna\": 0.006\n",
      "   \"binding\": 0.005\n",
      "   \"site\": 0.005\n",
      "   \"diagnostic\": 0.004\n",
      "   \"treatment\": 0.004\n",
      "   \"pd\": 0.004\n",
      "   \"symptom\": 0.004\n",
      "Topic 2:\n",
      "   \"data\": 0.030\n",
      "   \"gene\": 0.012\n",
      "   \"mining\": 0.007\n",
      "   \"approach\": 0.006\n",
      "   \"network\": 0.006\n",
      "   \"different\": 0.006\n",
      "   \"set\": 0.005\n",
      "   \"parser\": 0.005\n",
      "   \"interaction\": 0.005\n",
      "   \"user\": 0.004\n",
      "Topic 3:\n",
      "   \"system\": 0.010\n",
      "   \"patient\": 0.009\n",
      "   \"process\": 0.009\n",
      "   \"development\": 0.007\n",
      "   \"management\": 0.007\n",
      "   \"software\": 0.007\n",
      "   \"business\": 0.005\n",
      "   \"approach\": 0.005\n",
      "   \"project\": 0.005\n",
      "   \"information\": 0.004\n",
      "Topic 4:\n",
      "   \"network\": 0.017\n",
      "   \"graph\": 0.010\n",
      "   \"algorithm\": 0.006\n",
      "   \"application\": 0.006\n",
      "   \"service\": 0.006\n",
      "   \"data\": 0.005\n",
      "   \"present\": 0.005\n",
      "   \"approach\": 0.005\n",
      "   \"model\": 0.005\n",
      "   \"information\": 0.004\n",
      "Topic 5:\n",
      "   \"image\": 0.013\n",
      "   \"algorithm\": 0.009\n",
      "   \"recognition\": 0.008\n",
      "   \"approach\": 0.007\n",
      "   \"detection\": 0.007\n",
      "   \"present\": 0.007\n",
      "   \"st\": 0.006\n",
      "   \"using\": 0.006\n",
      "   \"model\": 0.006\n",
      "   \"based\": 0.006\n",
      "Topic 6:\n",
      "   \"model\": 0.008\n",
      "   \"data\": 0.007\n",
      "   \"chess\": 0.006\n",
      "   \"matrix\": 0.006\n",
      "   \"used\": 0.006\n",
      "   \"image\": 0.005\n",
      "   \"test\": 0.005\n",
      "   \"show\": 0.004\n",
      "   \"set\": 0.004\n",
      "   \"graph\": 0.004\n",
      "Topic 7:\n",
      "   \"model\": 0.017\n",
      "   \"learning\": 0.014\n",
      "   \"data\": 0.012\n",
      "   \"system\": 0.012\n",
      "   \"approach\": 0.011\n",
      "   \"problem\": 0.008\n",
      "   \"machine\": 0.007\n",
      "   \"used\": 0.007\n",
      "   \"present\": 0.006\n",
      "   \"algorithm\": 0.006\n"
     ]
    }
   ],
   "source": [
    "num_topics = 7\n",
    "num_words = 10\n",
    "\n",
    "corpus, dictionary, ldamodel = pyldavis_prep(documents_tokens, num_topics=num_topics, num_words=num_words)"
   ]
  },
  {
   "cell_type": "markdown",
   "metadata": {},
   "source": [
    "### Interactive visualization of topics\n",
    "\n",
    "The visualization shows topics as circles in a 2D plot. This is an approximation of topic similarity. The more similar two topics are, the closer they will be in the plot. The size of the circle corresponds to the presence of the topic in the corpus.\n",
    "\n",
    "The visualization also shows the top 30 ***most relevant*** terms (words) for each topic. If a word is frequent in a topic, but also in the entire corpus, it will get a lower relevance score than a word that is frequent in a topic alone. \n",
    "\n",
    "***Relevance*** of a word in a topic is a weighted measure of the word probability within the topic and the word lift (the ratio of the word probability within the topic to its probability in the entire corpus). \n",
    "\n",
    "***Saliency*** refers to the importance of each word for a topic.\n",
    "\n",
    "\n",
    "How to interact with the visualization:\n",
    "1. Select a topic by clicking on a circle in the plot or by selecting a topic number in the control area at the top.\n",
    "\n",
    "2. On the right, you see the most relevant terms for the selected topic. Adjust the relevance slider. For `lambda = 0` it is equal to the lift of the word, for `lambda = 1` it is equal to probability of the word within the topic.\n",
    "\n",
    "3. If you click on a word in the histogram on the right, topic circles will resize according to the ***saliency*** of the term in the topic."
   ]
  },
  {
   "cell_type": "code",
   "execution_count": 14,
   "metadata": {
    "scrolled": false
   },
   "outputs": [
    {
     "data": {
      "text/html": [
       "\n",
       "<link rel=\"stylesheet\" type=\"text/css\" href=\"https://cdn.rawgit.com/bmabey/pyLDAvis/files/ldavis.v1.0.0.css\">\n",
       "\n",
       "\n",
       "<div id=\"ldavis_el69911398806520929049996862638\"></div>\n",
       "<script type=\"text/javascript\">\n",
       "\n",
       "var ldavis_el69911398806520929049996862638_data = {\"mdsDat\": {\"x\": [-0.21497504707631557, -0.014589606987642917, -0.002896084607142767, 0.06525314565567122, 0.06626088706072064, 0.03720253165829081, 0.06374417429641879], \"y\": [0.02713471989851909, -0.038003868080880784, -0.12194441511313531, -0.032464477860733955, 0.05525734201788411, 0.1367852405779071, -0.026764541439560356], \"topics\": [1, 2, 3, 4, 5, 6, 7], \"cluster\": [1, 1, 1, 1, 1, 1, 1], \"Freq\": [8.69577407836914, 8.466117858886719, 16.00954818725586, 15.716025352478027, 17.364484786987305, 6.748195171356201, 26.99985122680664]}, \"tinfo\": {\"Category\": [\"Default\", \"Default\", \"Default\", \"Default\", \"Default\", \"Default\", \"Default\", \"Default\", \"Default\", \"Default\", \"Default\", \"Default\", \"Default\", \"Default\", \"Default\", \"Default\", \"Default\", \"Default\", \"Default\", \"Default\", \"Default\", \"Default\", \"Default\", \"Default\", \"Default\", \"Default\", \"Default\", \"Default\", \"Default\", \"Default\", \"Topic1\", \"Topic1\", \"Topic1\", \"Topic1\", \"Topic1\", \"Topic1\", \"Topic1\", \"Topic1\", \"Topic1\", \"Topic1\", \"Topic1\", \"Topic1\", \"Topic1\", \"Topic1\", \"Topic1\", \"Topic1\", \"Topic1\", \"Topic1\", \"Topic1\", \"Topic1\", \"Topic1\", \"Topic1\", \"Topic1\", \"Topic1\", \"Topic1\", \"Topic1\", \"Topic1\", \"Topic1\", \"Topic1\", \"Topic1\", \"Topic1\", \"Topic1\", \"Topic1\", \"Topic1\", \"Topic1\", \"Topic1\", \"Topic1\", \"Topic1\", \"Topic1\", \"Topic1\", \"Topic1\", \"Topic1\", \"Topic1\", \"Topic1\", \"Topic1\", \"Topic1\", \"Topic1\", \"Topic1\", \"Topic1\", \"Topic1\", \"Topic1\", \"Topic1\", \"Topic1\", \"Topic1\", \"Topic1\", \"Topic1\", \"Topic1\", \"Topic1\", \"Topic1\", \"Topic2\", \"Topic2\", \"Topic2\", \"Topic2\", \"Topic2\", \"Topic2\", \"Topic2\", \"Topic2\", \"Topic2\", \"Topic2\", \"Topic2\", \"Topic2\", \"Topic2\", \"Topic2\", \"Topic2\", \"Topic2\", \"Topic2\", \"Topic2\", \"Topic2\", \"Topic2\", \"Topic2\", \"Topic2\", \"Topic2\", \"Topic2\", \"Topic2\", \"Topic2\", \"Topic2\", \"Topic2\", \"Topic2\", \"Topic2\", \"Topic2\", \"Topic2\", \"Topic2\", \"Topic2\", \"Topic2\", \"Topic2\", \"Topic2\", \"Topic2\", \"Topic2\", \"Topic2\", \"Topic2\", \"Topic2\", \"Topic2\", \"Topic2\", \"Topic2\", \"Topic2\", \"Topic2\", \"Topic2\", \"Topic2\", \"Topic2\", \"Topic2\", \"Topic2\", \"Topic2\", \"Topic2\", \"Topic2\", \"Topic2\", \"Topic2\", \"Topic2\", \"Topic2\", \"Topic2\", \"Topic2\", \"Topic2\", \"Topic2\", \"Topic2\", \"Topic2\", \"Topic2\", \"Topic3\", \"Topic3\", \"Topic3\", \"Topic3\", \"Topic3\", \"Topic3\", \"Topic3\", \"Topic3\", \"Topic3\", \"Topic3\", \"Topic3\", \"Topic3\", \"Topic3\", \"Topic3\", \"Topic3\", \"Topic3\", \"Topic3\", \"Topic3\", \"Topic3\", \"Topic3\", \"Topic3\", \"Topic3\", \"Topic3\", \"Topic3\", \"Topic3\", \"Topic3\", \"Topic3\", \"Topic3\", \"Topic3\", \"Topic3\", \"Topic3\", \"Topic3\", \"Topic3\", \"Topic3\", \"Topic3\", \"Topic3\", \"Topic3\", \"Topic3\", \"Topic3\", \"Topic3\", \"Topic3\", \"Topic3\", \"Topic3\", \"Topic3\", \"Topic3\", \"Topic3\", \"Topic3\", \"Topic3\", \"Topic3\", \"Topic3\", \"Topic3\", \"Topic3\", \"Topic3\", \"Topic3\", \"Topic3\", \"Topic3\", \"Topic3\", \"Topic3\", \"Topic3\", \"Topic3\", \"Topic3\", \"Topic3\", \"Topic3\", \"Topic3\", \"Topic3\", \"Topic3\", \"Topic3\", \"Topic3\", \"Topic3\", \"Topic3\", \"Topic3\", \"Topic3\", \"Topic3\", \"Topic4\", \"Topic4\", \"Topic4\", \"Topic4\", \"Topic4\", \"Topic4\", \"Topic4\", \"Topic4\", \"Topic4\", \"Topic4\", \"Topic4\", \"Topic4\", \"Topic4\", \"Topic4\", \"Topic4\", \"Topic4\", \"Topic4\", \"Topic4\", \"Topic4\", \"Topic4\", \"Topic4\", \"Topic4\", \"Topic4\", \"Topic4\", \"Topic4\", \"Topic4\", \"Topic4\", \"Topic4\", \"Topic4\", \"Topic4\", \"Topic4\", \"Topic4\", \"Topic4\", \"Topic4\", \"Topic4\", \"Topic4\", \"Topic4\", \"Topic4\", \"Topic4\", \"Topic4\", \"Topic4\", \"Topic4\", \"Topic4\", \"Topic4\", \"Topic4\", \"Topic4\", \"Topic4\", \"Topic4\", \"Topic4\", \"Topic4\", \"Topic4\", \"Topic4\", \"Topic4\", \"Topic4\", \"Topic4\", \"Topic4\", \"Topic4\", \"Topic4\", \"Topic4\", \"Topic4\", \"Topic4\", \"Topic4\", \"Topic4\", \"Topic4\", \"Topic4\", \"Topic4\", \"Topic4\", \"Topic4\", \"Topic4\", \"Topic4\", \"Topic4\", \"Topic4\", \"Topic4\", \"Topic4\", \"Topic4\", \"Topic4\", \"Topic4\", \"Topic4\", \"Topic4\", \"Topic4\", \"Topic4\", \"Topic5\", \"Topic5\", \"Topic5\", \"Topic5\", \"Topic5\", \"Topic5\", \"Topic5\", \"Topic5\", \"Topic5\", \"Topic5\", \"Topic5\", \"Topic5\", \"Topic5\", \"Topic5\", \"Topic5\", \"Topic5\", \"Topic5\", \"Topic5\", \"Topic5\", \"Topic5\", \"Topic5\", \"Topic5\", \"Topic5\", \"Topic5\", \"Topic5\", \"Topic5\", \"Topic5\", \"Topic5\", \"Topic5\", \"Topic5\", \"Topic5\", \"Topic5\", \"Topic5\", \"Topic5\", \"Topic5\", \"Topic5\", \"Topic5\", \"Topic5\", \"Topic5\", \"Topic5\", \"Topic5\", \"Topic5\", \"Topic5\", \"Topic5\", \"Topic5\", \"Topic5\", \"Topic5\", \"Topic5\", \"Topic5\", \"Topic5\", \"Topic5\", \"Topic5\", \"Topic5\", \"Topic5\", \"Topic5\", \"Topic5\", \"Topic5\", \"Topic5\", \"Topic5\", \"Topic5\", \"Topic5\", \"Topic5\", \"Topic5\", \"Topic5\", \"Topic5\", \"Topic5\", \"Topic5\", \"Topic5\", \"Topic5\", \"Topic5\", \"Topic5\", \"Topic5\", \"Topic5\", \"Topic5\", \"Topic6\", \"Topic6\", \"Topic6\", \"Topic6\", \"Topic6\", \"Topic6\", \"Topic6\", \"Topic6\", \"Topic6\", \"Topic6\", \"Topic6\", \"Topic6\", \"Topic6\", \"Topic6\", \"Topic6\", \"Topic6\", \"Topic6\", \"Topic6\", \"Topic6\", \"Topic6\", \"Topic6\", \"Topic6\", \"Topic6\", \"Topic6\", \"Topic6\", \"Topic6\", \"Topic6\", \"Topic6\", \"Topic6\", \"Topic6\", \"Topic6\", \"Topic6\", \"Topic6\", \"Topic6\", \"Topic6\", \"Topic6\", \"Topic6\", \"Topic6\", \"Topic6\", \"Topic6\", \"Topic6\", \"Topic6\", \"Topic6\", \"Topic6\", \"Topic6\", \"Topic6\", \"Topic6\", \"Topic6\", \"Topic6\", \"Topic6\", \"Topic6\", \"Topic6\", \"Topic6\", \"Topic6\", \"Topic6\", \"Topic6\", \"Topic6\", \"Topic6\", \"Topic6\", \"Topic6\", \"Topic6\", \"Topic6\", \"Topic6\", \"Topic6\", \"Topic6\", \"Topic6\", \"Topic6\", \"Topic6\", \"Topic7\", \"Topic7\", \"Topic7\", \"Topic7\", \"Topic7\", \"Topic7\", \"Topic7\", \"Topic7\", \"Topic7\", \"Topic7\", \"Topic7\", \"Topic7\", \"Topic7\", \"Topic7\", \"Topic7\", \"Topic7\", \"Topic7\", \"Topic7\", \"Topic7\", \"Topic7\", \"Topic7\", \"Topic7\", \"Topic7\", \"Topic7\", \"Topic7\", \"Topic7\", \"Topic7\", \"Topic7\", \"Topic7\", \"Topic7\", \"Topic7\", \"Topic7\", \"Topic7\", \"Topic7\", \"Topic7\", \"Topic7\", \"Topic7\", \"Topic7\", \"Topic7\", \"Topic7\", \"Topic7\", \"Topic7\", \"Topic7\", \"Topic7\", \"Topic7\", \"Topic7\", \"Topic7\", \"Topic7\", \"Topic7\", \"Topic7\", \"Topic7\", \"Topic7\", \"Topic7\", \"Topic7\", \"Topic7\", \"Topic7\", \"Topic7\", \"Topic7\", \"Topic7\", \"Topic7\", \"Topic7\", \"Topic7\", \"Topic7\", \"Topic7\", \"Topic7\", \"Topic7\", \"Topic7\", \"Topic7\", \"Topic7\", \"Topic7\", \"Topic7\", \"Topic7\", \"Topic7\", \"Topic7\", \"Topic7\"], \"Freq\": [1300.0, 590.0, 477.0, 362.0, 330.0, 214.0, 194.0, 692.0, 164.0, 175.0, 245.0, 124.0, 1193.0, 248.0, 114.0, 273.0, 84.0, 175.0, 196.0, 111.0, 76.0, 68.0, 125.0, 117.0, 714.0, 341.0, 64.0, 147.0, 87.0, 199.0, 44.34157943725586, 28.427473068237305, 27.53975486755371, 30.863800048828125, 24.845144271850586, 23.967636108398438, 24.726247787475586, 53.39875411987305, 17.773317337036133, 51.35823059082031, 16.042741775512695, 26.905790328979492, 15.101049423217773, 55.386497497558594, 13.390776634216309, 71.61275482177734, 79.6109390258789, 13.276501655578613, 10.737823486328125, 14.048293113708496, 10.73599624633789, 10.734415054321289, 10.734075546264648, 14.025799751281738, 10.728402137756348, 10.707985877990723, 25.475603103637695, 18.831741333007812, 8.968338012695312, 8.965194702148438, 55.47447967529297, 41.38934326171875, 23.54503059387207, 18.286115646362305, 90.7913589477539, 39.791656494140625, 69.14006805419922, 33.5498046875, 57.605438232421875, 48.77186584472656, 130.40684509277344, 30.891542434692383, 58.774017333984375, 39.33590316772461, 57.72026443481445, 126.92556762695312, 53.36567306518555, 53.762176513671875, 41.26362609863281, 45.67534255981445, 35.74603271484375, 32.07317352294922, 43.19942092895508, 42.977046966552734, 41.127052307128906, 44.196651458740234, 41.34284210205078, 43.34136962890625, 38.7155647277832, 63.65312957763672, 28.923572540283203, 22.807758331298828, 26.186092376708984, 21.042280197143555, 14.95444393157959, 14.072091102600098, 20.59528160095215, 12.349469184875488, 11.467690467834473, 11.426910400390625, 10.596757888793945, 10.59510612487793, 10.595438003540039, 13.844634056091309, 11.38901138305664, 10.550023078918457, 9.721353530883789, 8.85366439819336, 8.85134220123291, 8.842446327209473, 8.804356575012207, 7.968225479125977, 7.9535298347473145, 19.877153396606445, 31.671451568603516, 10.288902282714844, 16.621509552001953, 7.103209972381592, 7.1020708084106445, 32.69055938720703, 14.465469360351562, 154.00706481933594, 90.1411361694336, 46.98944091796875, 13.761749267578125, 38.54763412475586, 15.496687889099121, 388.6874694824219, 27.189687728881836, 26.637184143066406, 18.447263717651367, 46.044437408447266, 59.96512222290039, 19.53717803955078, 20.03038787841797, 37.67351150512695, 36.33233642578125, 79.38711547851562, 70.7845687866211, 68.76688385009766, 56.67464065551758, 79.45728302001953, 39.963077545166016, 55.66946792602539, 37.737300872802734, 36.12595748901367, 54.804420471191406, 46.7085075378418, 41.067413330078125, 48.528873443603516, 37.15787887573242, 36.11598205566406, 36.86232376098633, 34.19921875, 30.97185516357422, 37.609745025634766, 35.75660705566406, 28.23703956604004, 33.698787689208984, 20.746509552001953, 19.813905715942383, 17.91472816467285, 15.150315284729004, 15.127633094787598, 15.11046314239502, 14.205375671386719, 13.26781177520752, 13.249606132507324, 13.238808631896973, 12.333945274353027, 17.64021110534668, 12.333518028259277, 12.316887855529785, 22.845224380493164, 28.06090545654297, 11.395898818969727, 12.257399559020996, 163.8711700439453, 25.343420028686523, 10.454366683959961, 10.420551300048828, 11.287827491760254, 9.515954971313477, 9.514144897460938, 9.50127124786377, 25.931312561035156, 24.251094818115234, 47.709590911865234, 21.454620361328125, 43.08536911010742, 89.52005767822266, 117.3331527709961, 132.32730102539062, 26.00882339477539, 90.9992446899414, 17.590848922729492, 45.581031799316406, 35.684810638427734, 214.85838317871094, 160.55030822753906, 180.387451171875, 80.87303161621094, 34.96451950073242, 106.49581146240234, 211.9618377685547, 67.33724975585938, 46.97452163696289, 40.84286880493164, 82.04747009277344, 242.20420837402344, 35.22549819946289, 69.51952362060547, 68.0777359008789, 87.54615020751953, 71.48902130126953, 107.96227264404297, 75.51947784423828, 65.8236312866211, 127.02713775634766, 77.78829956054688, 107.26492309570312, 86.7535400390625, 102.80628204345703, 95.94586944580078, 86.46334838867188, 83.49160766601562, 95.15644073486328, 90.8753890991211, 30.579776763916016, 15.886955261230469, 14.016633033752441, 14.853080749511719, 13.085246086120605, 12.076539993286133, 10.326065063476562, 10.32429313659668, 10.323847770690918, 10.314996719360352, 86.7809829711914, 8.47732162475586, 8.46674919128418, 22.017139434814453, 16.016382217407227, 9.272931098937988, 7.550580024719238, 7.548619270324707, 7.546321392059326, 7.5456366539001465, 7.537426948547363, 7.533557891845703, 7.529322624206543, 7.512935638427734, 35.81381607055664, 7.464565277099609, 6.624381065368652, 6.622431755065918, 6.620177745819092, 53.220542907714844, 13.980306625366211, 14.831524848937988, 13.843223571777344, 24.631534576416016, 30.8753719329834, 404.3579406738281, 232.341064453125, 78.841552734375, 140.87008666992188, 16.965368270874023, 14.764904022216797, 24.349172592163086, 23.29274559020996, 31.830469131469727, 21.054380416870117, 90.18386840820312, 60.754154205322266, 38.845428466796875, 44.18928527832031, 74.47335815429688, 86.59712982177734, 46.416629791259766, 142.2193603515625, 32.92585372924805, 27.972705841064453, 43.84370803833008, 27.531600952148438, 150.6154327392578, 60.16032791137695, 78.19031524658203, 107.11998748779297, 60.16931915283203, 55.883182525634766, 121.6564712524414, 64.3425521850586, 91.81626892089844, 104.55189514160156, 69.619873046875, 99.41914367675781, 112.69245147705078, 122.42193603515625, 88.57327270507812, 79.63951873779297, 83.28144073486328, 109.0302734375, 86.43179321289062, 102.69666290283203, 76.80919647216797, 70.78491973876953, 70.08121490478516, 70.39663696289062, 72.28076171875, 162.67236328125, 66.61558532714844, 84.54278564453125, 35.24371337890625, 33.29426956176758, 32.320491790771484, 25.060474395751953, 32.195526123046875, 23.187894821166992, 20.4891357421875, 25.81565284729004, 20.426599502563477, 22.203073501586914, 19.48008155822754, 16.79237937927246, 16.73692512512207, 15.853721618652344, 14.932043075561523, 14.931570053100586, 14.931068420410156, 14.922687530517578, 16.65410804748535, 13.995491981506348, 46.379852294921875, 14.846564292907715, 13.941425323486328, 12.153565406799316, 12.151230812072754, 13.017892837524414, 68.57614135742188, 109.67585754394531, 208.63092041015625, 34.40249252319336, 23.01082992553711, 53.224178314208984, 55.3923225402832, 352.2379150390625, 99.34809112548828, 181.7993621826172, 24.168750762939453, 31.297761917114258, 122.56676483154297, 38.02608108520508, 63.66974639892578, 55.1524772644043, 55.91864013671875, 49.36473846435547, 60.714111328125, 140.59385681152344, 244.1839141845703, 62.40673065185547, 90.8097152709961, 57.18247604370117, 174.1858673095703, 161.42945861816406, 146.89031982421875, 185.6817626953125, 114.0802001953125, 113.5723648071289, 102.27412414550781, 114.35478210449219, 150.8919219970703, 136.7361602783203, 110.5364990234375, 102.4317626953125, 90.45028686523438, 93.25997924804688, 71.3486328125, 87.59397888183594, 94.43452453613281, 97.63399505615234, 84.33478546142578, 79.65829467773438, 18.245033264160156, 18.229448318481445, 17.401901245117188, 16.569705963134766, 14.035096168518066, 15.598740577697754, 12.467813491821289, 11.656465530395508, 11.647828102111816, 11.614457130432129, 29.437658309936523, 10.823689460754395, 10.821704864501953, 10.810616493225098, 10.004690170288086, 9.986205101013184, 9.97077751159668, 8.32577896118164, 7.533236980438232, 7.52805233001709, 17.97779083251953, 9.705296516418457, 6.708311080932617, 6.707075595855713, 6.7058281898498535, 12.66601276397705, 6.702378749847412, 6.697024822235107, 6.6942877769470215, 60.61316680908203, 15.196893692016602, 12.875259399414062, 35.799415588378906, 13.298344612121582, 10.000109672546387, 7.9461588859558105, 60.05967712402344, 34.4224853515625, 18.88453483581543, 36.51579666137695, 31.981779098510742, 18.871484756469727, 17.96331214904785, 30.886611938476562, 46.849876403808594, 84.21956634521484, 21.402414321899414, 29.257017135620117, 31.34613609313965, 43.945091247558594, 22.51449203491211, 49.51503372192383, 57.40631866455078, 70.51943969726562, 28.38149070739746, 44.52808380126953, 44.398826599121094, 40.507686614990234, 40.781898498535156, 35.4881706237793, 42.087242126464844, 33.76067352294922, 28.826669692993164, 30.286073684692383, 32.88770294189453, 34.295677185058594, 29.611085891723633, 27.5423526763916, 100.20901489257812, 36.614662170410156, 27.045841217041016, 22.29165267944336, 43.41320037841797, 18.416805267333984, 39.57332229614258, 17.424423217773438, 16.474647521972656, 15.542596817016602, 15.53519344329834, 15.5057373046875, 13.596258163452148, 12.66568660736084, 13.560492515563965, 11.674293518066406, 11.632553100585938, 10.73463249206543, 10.727079391479492, 38.49479293823242, 24.081893920898438, 10.677825927734375, 9.774670600891113, 9.772188186645508, 9.769368171691895, 80.58534240722656, 9.758837699890137, 15.03687572479248, 12.353533744812012, 45.08488082885742, 19.368478775024414, 133.9169921875, 102.99372100830078, 578.056396484375, 53.476688385009766, 286.0765075683594, 121.03206634521484, 208.63189697265625, 26.065753936767578, 158.01202392578125, 103.69133758544922, 111.10155487060547, 109.66659545898438, 691.5955200195312, 126.56192779541016, 156.45584106445312, 89.60095977783203, 35.968204498291016, 309.98345947265625, 474.8992004394531, 140.92770385742188, 162.96463012695312, 171.37818908691406, 431.3717041015625, 102.69660949707031, 486.5785827636719, 176.6603240966797, 164.61636352539062, 273.8006286621094, 172.5533447265625, 105.3035659790039, 222.71046447753906, 143.08932495117188, 228.42510986328125, 230.19912719726562, 182.31851196289062, 180.35462951660156, 170.43002319335938, 165.532958984375, 147.04681396484375, 151.48760986328125, 153.18499755859375, 147.70436096191406, 144.21859741210938, 145.4805145263672], \"Term\": [\"data\", \"network\", \"image\", \"patient\", \"graph\", \"gene\", \"disease\", \"learning\", \"st\", \"management\", \"recognition\", \"mining\", \"model\", \"detection\", \"protein\", \"software\", \"rna\", \"business\", \"service\", \"matrix\", \"binding\", \"chess\", \"trust\", \"segment\", \"algorithm\", \"machine\", \"parser\", \"project\", \"site\", \"student\", \"wound\", \"healing\", \"wound healing\", \"rna-binding\", \"rbps\", \"rna binding\", \"iclip\", \"parkinson disease\", \"hnrnp\", \"splicing\", \"healing rate\", \"exon\", \"rna-binding protein\", \"parkinson\", \"tdp-43\", \"binding\", \"rna\", \"clip\", \"migrant\", \"pulse\", \"srsf3\", \"hungarian\", \"multithreaded processor\", \"bind\", \"shock\", \"regulated\", \"disorder\", \"dopaminergic\", \"chronic wound\", \"pex11\", \"symptom\", \"stimulation\", \"nucleus\", \"transcript\", \"protein\", \"tremor\", \"site\", \"coronary\", \"pd\", \"mrna\", \"disease\", \"regulation\", \"diagnostic\", \"motor\", \"treatment\", \"patient\", \"clinical\", \"cell\", \"rate\", \"control\", \"alternative\", \"processor\", \"gene\", \"function\", \"group\", \"image\", \"algorithm\", \"data\", \"one\", \"parser\", \"serialization\", \"lr parser\", \"lr\", \"genepath\", \"left parse\", \"preterm\", \"discoideum\", \"lllr\", \"potato\", \"pi\", \"sweet\", \"xml serialization\", \"sweet potato\", \"dictyostelium discoideum\", \"vizrank\", \"interruptibility\", \"left lr\", \"input string\", \"shot\", \"pool\", \"walking speed\", \"marketing\", \"ehg\", \"parsing\", \"dictyostelium\", \"smartphone\", \"parse\", \"percent\", \"contraction\", \"gait\", \"amoeba\", \"gene\", \"mining\", \"genetic\", \"biomedical\", \"profile\", \"liver\", \"data\", \"left\", \"pathway\", \"infer\", \"source\", \"interaction\", \"genome\", \"embedded\", \"relation\", \"expression\", \"network\", \"different\", \"set\", \"user\", \"approach\", \"support\", \"used\", \"task\", \"tool\", \"model\", \"using\", \"new\", \"system\", \"information\", \"performance\", \"present\", \"show\", \"process\", \"bpel\", \"qca\", \"ternary\", \"scrum\", \"sclc\", \"quantum-dot\", \"rfid\", \"metastasis\", \"quantum-dot cellular\", \"capstone\", \"antibiotic\", \"fault handling\", \"kanban\", \"capstone course\", \"fraud management\", \"fraud\", \"isdm\", \"sisp\", \"agile\", \"chemotherapy\", \"convex skeleton\", \"qad\", \"management\", \"fault\", \"radiotherapy\", \"a3g\", \"traceability\", \"adiabatic\", \"dm\", \"automaton qca\", \"organisation\", \"intervention\", \"teaching\", \"university ljubljana\", \"enterprise\", \"course\", \"project\", \"business\", \"ljubljana\", \"trust\", \"ict\", \"agent\", \"care\", \"patient\", \"software\", \"development\", \"activity\", \"university\", \"student\", \"process\", \"security\", \"engineering\", \"company\", \"technology\", \"system\", \"survival\", \"factor\", \"cell\", \"important\", \"design\", \"information\", \"support\", \"language\", \"approach\", \"knowledge\", \"present\", \"application\", \"used\", \"based\", \"use\", \"one\", \"model\", \"data\", \"traffic\", \"dsl\", \"mobility\", \"peer-to-peer\", \"tolerance\", \"rmi\", \"acetic\", \"acetic acid\", \"bipartite\", \"overlay\", \"node\", \"cep\", \"stone\", \"subgraph\", \"synchronization\", \"certification\", \"fabric\", \"cmm\", \"ev\", \"road\", \"wsdl\", \"ppdr\", \"gram\", \"multilevel\", \"strain\", \"centralized\", \"ngn\", \"graphlets\", \"metamodel\", \"routing\", \"recurrent neural\", \"aircraft\", \"topological\", \"topology\", \"grammar\", \"network\", \"graph\", \"distributed\", \"service\", \"connectivity\", \"recurrent\", \"convex\", \"mesh\", \"java\", \"grid\", \"web\", \"communication\", \"internet\", \"path\", \"architecture\", \"structure\", \"community\", \"application\", \"query\", \"vertex\", \"robot\", \"automaton\", \"algorithm\", \"implementation\", \"software\", \"information\", \"large\", \"property\", \"present\", \"environment\", \"show\", \"using\", \"number\", \"used\", \"approach\", \"data\", \"problem\", \"one\", \"different\", \"model\", \"based\", \"system\", \"two\", \"performance\", \"new\", \"use\", \"st segment\", \"st\", \"ear\", \"episode\", \"ischemic\", \"song\", \"folk\", \"ambulatory\", \"pixel\", \"melodic\", \"swt\", \"bell\", \"iris\", \"stereo\", \"appearance-based\", \"folk song\", \"family medicine\", \"non-ischemic\", \"ltst\", \"eigenspace\", \"ltst db\", \"rainfall\", \"eigenimages\", \"qrs\", \"transient\", \"cnn\", \"mdl\", \"non-ischemic st\", \"plagiarism\", \"itg\", \"corpus\", \"segment\", \"recognition\", \"illumination\", \"pca\", \"recording\", \"scene\", \"image\", \"segmentation\", \"detection\", \"ischaemic\", \"ischemia\", \"database\", \"panoramic\", \"speech\", \"vision\", \"color\", \"annotation\", \"record\", \"object\", \"algorithm\", \"signal\", \"representation\", \"view\", \"present\", \"using\", \"based\", \"approach\", \"performance\", \"time\", \"proposed\", \"set\", \"model\", \"system\", \"problem\", \"use\", \"feature\", \"different\", \"standard\", \"show\", \"used\", \"data\", \"two\", \"evaluation\", \"nilpotent\", \"minimax\", \"short simd\", \"summarization\", \"commuting\", \"endgame\", \"semiring\", \"sclera\", \"simd execution\", \"whole-body\", \"simd\", \"splice site\", \"splice\", \"banerjee\", \"nilpotent matrix\", \"celf4\", \"whole-body bone\", \"archetypal\", \"checkmate\", \"crafty\", \"bone\", \"commutative\", \"semirings\", \"dfs\", \"multi-document\", \"deidentification\", \"gcd\", \"methylation\", \"md\", \"chess\", \"prey\", \"predator\", \"dependence\", \"pathology\", \"parallelization\", \"chess endgame\", \"matrix\", \"player\", \"move\", \"game\", \"range\", \"recovery\", \"diameter\", \"position\", \"test\", \"model\", \"short\", \"search\", \"program\", \"graph\", \"art\", \"image\", \"used\", \"data\", \"trust\", \"show\", \"set\", \"based\", \"present\", \"two\", \"approach\", \"time\", \"computer\", \"evaluation\", \"different\", \"using\", \"algorithm\", \"one\", \"tracker\", \"egfr\", \"transductive\", \"uncertainty\", \"abml\", \"egfr mutation\", \"controller\", \"sport\", \"argumentation\", \"naive bayesian\", \"cloning\", \"tutoring\", \"kinetic\", \"recommender\", \"hint\", \"behavioural cloning\", \"gaussian\", \"kernel density\", \"ihc\", \"argument\", \"essay\", \"vot2014\", \"hypermedia\", \"iaa\", \"intelligent tutoring\", \"explanation\", \"programmable\", \"vot\", \"svm\", \"confidence\", \"explaining\", \"classifier\", \"tracking\", \"learning\", \"numerical\", \"machine\", \"reliability\", \"prediction\", \"induction\", \"classification\", \"qualitative\", \"attribute\", \"estimation\", \"model\", \"example\", \"accuracy\", \"regression\", \"ml\", \"problem\", \"system\", \"domain\", \"decision\", \"knowledge\", \"approach\", \"expert\", \"data\", \"feature\", \"evaluation\", \"used\", \"user\", \"rule\", \"using\", \"several\", \"algorithm\", \"present\", \"set\", \"based\", \"process\", \"use\", \"proposed\", \"two\", \"show\", \"new\", \"performance\", \"information\"], \"Total\": [1300.0, 590.0, 477.0, 362.0, 330.0, 214.0, 194.0, 692.0, 164.0, 175.0, 245.0, 124.0, 1193.0, 248.0, 114.0, 273.0, 84.0, 175.0, 196.0, 111.0, 76.0, 68.0, 125.0, 117.0, 714.0, 341.0, 64.0, 147.0, 87.0, 199.0, 45.16759490966797, 29.23260498046875, 28.347564697265625, 31.897756576538086, 25.69329833984375, 24.80632209777832, 25.68439292907715, 55.87418746948242, 18.60645866394043, 53.89594650268555, 16.839048385620117, 28.32013702392578, 15.951566696166992, 58.570518493652344, 14.182857513427734, 76.32617950439453, 84.97858428955078, 14.182040214538574, 11.526885032653809, 15.082913398742676, 11.52734661102295, 11.526101112365723, 11.527031898498535, 15.06894588470459, 11.527498245239258, 11.526947021484375, 27.523651123046875, 20.42930793762207, 9.756857872009277, 9.757225036621094, 63.264076232910156, 47.16893768310547, 26.702289581298828, 20.393844604492188, 114.88004302978516, 47.317962646484375, 87.1593246459961, 40.23020553588867, 73.30622863769531, 62.14610290527344, 194.00503540039062, 38.010799407958984, 94.42375183105469, 59.850486755371094, 104.139892578125, 362.5534362792969, 107.02838134765625, 151.3551788330078, 119.64762115478516, 166.72991943359375, 93.02948760986328, 65.71205139160156, 214.79331970214844, 239.34408569335938, 200.3548583984375, 477.54595947265625, 714.2596435546875, 1300.0582275390625, 443.81365966796875, 64.6865463256836, 29.73224639892578, 23.617555618286133, 27.11750602722168, 21.87358283996582, 15.755309104919434, 14.883180618286133, 21.875234603881836, 13.1344575881958, 12.261338233947754, 12.263570785522461, 11.387632369995117, 11.38728141784668, 11.387709617614746, 14.887487411499023, 12.259953498840332, 11.388664245605469, 10.513680458068848, 9.640039443969727, 9.640157699584961, 9.640617370605469, 9.64171028137207, 8.766095161437988, 8.767406463623047, 21.943889617919922, 35.04023361206055, 11.40420913696289, 18.430130004882812, 7.8924641609191895, 7.893476963043213, 39.46253967285156, 16.69852066040039, 214.79331970214844, 124.21719360351562, 70.0150146484375, 16.513898849487305, 61.19740295410156, 19.448070526123047, 1300.0582275390625, 40.837764739990234, 40.46957015991211, 24.651002883911133, 96.60255432128906, 148.90875244140625, 28.18549156188965, 31.191740036010742, 94.193359375, 112.16016387939453, 590.215087890625, 509.14971923828125, 496.031982421875, 361.1564025878906, 996.5453491210938, 259.2694396972656, 712.9583740234375, 233.6253662109375, 241.46514892578125, 1193.0950927734375, 665.3609008789062, 429.679931640625, 1032.03662109375, 482.28863525390625, 414.7437438964844, 731.5896606445312, 486.69970703125, 528.896484375, 38.47758483886719, 36.591644287109375, 29.081344604492188, 34.70647430419922, 21.566713333129883, 20.626691818237305, 18.744583129882812, 15.931981086730957, 15.92984676361084, 15.930998802185059, 14.992712020874023, 14.053304672241211, 14.05331802368164, 14.052647590637207, 13.11420726776123, 18.75617027282715, 13.11386775970459, 13.113068580627441, 24.357919692993164, 29.94662857055664, 12.171504974365234, 13.105093955993652, 175.38902282714844, 27.185029983520508, 11.235413551330566, 11.231136322021484, 12.167339324951172, 10.296066284179688, 10.29566764831543, 10.293607711791992, 28.115386962890625, 26.280990600585938, 52.560569763183594, 23.41659927368164, 47.877559661865234, 102.12332916259766, 147.42544555664062, 175.18988037109375, 29.95122528076172, 125.62689208984375, 19.567354202270508, 58.604583740234375, 44.46974182128906, 362.5534362792969, 273.52642822265625, 322.5644836425781, 134.63104248046875, 46.52376937866211, 199.94427490234375, 528.896484375, 115.7509765625, 72.263427734375, 60.034420013427734, 171.30667114257812, 1032.03662109375, 48.533565521240234, 149.3890380859375, 151.3551788330078, 273.2867431640625, 198.0532989501953, 482.28863525390625, 259.2694396972656, 195.5835418701172, 996.5453491210938, 308.29669189453125, 731.5896606445312, 434.4367370605469, 712.9583740234375, 602.0015869140625, 498.5377502441406, 443.81365966796875, 1193.0950927734375, 1300.0582275390625, 31.52481460571289, 16.680404663085938, 14.822858810424805, 15.742439270019531, 13.895639419555664, 12.96789836883545, 11.111968994140625, 11.111966133117676, 11.111632347106934, 11.110177040100098, 94.20706176757812, 9.255464553833008, 9.255291938781738, 24.100135803222656, 17.5864200592041, 10.184707641601562, 8.327856063842773, 8.326586723327637, 8.326346397399902, 8.325982093811035, 8.326139450073242, 8.326828956604004, 8.326234817504883, 8.32544231414795, 39.821563720703125, 8.31700325012207, 7.399534702301025, 7.399336814880371, 7.399444103240967, 59.5162353515625, 15.688589096069336, 16.714733123779297, 15.743534088134766, 28.82259750366211, 36.77144241333008, 590.215087890625, 330.352294921875, 104.07628631591797, 196.52908325195312, 20.269840240478516, 17.484050750732422, 30.52826690673828, 29.756359100341797, 43.170406341552734, 26.992652893066406, 173.67103576660156, 105.45664978027344, 62.151039123535156, 74.52606964111328, 148.21315002441406, 205.6256103515625, 86.54141235351562, 434.4367370605469, 53.48814392089844, 43.47866439819336, 87.55863189697266, 43.685401916503906, 714.2596435546875, 158.1949462890625, 273.52642822265625, 482.28863525390625, 179.730224609375, 163.27557373046875, 731.5896606445312, 229.01779174804688, 486.69970703125, 665.3609008789062, 289.589599609375, 712.9583740234375, 996.5453491210938, 1300.0582275390625, 578.3073120117188, 443.81365966796875, 509.14971923828125, 1193.0950927734375, 602.0015869140625, 1032.03662109375, 447.857666015625, 414.7437438964844, 429.679931640625, 498.5377502441406, 73.14554595947266, 164.77183532714844, 67.59025573730469, 86.08167266845703, 36.09746551513672, 34.243892669677734, 33.30808639526367, 25.908132553100586, 33.32719039916992, 24.05731964111328, 21.278154373168945, 26.834653854370117, 21.270641326904297, 23.132823944091797, 20.351808547973633, 17.573347091674805, 17.5737247467041, 16.64754867553711, 15.721487998962402, 15.721179008483887, 15.721531867980957, 15.720256805419922, 17.578927993774414, 14.794425010681152, 49.071022033691406, 15.722944259643555, 14.795639991760254, 12.942877769470215, 12.941291809082031, 13.868056297302246, 73.09860229492188, 117.66692352294922, 245.23089599609375, 38.026580810546875, 25.024446487426758, 61.24949264526367, 64.12942504882812, 477.54595947265625, 126.89794158935547, 248.39918518066406, 26.758275985717773, 35.935951232910156, 170.73641967773438, 47.22755432128906, 90.1533203125, 78.23657989501953, 81.68479919433594, 70.82022094726562, 96.28260040283203, 314.1971130371094, 714.2596435546875, 104.79035186767578, 187.84597778320312, 99.11903381347656, 731.5896606445312, 665.3609008789062, 602.0015869140625, 996.5453491210938, 414.7437438964844, 441.27056884765625, 372.54541015625, 496.031982421875, 1193.0950927734375, 1032.03662109375, 578.3073120117188, 498.5377502441406, 361.2970886230469, 509.14971923828125, 179.40643310546875, 486.69970703125, 712.9583740234375, 1300.0582275390625, 447.857666015625, 327.0372619628906, 19.053958892822266, 19.056659698486328, 18.232219696044922, 17.40695571899414, 14.936964988708496, 16.607004165649414, 13.281001091003418, 12.452887535095215, 12.45510482788086, 12.454618453979492, 31.6198673248291, 11.627901077270508, 11.628039360046387, 11.632238388061523, 10.804557800292969, 10.803866386413574, 10.806841850280762, 9.15743350982666, 8.329290390014648, 8.32949447631836, 20.008121490478516, 10.840913772583008, 7.504355430603027, 7.504049777984619, 7.503934383392334, 14.181970596313477, 7.505349636077881, 7.504406452178955, 7.505479335784912, 68.7726058959961, 17.6016788482666, 15.08459758758545, 46.84979248046875, 15.847882270812988, 11.724732398986816, 9.220902442932129, 111.75244903564453, 60.21432113647461, 28.281322479248047, 75.75752258300781, 77.54239654541016, 33.55106735229492, 32.06849670410156, 89.5567626953125, 238.6176300048828, 1193.0950927734375, 54.362449645996094, 114.81146240234375, 139.70196533203125, 330.352294921875, 63.03519821166992, 477.54595947265625, 712.9583740234375, 1300.0582275390625, 125.62689208984375, 486.69970703125, 496.031982421875, 602.0015869140625, 731.5896606445312, 447.857666015625, 996.5453491210938, 441.27056884765625, 220.95834350585938, 327.0372619628906, 509.14971923828125, 665.3609008789062, 714.2596435546875, 443.81365966796875, 102.11734771728516, 37.54196548461914, 27.900402069091797, 23.08180046081543, 45.22261428833008, 19.22142219543457, 41.358768463134766, 18.255239486694336, 17.29115867614746, 16.329631805419922, 16.330541610717773, 16.32573127746582, 14.400789260864258, 13.438265800476074, 14.397393226623535, 12.472587585449219, 12.461703300476074, 11.507852554321289, 11.508084297180176, 41.324249267578125, 25.941970825195312, 11.506423950195312, 10.545166015625, 10.544026374816895, 10.544736862182617, 87.0151596069336, 10.541123390197754, 16.310319900512695, 13.407999038696289, 48.94932556152344, 21.06608772277832, 149.2505645751953, 114.2137680053711, 692.13232421875, 60.371063232421875, 341.9601745605469, 149.30722045898438, 270.16339111328125, 29.66668128967285, 213.98841857910156, 134.81446838378906, 147.40716552734375, 150.17874145507812, 1193.0950927734375, 177.92311096191406, 234.93670654296875, 124.84680938720703, 43.990478515625, 578.3073120117188, 1032.03662109375, 234.9058074951172, 288.1709899902344, 308.29669189453125, 996.5453491210938, 162.77548217773438, 1300.0582275390625, 361.2970886230469, 327.0372619628906, 712.9583740234375, 361.1564025878906, 187.90272521972656, 665.3609008789062, 318.6563720703125, 714.2596435546875, 731.5896606445312, 496.031982421875, 602.0015869140625, 528.896484375, 498.5377502441406, 372.54541015625, 447.857666015625, 486.69970703125, 429.679931640625, 414.7437438964844, 482.28863525390625], \"loglift\": [30.0, 29.0, 28.0, 27.0, 26.0, 25.0, 24.0, 23.0, 22.0, 21.0, 20.0, 19.0, 18.0, 17.0, 16.0, 15.0, 14.0, 13.0, 12.0, 11.0, 10.0, 9.0, 8.0, 7.0, 6.0, 5.0, 4.0, 3.0, 2.0, 1.0, 2.4238998889923096, 2.414400100708008, 2.4133999347686768, 2.40939998626709, 2.408799886703491, 2.407900094985962, 2.4042999744415283, 2.3970000743865967, 2.3965001106262207, 2.3940999507904053, 2.393899917602539, 2.3910999298095703, 2.387500047683716, 2.386399984359741, 2.3849000930786133, 2.3785998821258545, 2.3770999908447266, 2.3763999938964844, 2.3714001178741455, 2.371299982070923, 2.3712000846862793, 2.3712000846862793, 2.3710999488830566, 2.3705999851226807, 2.370500087738037, 2.3685998916625977, 2.365000009536743, 2.3608999252319336, 2.358099937438965, 2.3577001094818115, 2.3108999729156494, 2.3115999698638916, 2.316499948501587, 2.333199977874756, 2.2070000171661377, 2.2690999507904053, 2.210700035095215, 2.260699987411499, 2.2012999057769775, 2.200000047683716, 2.045099973678589, 2.2348999977111816, 1.9681999683380127, 2.022599935531616, 1.8522000312805176, 1.392799973487854, 1.746399998664856, 1.4072999954223633, 1.3777999877929688, 1.1475000381469727, 1.4859000444412231, 1.725100040435791, 0.8385000228881836, 0.7250999808311462, 0.8589000105857849, 0.062300000339746475, -0.40700000524520874, -0.9587000012397766, 0.0031999999191612005, 2.453000068664551, 2.441499948501587, 2.4342000484466553, 2.4340999126434326, 2.4303998947143555, 2.4168999195098877, 2.413100004196167, 2.408799886703491, 2.4075000286102295, 2.4021999835968018, 2.398400068283081, 2.3970999717712402, 2.3970000743865967, 2.3970000743865967, 2.3965001106262207, 2.395400047302246, 2.3926000595092773, 2.390700101852417, 2.384000062942505, 2.383699893951416, 2.382699966430664, 2.378200054168701, 2.373699903488159, 2.3717000484466553, 2.3701999187469482, 2.368000030517578, 2.3661999702453613, 2.365799903869629, 2.3636999130249023, 2.3633999824523926, 2.2808001041412354, 2.325500011444092, 2.136399984359741, 2.148400068283081, 2.0703001022338867, 2.286799907684326, 2.0069000720977783, 2.242000102996826, 1.2617000341415405, 2.062299966812134, 2.0508999824523926, 2.1791999340057373, 1.7280999422073364, 1.559499979019165, 2.10260009765625, 2.02620005607605, 1.5527000427246094, 1.3418999910354614, 0.4629000127315521, 0.4959999918937683, 0.49320000410079956, 0.6171000003814697, -0.05999999865889549, 0.5992000102996826, -0.08089999854564667, 0.6460000276565552, 0.5694000124931335, -0.6114000082015991, -0.18729999661445618, 0.12129999697208405, -0.5879999995231628, -0.09430000185966492, 0.028200000524520874, -0.5188999772071838, -0.18629999458789825, -0.3686000108718872, 1.8092000484466553, 1.808899998664856, 1.8025000095367432, 1.8025000095367432, 1.7932000160217285, 1.7918000221252441, 1.7867000102996826, 1.7817000150680542, 1.7803000211715698, 1.779099941253662, 1.777999997138977, 1.7745000123977661, 1.7731000185012817, 1.7723000049591064, 1.7705999612808228, 1.7705999612808228, 1.7705999612808228, 1.7692999839782715, 1.767899990081787, 1.7668999433517456, 1.7661000490188599, 1.7651000022888184, 1.7640999555587769, 1.7618000507354736, 1.7598999738693237, 1.757099986076355, 1.7569999694824219, 1.7532000541687012, 1.753000020980835, 1.7518999576568604, 1.751099944114685, 1.7516000270843506, 1.735200047492981, 1.7445000410079956, 1.7265000343322754, 1.7002999782562256, 1.603700041770935, 1.5513999462127686, 1.6908999681472778, 1.5095000267028809, 1.7254999876022339, 1.5807000398635864, 1.611899971961975, 1.3087999820709229, 1.2992000579833984, 1.2508000135421753, 1.3222999572753906, 1.5463999509811401, 1.2021000385284424, 0.9175999760627747, 1.2903000116348267, 1.4012999534606934, 1.4467999935150146, 1.0958000421524048, 0.3824999928474426, 1.5115000009536743, 1.0670000314712524, 1.0329999923706055, 0.6935999989509583, 0.8130000233650208, 0.3352000117301941, 0.5985000133514404, 0.7429999709129333, -0.22789999842643738, 0.45489999651908875, -0.08789999783039093, 0.22100000083446503, -0.10459999740123749, -0.0044999998062849045, 0.07999999821186066, 0.16130000352859497, -0.6967999935150146, -0.8287000060081482, 1.820099949836731, 1.801800012588501, 1.794600009918213, 1.7922999858856201, 1.7904000282287598, 1.7792999744415283, 1.7770999670028687, 1.7769999504089355, 1.7769999504089355, 1.7762000560760498, 1.768399953842163, 1.7626999616622925, 1.7613999843597412, 1.76010000705719, 1.7569999694824219, 1.756700038909912, 1.752500057220459, 1.7524000406265259, 1.7520999908447266, 1.7520999908447266, 1.7510000467300415, 1.7503999471664429, 1.749899983406067, 1.7477999925613403, 1.7444000244140625, 1.742400050163269, 1.739799976348877, 1.7395999431610107, 1.7391999959945679, 1.738700032234192, 1.735200047492981, 1.7309999465942383, 1.7218999862670898, 1.6934000253677368, 1.6756999492645264, 1.4723000526428223, 1.4984999895095825, 1.5728000402450562, 1.5175000429153442, 1.6725000143051147, 1.68149995803833, 1.6243000030517578, 1.6055999994277954, 1.545799970626831, 1.6019999980926514, 1.195199966430664, 1.2990000247955322, 1.3804999589920044, 1.3278000354766846, 1.1622999906539917, 0.9857000112533569, 1.2274999618530273, 0.7337999939918518, 1.3653000593185425, 1.4093999862670898, 1.1588000059127808, 1.388800024986267, 0.2939999997615814, 0.8837000131607056, 0.5982000231742859, 0.3458999991416931, 0.7562000155448914, 0.7782999873161316, 0.05649999901652336, 0.5809000134468079, 0.1826000064611435, -0.00019999999494757503, 0.4250999987125397, -0.11959999799728394, -0.32910001277923584, -0.5121999979019165, -0.025800000876188278, 0.13259999454021454, 0.03999999910593033, -0.5422000288963318, -0.09040000289678574, -0.4569999873638153, 0.08730000257492065, 0.08250000327825546, 0.03709999844431877, -0.10700000077486038, 1.738800048828125, 1.7379000186920166, 1.736199975013733, 1.732699990272522, 1.7267999649047852, 1.722599983215332, 1.7206000089645386, 1.7174999713897705, 1.7161999940872192, 1.7138999700546265, 1.7130000591278076, 1.7120000123977661, 1.7102999687194824, 1.7096999883651733, 1.7070000171661377, 1.705299973487854, 1.7020000219345093, 1.7019000053405762, 1.6992000341415405, 1.6992000341415405, 1.6992000341415405, 1.698699951171875, 1.6966999769210815, 1.695199966430664, 1.6943000555038452, 1.6934000253677368, 1.6913000345230103, 1.6878000497817993, 1.6878000497817993, 1.6875, 1.686900019645691, 1.680400013923645, 1.5891000032424927, 1.6505999565124512, 1.6669000387191772, 1.6102999448776245, 1.6043000221252441, 1.4464000463485718, 1.50600004196167, 1.438599944114685, 1.6490000486373901, 1.6125999689102173, 1.4192999601364136, 1.534000039100647, 1.402899980545044, 1.4011000394821167, 1.3717999458312988, 1.389799952507019, 1.2896000146865845, 0.9466000199317932, 0.6773999929428101, 1.2324999570846558, 1.023900032043457, 1.200700044631958, 0.3156000077724457, 0.3345000147819519, 0.3402000069618225, 0.07050000131130219, 0.46000000834465027, 0.3935000002384186, 0.4580000042915344, 0.2833999991416931, -0.31700000166893005, -0.2705000042915344, 0.09600000083446503, 0.16830000281333923, 0.36579999327659607, 0.05339999869465828, 0.8287000060081482, 0.03579999879002571, -0.27079999446868896, -0.8381999731063843, 0.08110000193119049, 0.3384000062942505, 2.6524999141693115, 2.6514999866485596, 2.6493000984191895, 2.6466000080108643, 2.6335999965667725, 2.6333000659942627, 2.632699966430664, 2.6298000812530518, 2.6289000511169434, 2.6261000633239746, 2.6243999004364014, 2.6242001056671143, 2.624000072479248, 2.6226000785827637, 2.61899995803833, 2.6171998977661133, 2.6154000759124756, 2.6006999015808105, 2.595400094985962, 2.5947000980377197, 2.588900089263916, 2.585200071334839, 2.5838000774383545, 2.5836000442504883, 2.583400011062622, 2.5827999114990234, 2.58270001411438, 2.5820999145507812, 2.5815000534057617, 2.5696001052856445, 2.5490000247955322, 2.5374999046325684, 2.4268999099731445, 2.5204999446868896, 2.536799907684326, 2.547100067138672, 2.074899911880493, 2.136699914932251, 2.2920000553131104, 1.9660999774932861, 1.8101999759674072, 2.120500087738037, 2.1164000034332275, 1.6312999725341797, 1.0679999589920044, 0.04500000178813934, 1.763700008392334, 1.3286999464035034, 1.2015000581741333, 0.6786999702453613, 1.6663999557495117, 0.429500013589859, 0.17659999430179596, -0.2184000015258789, 1.208299994468689, 0.3043999969959259, 0.2824999988079071, -0.002899999963119626, -0.19110000133514404, 0.16060000658035278, -0.46869999170303345, 0.12549999356269836, 0.6592000126838684, 0.3165000081062317, -0.043699998408555984, -0.2694000005722046, -0.487199991941452, -0.08380000293254852, 1.2905000448226929, 1.2842999696731567, 1.2782000303268433, 1.2745000123977661, 1.2684999704360962, 1.2666000127792358, 1.2652000188827515, 1.2627999782562256, 1.2610000371932983, 1.2598999738693237, 1.2594000101089478, 1.2577999830245972, 1.2518999576568604, 1.250100016593933, 1.249500036239624, 1.2431999444961548, 1.2404999732971191, 1.239799976348877, 1.2390999794006348, 1.2383999824523926, 1.2348999977111816, 1.2345999479293823, 1.2335000038146973, 1.233299970626831, 1.2330000400543213, 1.2325999736785889, 1.232200026512146, 1.2280000448226929, 1.2273999452590942, 1.2271000146865845, 1.2252999544143677, 1.2008999586105347, 1.205899953842163, 1.1291999816894531, 1.188099980354309, 1.1309000253677368, 1.0994000434875488, 1.0508999824523926, 1.179900050163269, 1.006100058555603, 1.0469000339508057, 1.0266000032424927, 0.9950000047683716, 0.7639999985694885, 0.9686999917030334, 0.9028000235557556, 0.9775999784469604, 1.1080000400543213, 0.6858000159263611, 0.5332000255584717, 0.7983999848365784, 0.739300012588501, 0.722100019454956, 0.47200000286102295, 0.8486999869346619, 0.32659998536109924, 0.5939000248908997, 0.6229000091552734, 0.3522999882698059, 0.5706999897956848, 0.7303000092506409, 0.21490000188350677, 0.5087000131607056, 0.16930000483989716, 0.15309999883174896, 0.3084999918937683, 0.10400000214576721, 0.1768999993801117, 0.20679999887943268, 0.3797000050544739, 0.22540000081062317, 0.15330000221729279, 0.24150000512599945, 0.2529999911785126, 0.11079999804496765], \"logprob\": [30.0, 29.0, 28.0, 27.0, 26.0, 25.0, 24.0, 23.0, 22.0, 21.0, 20.0, 19.0, 18.0, 17.0, 16.0, 15.0, 14.0, 13.0, 12.0, 11.0, 10.0, 9.0, 8.0, 7.0, 6.0, 5.0, 4.0, 3.0, 2.0, 1.0, -5.696499824523926, -6.14109992980957, -6.172800064086914, -6.058899879455566, -6.2758002281188965, -6.311699867248535, -6.280600070953369, -5.510700225830078, -6.6107001304626465, -5.549600124359131, -6.713200092315674, -6.196100234985352, -6.77370023727417, -5.474100112915039, -6.893899917602539, -5.217199802398682, -5.111299991607666, -6.902400016784668, -7.114699840545654, -6.845900058746338, -7.114799976348877, -7.114999771118164, -7.114999771118164, -6.847499847412109, -7.115499973297119, -7.117499828338623, -6.250699996948242, -6.5528998374938965, -7.2947001457214355, -7.295100212097168, -5.472499847412109, -5.765399932861328, -6.329500198364258, -6.582300186157227, -4.979899883270264, -5.804800033569336, -5.252299785614014, -5.975399971008301, -5.434800148010254, -5.60129976272583, -4.617800235748291, -6.058000087738037, -5.414700031280518, -5.816299915313721, -5.432799816131592, -4.644800186157227, -5.511300086975098, -5.503900051116943, -5.768499851226807, -5.666900157928467, -5.9120001792907715, -6.020400047302246, -5.722599983215332, -5.727799892425537, -5.7718000411987305, -5.69980001449585, -5.766499996185303, -5.719299793243408, -5.832200050354004, -5.308199882507324, -6.0970001220703125, -6.33459997177124, -6.196400165557861, -6.41510009765625, -6.756700038909912, -6.817500114440918, -6.436600208282471, -6.9481000900268555, -7.02209997177124, -7.025700092315674, -7.101099967956543, -7.10129976272583, -7.10129976272583, -6.833799839019775, -7.0289998054504395, -7.105500221252441, -7.187399864196777, -7.280799865722656, -7.281099796295166, -7.282100200653076, -7.286399841308594, -7.386199951171875, -7.3881001472473145, -6.472099781036377, -6.00629997253418, -7.1305999755859375, -6.651000022888184, -7.501100063323975, -7.501299858093262, -5.974599838256836, -6.789899826049805, -4.424699783325195, -4.960299968719482, -5.611800193786621, -6.839799880981445, -5.809800148010254, -6.7210001945495605, -3.4988999366760254, -6.15880012512207, -6.1793999671936035, -6.546800136566162, -5.6321001052856445, -5.3678998947143555, -6.4893999099731445, -6.464399814605713, -5.832699775695801, -5.86899995803833, -5.087299823760986, -5.202000141143799, -5.230999946594238, -5.424300193786621, -5.08650016784668, -5.77370023727417, -5.442200183868408, -5.830999851226807, -5.87470006942749, -5.457900047302246, -5.617700099945068, -5.746500015258789, -5.579500198364258, -5.846499919891357, -5.874899864196777, -5.854499816894531, -5.929500102996826, -6.028600215911865, -6.471499919891357, -6.52209997177124, -6.758200168609619, -6.581299781799316, -7.066400051116943, -7.112400054931641, -7.213200092315674, -7.380799770355225, -7.382299900054932, -7.383399963378906, -7.445199966430664, -7.513400077819824, -7.514800071716309, -7.515600204467773, -7.586400032043457, -7.228600025177002, -7.58650016784668, -7.587800025939941, -6.96999979019165, -6.764400005340576, -7.665500164031982, -7.592700004577637, -4.99970006942749, -6.866300106048584, -7.751800060272217, -7.755000114440918, -7.675099849700928, -7.845799922943115, -7.8460001945495605, -7.847400188446045, -6.843299865722656, -6.910299777984619, -6.233699798583984, -7.032800197601318, -6.335599899291992, -5.604300022125244, -5.333799839019775, -5.213500022888184, -6.840400218963623, -5.587900161743164, -7.231400012969971, -6.279300212860107, -6.524099826812744, -4.728799819946289, -5.020199775695801, -4.90369987487793, -5.705900192260742, -6.54449987411499, -5.430699825286865, -4.742400169372559, -5.889100074768066, -6.249199867248535, -6.389100074768066, -5.691500186920166, -4.609000205993652, -6.5370001792907715, -5.8572001457214355, -5.8780999183654785, -5.6265997886657715, -5.82919979095459, -5.416999816894531, -5.774400234222412, -5.911799907684326, -5.25439977645874, -5.744800090789795, -5.423500061035156, -5.635700225830078, -5.46589994430542, -5.534999847412109, -5.639100074768066, -5.673999786376953, -5.543300151824951, -5.589300155639648, -6.659900188446045, -7.314799785614014, -7.440000057220459, -7.3821001052856445, -7.508800029754639, -7.589000225067139, -7.74560022354126, -7.745800018310547, -7.745800018310547, -7.746699810028076, -5.6168999671936035, -7.94290018081665, -7.9440999031066895, -6.988500118255615, -7.306700229644775, -7.8531999588012695, -8.058699607849121, -8.058899879455566, -8.059200286865234, -8.059300422668457, -8.060400009155273, -8.06089973449707, -8.06149959564209, -8.063699722290039, -6.501999855041504, -8.070099830627441, -8.189499855041504, -8.189800262451172, -8.190199851989746, -6.105800151824951, -7.442599773406982, -7.383500099182129, -7.452499866485596, -6.876299858093262, -6.650300025939941, -4.078000068664551, -4.6321001052856445, -5.712800025939941, -5.132400035858154, -7.249100208282471, -7.388000011444092, -6.887800216674805, -6.93209981918335, -6.619900226593018, -7.033199787139893, -5.578400135040283, -5.973400115966797, -6.4207000732421875, -6.291800022125244, -5.769800186157227, -5.61899995803833, -6.242599964141846, -5.122900009155273, -6.585999965667725, -6.749100208282471, -6.299699783325195, -6.764999866485596, -5.0655999183654785, -5.98330020904541, -5.721099853515625, -5.406300067901611, -5.983099937438965, -6.057000160217285, -5.279099941253662, -5.916100025177002, -5.560500144958496, -5.430600166320801, -5.837200164794922, -5.480899810791016, -5.355599880218506, -5.272799968719482, -5.596499919891357, -5.7027997970581055, -5.658100128173828, -5.388700008392334, -5.6209001541137695, -5.448500156402588, -5.738999843597412, -5.8206000328063965, -5.830599784851074, -5.826099872589111, -5.899499893188477, -5.0883002281188965, -5.981100082397461, -5.742800235748291, -6.617700099945068, -6.674600124359131, -6.7042999267578125, -6.958700180053711, -6.708199977874756, -7.036399841308594, -7.160099983215332, -6.928999900817871, -7.1631999015808105, -7.079800128936768, -7.210599899291992, -7.359099864959717, -7.362400054931641, -7.416600227355957, -7.476500034332275, -7.476600170135498, -7.476600170135498, -7.477099895477295, -7.367400169372559, -7.541299819946289, -6.343200206756592, -7.4822998046875, -7.545199871063232, -7.682400226593018, -7.682600021362305, -7.613699913024902, -5.952099800109863, -5.482500076293945, -4.8394999504089355, -6.641900062561035, -7.044099807739258, -6.20550012588501, -6.165599822998047, -4.315700054168701, -5.581399917602539, -4.977099895477295, -6.994999885559082, -6.736499786376953, -5.371399879455566, -6.541800022125244, -6.026299953460693, -6.169899940490723, -6.156099796295166, -6.280799865722656, -6.07390022277832, -5.2342000007629395, -4.68209981918335, -6.04640007019043, -5.671299934387207, -6.133800029754639, -5.019899845123291, -5.0960001945495605, -5.190299987792969, -4.955999851226807, -5.4430999755859375, -5.4475998878479, -5.5524001121521, -5.440700054168701, -5.16349983215332, -5.26200008392334, -5.474699974060059, -5.55079984664917, -5.67519998550415, -5.644599914550781, -5.912499904632568, -5.707300186157227, -5.6321001052856445, -5.598800182342529, -5.745200157165527, -5.802299976348877, -6.330999851226807, -6.3317999839782715, -6.378300189971924, -6.427299976348877, -6.593299865722656, -6.48769998550415, -6.711699962615967, -6.7789998054504395, -6.779799938201904, -6.782599925994873, -5.85260009765625, -6.853099822998047, -6.853300094604492, -6.854400157928467, -6.93179988861084, -6.933700084686279, -6.935200214385986, -7.115499973297119, -7.21560001373291, -7.21619987487793, -6.345699787139893, -6.962200164794922, -7.331500053405762, -7.331699848175049, -7.331900119781494, -6.696000099182129, -7.332399845123291, -7.333199977874756, -7.333600044250488, -5.13040018081665, -6.513800144195557, -6.679599761962891, -5.656899929046631, -6.647200107574463, -6.932300090789795, -7.162199974060059, -5.139500141143799, -5.696199893951416, -6.296500205993652, -5.6371002197265625, -5.769700050354004, -6.2972002029418945, -6.346499919891357, -5.804599761962891, -5.387899875640869, -4.801499843597412, -6.17140007019043, -5.858799934387207, -5.78980016708374, -5.451900005340576, -6.120699882507324, -5.332600116729736, -5.184700012207031, -4.979000091552734, -5.889100074768066, -5.438799858093262, -5.441699981689453, -5.533400058746338, -5.526599884033203, -5.6656999588012695, -5.495100021362305, -5.71560001373291, -5.873600006103516, -5.82420015335083, -5.741799831390381, -5.699900150299072, -5.846700191497803, -5.9191999435424805, -6.014200210571289, -7.020999908447266, -7.32390022277832, -7.517199993133545, -6.8506999015808105, -7.708199977874756, -6.943299770355225, -7.763599872589111, -7.8196001052856445, -7.877900123596191, -7.878300189971924, -7.880199909210205, -8.01159954071045, -8.082500457763672, -8.014300346374512, -8.163999557495117, -8.16759967803955, -8.248000144958496, -8.248700141906738, -6.970900058746338, -7.440000057220459, -8.253299713134766, -8.34160041809082, -8.341899871826172, -8.34220027923584, -6.232100009918213, -8.343299865722656, -7.910900115966797, -8.107500076293945, -6.812900066375732, -7.657800197601318, -5.7241997718811035, -5.986800193786621, -4.2617998123168945, -6.642199993133545, -4.965199947357178, -5.825399875640869, -5.280900001525879, -7.360799789428711, -5.558800220489502, -5.980000019073486, -5.910999774932861, -5.923999786376953, -4.082399845123291, -5.780700206756592, -5.568699836730957, -6.126100063323975, -7.03879976272583, -4.884900093078613, -4.4583001136779785, -5.6732001304626465, -5.527900218963623, -5.47760009765625, -4.554500102996826, -5.989699840545654, -4.434000015258789, -5.447199821472168, -5.5177998542785645, -5.008999824523926, -5.470699787139893, -5.964600086212158, -5.21560001373291, -5.6579999923706055, -5.190199851989746, -5.182499885559082, -5.4156999588012695, -5.426499843597412, -5.483099937438965, -5.51230001449585, -5.63070011138916, -5.600900173187256, -5.589799880981445, -5.626200199127197, -5.650100231170654, -5.64139986038208]}, \"token.table\": {\"Topic\": [3, 3, 7, 1, 2, 3, 4, 5, 6, 7, 4, 4, 1, 2, 3, 4, 5, 7, 3, 1, 2, 3, 4, 5, 6, 7, 3, 4, 7, 1, 2, 3, 4, 5, 6, 7, 1, 2, 3, 4, 5, 6, 7, 5, 2, 4, 2, 4, 5, 7, 3, 5, 1, 2, 3, 4, 5, 6, 7, 1, 2, 3, 4, 5, 6, 7, 6, 1, 2, 3, 4, 5, 6, 7, 3, 5, 7, 7, 2, 3, 4, 5, 6, 7, 1, 2, 4, 5, 7, 2, 3, 4, 3, 6, 1, 2, 3, 4, 5, 6, 7, 7, 5, 1, 1, 3, 4, 2, 6, 4, 5, 6, 3, 2, 3, 4, 5, 7, 3, 3, 3, 5, 6, 7, 6, 1, 2, 3, 4, 5, 6, 7, 4, 4, 4, 6, 1, 3, 6, 7, 6, 7, 1, 1, 2, 3, 4, 5, 6, 7, 1, 2, 4, 5, 7, 1, 2, 3, 5, 7, 1, 7, 4, 5, 1, 4, 5, 6, 7, 1, 2, 3, 4, 5, 6, 7, 2, 3, 4, 5, 7, 6, 6, 2, 3, 5, 7, 1, 2, 3, 4, 5, 6, 7, 2, 3, 7, 1, 4, 2, 1, 2, 3, 4, 5, 6, 7, 4, 7, 3, 4, 6, 3, 1, 3, 5, 7, 2, 3, 4, 5, 7, 1, 2, 3, 4, 5, 7, 6, 1, 2, 3, 4, 5, 6, 7, 1, 2, 3, 4, 5, 6, 7, 1, 2, 3, 4, 5, 6, 7, 4, 6, 4, 6, 7, 2, 3, 4, 5, 6, 7, 1, 2, 3, 4, 5, 6, 7, 1, 2, 3, 4, 5, 6, 7, 6, 1, 2, 3, 5, 6, 7, 4, 5, 6, 2, 3, 6, 2, 1, 2, 3, 4, 5, 6, 7, 2, 1, 2, 3, 4, 5, 7, 1, 3, 1, 2, 3, 4, 5, 6, 7, 3, 1, 2, 3, 4, 5, 6, 7, 1, 3, 4, 5, 7, 7, 2, 5, 5, 2, 4, 5, 6, 2, 3, 4, 5, 7, 3, 4, 5, 7, 1, 2, 3, 4, 5, 6, 7, 1, 5, 3, 7, 1, 2, 3, 4, 5, 6, 7, 4, 1, 2, 3, 4, 5, 6, 7, 1, 2, 3, 4, 5, 6, 7, 1, 6, 1, 2, 3, 4, 5, 6, 7, 1, 7, 1, 2, 6, 7, 1, 2, 3, 5, 6, 7, 4, 1, 2, 3, 4, 5, 6, 7, 5, 3, 4, 3, 1, 2, 3, 4, 5, 6, 7, 5, 5, 3, 3, 1, 2, 3, 4, 5, 6, 7, 1, 2, 3, 2, 3, 4, 6, 7, 7, 6, 1, 2, 3, 4, 6, 7, 2, 1, 2, 3, 4, 5, 7, 1, 2, 3, 4, 6, 4, 2, 4, 1, 2, 3, 4, 5, 6, 7, 4, 4, 5, 7, 1, 2, 3, 4, 5, 6, 7, 1, 1, 7, 1, 1, 7, 7, 1, 3, 6, 7, 3, 5, 7, 1, 3, 4, 5, 6, 7, 2, 3, 4, 5, 6, 7, 1, 2, 3, 4, 5, 6, 7, 1, 4, 7, 2, 4, 5, 6, 7, 1, 2, 3, 4, 5, 6, 7, 2, 7, 1, 2, 3, 4, 5, 6, 7, 3, 4, 5, 6, 7, 2, 3, 7, 5, 1, 5, 1, 5, 5, 3, 5, 2, 3, 4, 5, 7, 3, 7, 7, 1, 2, 3, 4, 5, 6, 7, 1, 2, 3, 4, 5, 7, 1, 2, 3, 4, 5, 6, 7, 1, 2, 3, 4, 5, 6, 7, 2, 3, 4, 5, 6, 7, 2, 2, 2, 3, 2, 3, 4, 7, 2, 2, 2, 5, 5, 1, 2, 3, 4, 5, 6, 7, 1, 2, 3, 4, 7, 2, 2, 4, 5, 6, 7, 6, 5, 5, 2, 4, 5, 7, 4, 3, 6, 1, 6, 1, 2, 4, 7, 3, 4, 7, 4, 1, 2, 3, 4, 5, 6, 7, 1, 2, 3, 4, 1, 4, 5, 6, 7, 1, 3, 6, 6, 4, 1, 7, 1, 2, 3, 4, 5, 6, 7, 1, 2, 3, 4, 5, 6, 7, 4, 6, 6, 4, 5, 6, 5, 5, 1, 3, 4, 1, 2, 3, 4, 5, 6, 7, 4, 6, 7, 2, 3, 4, 5, 6, 7, 1, 2, 3, 4, 5, 6, 7, 3, 4, 4, 4, 5, 5, 6, 1, 3, 1, 3, 2, 4, 2, 2, 4, 1, 3, 4, 5, 6, 7, 2, 6, 1, 2, 7, 1, 2, 3, 4, 5, 6, 7, 5, 7, 1, 2, 3, 4, 6, 7, 4, 2, 1, 2, 3, 4, 5, 6, 7, 1, 2, 5, 5, 1, 2, 4, 6, 7, 2, 1, 2, 3, 4, 5, 6, 7, 2, 4, 5, 6, 1, 2, 4, 5, 7, 1, 2, 3, 4, 5, 6, 7, 2, 5, 6, 7, 1, 2, 3, 4, 5, 6, 7, 1, 2, 3, 4, 5, 6, 7, 1, 2, 3, 4, 5, 6, 7, 1, 2, 3, 4, 5, 7, 1, 2, 3, 4, 5, 6, 7, 7, 3, 4, 5, 6, 7, 1, 2, 3, 4, 5, 6, 7, 1, 2, 3, 4, 5, 6, 7, 1, 2, 3, 4, 5, 1, 3, 3, 5, 1, 3, 4, 6, 7, 3, 3, 2, 3, 4, 5, 6, 7, 3, 5, 1, 2, 3, 4, 5, 6, 7, 1, 2, 3, 4, 5, 7, 1, 1, 2, 3, 4, 5, 6, 7, 7, 1, 2, 3, 5, 7, 3, 5, 7, 2, 3, 5, 6, 7, 2, 4, 2, 4, 1, 2, 3, 4, 5, 6, 7, 1, 1, 2, 3, 2, 3, 4, 5, 6, 7, 1, 3, 4, 5, 7, 1, 2, 3, 4, 5, 6, 7, 3, 4, 1, 2, 3, 1, 1, 1, 4, 2, 3, 4, 5, 7, 4, 5, 7, 1, 2, 3, 4, 5, 6, 7, 4, 5, 7, 3, 6, 3, 1, 2, 3, 4, 5, 6, 7, 3, 4, 5, 6, 7, 3, 4, 5, 7, 1, 4, 5, 6, 7, 6, 6, 2, 1, 2, 3, 4, 5, 6, 7, 1, 2, 3, 4, 5, 6, 7, 1, 2, 3, 4, 5, 6, 7, 1, 2, 3, 4, 5, 6, 7, 6, 2, 1, 2, 3, 4, 5, 6, 7, 1, 2, 4, 5, 6, 7, 6, 7, 6, 3, 1, 2, 3, 4, 6, 7, 2, 1, 2, 3, 4, 5, 6, 7, 5, 1, 2, 3, 4, 5, 6, 7, 2, 3, 5, 7, 6, 6, 1, 6, 7, 1, 2, 5, 5, 1, 2, 3, 4, 5, 6, 7, 5, 1, 2, 3, 4, 4, 2, 3, 4, 1, 2, 3, 4, 5, 6, 7, 1, 3, 4, 5, 7, 4, 5, 6, 1, 2, 3, 4, 5, 6, 7, 2, 3, 7, 7, 2, 2, 5, 1, 3, 3, 4, 1, 2, 3, 4, 5, 6, 7, 1, 2, 3, 4, 5, 6, 7, 1, 3, 4, 6, 7, 1, 2, 3, 4, 5, 6, 7, 3, 1, 2, 3, 4, 5, 6, 7, 1, 2, 3, 4, 5, 6, 7, 4, 1, 2, 3, 4, 5, 6, 7, 4, 5, 1, 4, 7, 3, 4, 7, 1, 4, 5, 7, 4, 1, 5, 7, 3, 4, 5, 1, 2, 3, 4, 5, 7, 1, 3, 2, 3, 4, 6, 7, 7, 1, 2, 3, 4, 5, 6, 7, 7, 1, 2, 3, 4, 7, 3, 4, 1, 2, 3, 4, 5, 6, 7, 1, 2, 3, 4, 5, 6, 7, 1, 2, 3, 4, 5, 6, 7, 1, 2, 3, 4, 5, 6, 7, 4, 5, 6, 2, 3, 4, 5, 6, 7, 3, 4, 5, 6, 7, 2, 4, 7, 7, 2, 1, 2, 3, 4, 5, 7, 6, 6, 1, 1, 4, 2], \"Freq\": [0.8903818726539612, 0.022112829610705376, 0.9508516788482666, 0.05533405393362045, 0.05107758566737175, 0.008512930944561958, 0.025538792833685875, 0.14046336710453033, 0.05107758566737175, 0.664008617401123, 0.8999305367469788, 0.8999307751655579, 0.09656019508838654, 0.09656019508838654, 0.6016442775726318, 0.051993951201438904, 0.04456624388694763, 0.11141560971736908, 0.9712446928024292, 0.017063511535525322, 0.034127023071050644, 0.7849215269088745, 0.06825404614210129, 0.034127023071050644, 0.051190536469221115, 0.034127023071050644, 0.9442514181137085, 0.8974118828773499, 0.05982745811343193, 0.057402096688747406, 0.02100076712667942, 0.007000255398452282, 0.21140772104263306, 0.34161245822906494, 0.04200153425335884, 0.3192116618156433, 0.3869740664958954, 0.05374639853835106, 0.13974064588546753, 0.13974064588546753, 0.06449568271636963, 0.032247841358184814, 0.1934870332479477, 0.9649479985237122, 0.8383976221084595, 0.05988554283976555, 0.18356339633464813, 0.014120261184871197, 0.6918928027153015, 0.0988418236374855, 0.9337870478630066, 0.9335779547691345, 0.009207324124872684, 0.03682929649949074, 0.20025931298732758, 0.3268600106239319, 0.08977141231298447, 0.046036623418331146, 0.29003071784973145, 0.018062399700284004, 0.07927386462688446, 0.12744025886058807, 0.11339172720909119, 0.1866447925567627, 0.04214559867978096, 0.4324941039085388, 0.8736072182655334, 0.006747039500623941, 0.03373519703745842, 0.13494078814983368, 0.4992809295654297, 0.14843487739562988, 0.006747039500623941, 0.1686759889125824, 0.02419886738061905, 0.02419886738061905, 0.9195569157600403, 0.9253283739089966, 0.04759245738387108, 0.03172830492258072, 0.3648754954338074, 0.14277736842632294, 0.3648754954338074, 0.06345660984516144, 0.08819109946489334, 0.09497503191232681, 0.047487515956163406, 0.0067839305847883224, 0.7530162930488586, 0.02289094217121601, 0.32047319412231445, 0.6409463882446289, 0.971476674079895, 0.9456477165222168, 0.0415281280875206, 0.04485037922859192, 0.15946802496910095, 0.14285676181316376, 0.2441854029893875, 0.06810612976551056, 0.2990025281906128, 0.9621099233627319, 0.9688963890075684, 0.9290630221366882, 0.9433198571205139, 0.013101664371788502, 0.03930499404668808, 0.8477707505226135, 0.12111010402441025, 0.8999577760696411, 0.04997970536351204, 0.8996346592903137, 0.9875879883766174, 0.0742051973938942, 0.7534681558609009, 0.017124276608228683, 0.005708092357963324, 0.14270231127738953, 0.9415605664253235, 0.9250925779342651, 0.8095391988754272, 0.08994880318641663, 0.08994880318641663, 0.022487200796604156, 0.9255945682525635, 0.3567766845226288, 0.06606975942850113, 0.44927436113357544, 0.08589068800210953, 0.006606975570321083, 0.01982092671096325, 0.013213951140642166, 0.8416492938995361, 0.8643542528152466, 0.8836777806282043, 0.9604659676551819, 0.03339274227619171, 0.9349967241287231, 0.8869810700416565, 0.10178471356630325, 0.8675940632820129, 0.10844925791025162, 0.9224281311035156, 0.03738519921898842, 0.07477039843797684, 0.014019450172781944, 0.004673149902373552, 0.11682875454425812, 0.009346299804747105, 0.7383577227592468, 0.03350071236491203, 0.03350071236491203, 0.006700142286717892, 0.026800569146871567, 0.8978190422058105, 0.49519574642181396, 0.20555295050144196, 0.14014974236488342, 0.03737326338887215, 0.11211979389190674, 0.9166523218154907, 0.9797592759132385, 0.9607778191566467, 0.9540197849273682, 0.04896871745586395, 0.0979374349117279, 0.6855620741844177, 0.012242179363965988, 0.15914833545684814, 0.018965138122439384, 0.0568954162299633, 0.2275816649198532, 0.5784367322921753, 0.06637798249721527, 0.018965138122439384, 0.03793027624487877, 0.08088613301515579, 0.04622064530849457, 0.5315374135971069, 0.12710677087306976, 0.1964377462863922, 0.922431468963623, 0.9372720718383789, 0.23319955170154572, 0.6829415559768677, 0.016657110303640366, 0.06662844121456146, 0.018102960661053658, 0.018102960661053658, 0.23986421525478363, 0.17650385200977325, 0.21270978450775146, 0.13124646246433258, 0.20818403363227844, 0.02042929083108902, 0.04085858166217804, 0.9193180799484253, 0.14800314605236053, 0.8386844396591187, 0.8868082165718079, 0.27589529752731323, 0.04198406636714935, 0.17993171513080597, 0.0839681327342987, 0.029988618567585945, 0.017993170768022537, 0.3718588650226593, 0.02417866885662079, 0.9671468138694763, 0.13102610409259796, 0.7861566543579102, 0.03275652602314949, 0.9037501811981201, 0.8451361060142517, 0.04971389099955559, 0.024856945499777794, 0.07457083463668823, 0.027360305190086365, 0.013680152595043182, 0.013680152595043182, 0.9439305067062378, 0.013680152595043182, 0.02937624603509903, 0.009792082011699677, 0.8812873959541321, 0.04896041005849838, 0.009792082011699677, 0.02937624603509903, 0.9604424238204956, 0.03307544067502022, 0.2992173731327057, 0.06999686360359192, 0.09384194761514664, 0.07538124173879623, 0.054612938314676285, 0.37459859251976013, 0.023427924141287804, 0.08785472065210342, 0.03514188900589943, 0.03514188900589943, 0.7204086780548096, 0.011713962070643902, 0.08785472065210342, 0.06246291473507881, 0.08328388631343842, 0.17350809276103973, 0.04164194315671921, 0.04511210694909096, 0.027761295437812805, 0.565636396408081, 0.0705120638012886, 0.9166567921638489, 0.042689625173807144, 0.768413245677948, 0.17075850069522858, 0.00504914578050375, 0.35848936438560486, 0.21711327135562897, 0.12117949873209, 0.020196583122015, 0.27265387773513794, 0.004025778267532587, 0.004025778267532587, 0.020128890872001648, 0.03623200207948685, 0.7326915860176086, 0.044283557683229446, 0.15700533986091614, 0.018600931391119957, 0.0868043452501297, 0.558027982711792, 0.08060403913259506, 0.07750388234853745, 0.031001552939414978, 0.14570729434490204, 0.9328296184539795, 0.6248427629470825, 0.02118111215531826, 0.01059055607765913, 0.031771667301654816, 0.02118111215531826, 0.29653555154800415, 0.3118325173854828, 0.12473300844430923, 0.5612985491752625, 0.9132359027862549, 0.05707724392414093, 0.028538621962070465, 0.9403870105743408, 0.0549936480820179, 0.13944818079471588, 0.11980758607387543, 0.1630168855190277, 0.18265746533870697, 0.06481394171714783, 0.2749682366847992, 0.9599897265434265, 0.6700857281684875, 0.14432615041732788, 0.10309010744094849, 0.010309010744094849, 0.005154505372047424, 0.06700856983661652, 0.9083096981048584, 0.0363323874771595, 0.009608336724340916, 0.01921667344868183, 0.057650018483400345, 0.7590585947036743, 0.009608336724340916, 0.01921667344868183, 0.12490838021039963, 0.9712823033332825, 0.01702810265123844, 0.0468272790312767, 0.19582317769527435, 0.05534132942557335, 0.07662645727396011, 0.00425702566280961, 0.6002405881881714, 0.9300364255905151, 0.04894928261637688, 0.9592093229293823, 0.9912671446800232, 0.9855637550354004, 0.9364551305770874, 0.9124705195426941, 0.9670669436454773, 0.9541268944740295, 0.6411954164505005, 0.16029885411262512, 0.16029885411262512, 0.9634488821029663, 0.013838258571922779, 0.6503981351852417, 0.16605910658836365, 0.013838258571922779, 0.13838258385658264, 0.8981242775917053, 0.020886611193418503, 0.041773222386837006, 0.041773222386837006, 0.013099418953061104, 0.026198837906122208, 0.24015600979328156, 0.2794542610645294, 0.1659259796142578, 0.01746589131653309, 0.2532554268836975, 0.011616874486207962, 0.9874343276023865, 0.0385475717484951, 0.9251417517662048, 0.019976196810603142, 0.006658731959760189, 0.04661112278699875, 0.019976196810603142, 0.15980957448482513, 0.019976196810603142, 0.7324604988098145, 0.9608055949211121, 0.055039599537849426, 0.015288777649402618, 0.05809735506772995, 0.03363531082868576, 0.2446204423904419, 0.09173266589641571, 0.5045296549797058, 0.0056204055435955524, 0.02248162217438221, 0.08430607616901398, 0.10116729885339737, 0.07306526601314545, 0.011240811087191105, 0.7137914896011353, 0.9533852338790894, 0.03531056270003319, 0.04914744943380356, 0.08600804209709167, 0.07372117787599564, 0.0307171568274498, 0.0614343136548996, 0.06757774204015732, 0.6327733993530273, 0.04746966063976288, 0.9019235372543335, 0.011492250487208366, 0.03447674959897995, 0.022984500974416733, 0.9308722615242004, 0.2763904631137848, 0.3209695816040039, 0.1961480677127838, 0.053494930267333984, 0.10698986053466797, 0.04457910731434822, 0.9606313705444336, 0.12049076706171036, 0.18073615431785583, 0.46857520937919617, 0.0870211124420166, 0.0870211124420166, 0.020081793889403343, 0.040163587778806686, 0.9673532843589783, 0.9196237921714783, 0.03678495064377785, 0.9250493049621582, 0.05535610765218735, 0.058123912662267685, 0.008303415961563587, 0.1107122153043747, 0.24910247325897217, 0.024910246953368187, 0.4899015426635742, 0.9607276916503906, 0.9673740267753601, 0.9596841931343079, 0.9150381684303284, 0.17965766787528992, 0.06267128139734268, 0.09191787242889404, 0.06684936583042145, 0.17130149900913239, 0.07520553469657898, 0.35513725876808167, 0.1267024427652359, 0.8362361192703247, 0.02534048818051815, 0.013200009241700172, 0.1188000813126564, 0.19800013303756714, 0.48840034008026123, 0.1716001182794571, 0.9629502296447754, 0.9326680898666382, 0.20019245147705078, 0.716968297958374, 0.0046556382440030575, 0.032589469105005264, 0.03724510595202446, 0.009311276488006115, 0.9600622057914734, 0.14282651245594025, 0.671284556388855, 0.0571306012570858, 0.07141325622797012, 0.0285653006285429, 0.0285653006285429, 0.1773962378501892, 0.7095849514007568, 0.03547924757003784, 0.10643774271011353, 0.03547924757003784, 0.9608184695243835, 0.13597507774829865, 0.8430455327033997, 0.003027071477845311, 0.003027071477845311, 0.003027071477845311, 0.702280580997467, 0.14832650125026703, 0.13319113850593567, 0.006054142955690622, 0.9460307359695435, 0.7779895067214966, 0.037047117948532104, 0.14818847179412842, 0.20463691651821136, 0.054902587085962296, 0.24456606805324554, 0.179681196808815, 0.04991144314408302, 0.02495572157204151, 0.234583780169487, 0.9578346014022827, 0.950172483921051, 0.9723982810974121, 0.9674060344696045, 0.9543556571006775, 0.9483017921447754, 0.9484043121337891, 0.9733537435531616, 0.9198995232582092, 0.05110552906990051, 0.9558497667312622, 0.026297394186258316, 0.8941113948822021, 0.05259478837251663, 0.09213773161172867, 0.004188078455626965, 0.046068865805864334, 0.7371018528938293, 0.10470196604728699, 0.01675231382250786, 0.05057051405310631, 0.2591738998889923, 0.37927886843681335, 0.10746234655380249, 0.025285257026553154, 0.17067548632621765, 0.08050152659416199, 0.0622057244181633, 0.32200610637664795, 0.1244114488363266, 0.12807060778141022, 0.02927328273653984, 0.2524820566177368, 0.03370784968137741, 0.06741569936275482, 0.8764040470123291, 0.7301934361457825, 0.12169890105724335, 0.040566299110651016, 0.08113259822130203, 0.040566299110651016, 0.016587577760219574, 0.0767175480723381, 0.22393229603767395, 0.22185884416103363, 0.1513616442680359, 0.008293788880109787, 0.30064985156059265, 0.9336061477661133, 0.9483404159545898, 0.11416387557983398, 0.4029313325881958, 0.06043969839811325, 0.13431043922901154, 0.053724177181720734, 0.0805862620472908, 0.1544570028781891, 0.22525769472122192, 0.6275035738945007, 0.06435934454202652, 0.03217967227101326, 0.04826950654387474, 0.9658727049827576, 0.9132075905799866, 0.03805031627416611, 0.9402631521224976, 0.07474323362112045, 0.896918773651123, 0.11130914837121964, 0.8626458644866943, 0.9695971608161926, 0.9150618314743042, 0.937406063079834, 0.18531213700771332, 0.023164017125964165, 0.7412485480308533, 0.023164017125964165, 0.04632803425192833, 0.9250484704971313, 0.9558690190315247, 0.9721689224243164, 0.012974514625966549, 0.07135982811450958, 0.2530030310153961, 0.051898058503866196, 0.03243628889322281, 0.025949029251933098, 0.5546604990959167, 0.0766935721039772, 0.0511290468275547, 0.337451696395874, 0.1124839037656784, 0.23519361019134521, 0.189177468419075, 0.03338336572051048, 0.13909736275672913, 0.05007505044341087, 0.3338336646556854, 0.14466126263141632, 0.05007505044341087, 0.24481135606765747, 0.028896208852529526, 0.018782535567879677, 0.02167215570807457, 0.03178583085536957, 0.05345798656344414, 0.008668862283229828, 0.8351004123687744, 0.661152720451355, 0.04897427558898926, 0.09794855117797852, 0.09794855117797852, 0.04897427558898926, 0.04897427558898926, 0.9511417150497437, 0.9520600438117981, 0.7712847590446472, 0.15425695478916168, 0.03338761627674103, 0.8680779933929443, 0.03338761627674103, 0.03338761627674103, 0.9136273860931396, 0.9587902426719666, 0.9738518595695496, 0.9541081786155701, 0.9541054964065552, 0.038016121834516525, 0.038016121834516525, 0.00584863405674696, 0.026318853721022606, 0.04386475682258606, 0.01169726811349392, 0.836354672908783, 0.0057016112841665745, 0.0057016112841665745, 0.9350641965866089, 0.045612890273332596, 0.0057016112841665745, 0.9126070141792297, 0.15212194621562958, 0.026845049113035202, 0.1342252492904663, 0.5369009971618652, 0.15212194621562958, 0.932651937007904, 0.9462246894836426, 0.9560499787330627, 0.033606261014938354, 0.7729440331459045, 0.033606261014938354, 0.13442504405975342, 0.9460170269012451, 0.9415025115013123, 0.9327852725982666, 0.9542907476425171, 0.9445517063140869, 0.01610083132982254, 0.7245373725891113, 0.04830249026417732, 0.20931079983711243, 0.022732192650437355, 0.13639314472675323, 0.8183588981628418, 0.9444871544837952, 0.005867093335837126, 0.04609858989715576, 0.07962483167648315, 0.09135901927947998, 0.12656158208847046, 0.07040511816740036, 0.5800040364265442, 0.6516237854957581, 0.13366641104221344, 0.13366641104221344, 0.06683320552110672, 0.03535902500152588, 0.14143610000610352, 0.03535902500152588, 0.6718214750289917, 0.07071805000305176, 0.7884645462036133, 0.12872891128063202, 0.06436445564031601, 0.9328439831733704, 0.960909903049469, 0.9542785882949829, 0.9798138737678528, 0.005082892719656229, 0.13384951651096344, 0.023720165714621544, 0.6844962239265442, 0.03558024764060974, 0.005082892719656229, 0.11182364076375961, 0.011636568233370781, 0.09541986137628555, 0.1536027044057846, 0.16291196644306183, 0.16756658256053925, 0.06283747404813766, 0.3444424271583557, 0.9460054039955139, 0.9446855783462524, 0.9255353212356567, 0.9234976768493652, 0.03184474632143974, 0.03184474632143974, 0.9611024856567383, 0.9271508455276489, 0.8987993597984314, 0.07489994168281555, 0.037449970841407776, 0.03798478841781616, 0.06906325370073318, 0.08632906526327133, 0.24172139167785645, 0.20373660326004028, 0.08632906526327133, 0.27279984951019287, 0.09938536584377289, 0.016564227640628815, 0.8779040575027466, 0.06683702766895294, 0.015913577750325203, 0.18459749221801758, 0.4487628638744354, 0.04455801472067833, 0.24188637733459473, 0.08787471801042557, 0.031544771045446396, 0.18701542913913727, 0.18025583028793335, 0.17349623143672943, 0.06308954209089279, 0.27714332938194275, 0.9247605204582214, 0.03556771203875542, 0.9000756740570068, 0.1693926304578781, 0.8046150207519531, 0.08528979122638702, 0.8528979420661926, 0.9390389919281006, 0.03414687141776085, 0.9485596418380737, 0.0178973525762558, 0.9224026203155518, 0.05425897613167763, 0.9893865585327148, 0.9114154577255249, 0.045570772141218185, 0.1744356006383896, 0.026836246252059937, 0.5903974175453186, 0.1744356006383896, 0.013418123126029968, 0.026836246252059937, 0.12619982659816742, 0.8202988505363464, 0.29651910066604614, 0.6671679615974426, 0.024709923192858696, 0.35029318928718567, 0.005516428034752607, 0.5930160284042358, 0.008274642750620842, 0.005516428034752607, 0.013791070319712162, 0.02206571213901043, 0.9191012382507324, 0.03996092453598976, 0.7912015318870544, 0.01364140585064888, 0.15005546808242798, 0.01364140585064888, 0.01364140585064888, 0.01364140585064888, 0.9528383612632751, 0.8869220018386841, 0.05063367635011673, 0.08680058270692825, 0.060278184711933136, 0.1711900383234024, 0.27486851811408997, 0.00964450929313898, 0.347202330827713, 0.9223933815956116, 0.896965503692627, 0.960176944732666, 0.9272644519805908, 0.033214688301086426, 0.18268080055713654, 0.06642937660217285, 0.5646497011184692, 0.14946609735488892, 0.9335501790046692, 0.0893288180232048, 0.033498309552669525, 0.033498309552669525, 0.07816271483898163, 0.3238169848918915, 0.34614917635917664, 0.0893288180232048, 0.8971288204193115, 0.9607498645782471, 0.06629278510808945, 0.8618062138557434, 0.04071610048413277, 0.09253659099340439, 0.018507318571209908, 0.07402927428483963, 0.7736059427261353, 0.02870461530983448, 0.05057479813694954, 0.14625684916973114, 0.1667601466178894, 0.2378382384777069, 0.05604234337806702, 0.3143838942050934, 0.9406591653823853, 0.05681276321411133, 0.8521914482116699, 0.05681276321411133, 0.015562660060822964, 0.02075021341443062, 0.06397982686758041, 0.15389741957187653, 0.19193947315216064, 0.0172918438911438, 0.5360471606254578, 0.056721873581409454, 0.058612603694200516, 0.4008345901966095, 0.07184770703315735, 0.06239406019449234, 0.028360936790704727, 0.3214239478111267, 0.4869730770587921, 0.015217908658087254, 0.015217908658087254, 0.10652536153793335, 0.07608954608440399, 0.10652536153793335, 0.19783280789852142, 0.14706505835056305, 0.6372819542884827, 0.01634056307375431, 0.13072450459003448, 0.03268112614750862, 0.03268112614750862, 0.03579047694802284, 0.021474286913871765, 0.11452952772378922, 0.22905905544757843, 0.021474286913871765, 0.22190095484256744, 0.35074666142463684, 0.9486654996871948, 0.7936214804649353, 0.0678308978676796, 0.06104780733585358, 0.04069853574037552, 0.0339154489338398, 0.030623074620962143, 0.006124614737927914, 0.12249229848384857, 0.34297841787338257, 0.13474152982234955, 0.04287230223417282, 0.3123553693294525, 0.010736946016550064, 0.040263548493385315, 0.09931675344705582, 0.11005369573831558, 0.2737921178340912, 0.07247438281774521, 0.3945827782154083, 0.7921306490898132, 0.06963785737752914, 0.06963785737752914, 0.03481892868876457, 0.04352366179227829, 0.9282026290893555, 0.9156744480133057, 0.9838311672210693, 0.9463024139404297, 0.007417601533234119, 0.17060483992099762, 0.03708800673484802, 0.007417601533234119, 0.7714305520057678, 0.9696174263954163, 0.941628634929657, 0.03739146515727043, 0.018695732578635216, 0.6169591546058655, 0.09347865730524063, 0.07478293031454086, 0.1682615876197815, 0.8900429010391235, 0.9541828632354736, 0.07737702876329422, 0.01289617083966732, 0.1676502227783203, 0.03868851438164711, 0.24502724409103394, 0.41267746686935425, 0.05158468335866928, 0.3426729142665863, 0.05850513279438019, 0.07522088289260864, 0.05850513279438019, 0.35103079676628113, 0.11701026558876038, 0.9730163812637329, 0.004077789839357138, 0.020388947799801826, 0.008155579678714275, 0.028544526547193527, 0.852258026599884, 0.01631115935742855, 0.06932242214679718, 0.9673867225646973, 0.07270264625549316, 0.14540529251098633, 0.1350191980600357, 0.6335516571998596, 0.020772185176610947, 0.0653066635131836, 0.8653132915496826, 0.048979997634887695, 0.149026557803154, 0.029805311933159828, 0.20863717794418335, 0.5663009285926819, 0.029805311933159828, 0.11438997089862823, 0.85792475938797, 0.06374059617519379, 0.8923683166503906, 0.06407853215932846, 0.05606871470808983, 0.048058897256851196, 0.008009816519916058, 0.08810798078775406, 0.016019633039832115, 0.7208834886550903, 0.9542856216430664, 0.8155577182769775, 0.15784987807273865, 0.026308313012123108, 0.4034254550933838, 0.03184938058257103, 0.14863044023513794, 0.02123291976749897, 0.03184938058257103, 0.36095961928367615, 0.013395199552178383, 0.06697599589824677, 0.013395199552178383, 0.10046399384737015, 0.8104095458984375, 0.005323510151356459, 0.021294040605425835, 0.015970531851053238, 0.1384112685918808, 0.4844394326210022, 0.015970531851053238, 0.3140871226787567, 0.9602774381637573, 0.9253619909286499, 0.9414136409759521, 0.04707068204879761, 0.011767670512199402, 0.967495322227478, 0.9718551635742188, 0.9403464794158936, 0.9608476161956787, 0.011420918628573418, 0.022841837257146835, 0.5025204420089722, 0.3197857141494751, 0.13705101609230042, 0.8905133008956909, 0.016802137717604637, 0.08401069045066833, 0.0266095120459795, 0.03193141520023346, 0.12772566080093384, 0.20755420625209808, 0.02128761075437069, 0.01596570760011673, 0.5587997436523438, 0.01559346541762352, 0.8576406240463257, 0.10915426164865494, 0.9737227559089661, 0.9636319279670715, 0.9796442985534668, 0.026129795238375664, 0.008709931746125221, 0.034839726984500885, 0.3396873474121094, 0.13064897060394287, 0.25258803367614746, 0.19161850214004517, 0.5788288116455078, 0.31101250648498535, 0.06911388784646988, 0.008639235980808735, 0.01727847196161747, 0.03399426117539406, 0.01699713058769703, 0.9348421692848206, 0.008498565293848515, 0.007880348712205887, 0.007880348712205887, 0.7801545262336731, 0.13396592438220978, 0.0630427896976471, 0.9035463333129883, 0.9327916502952576, 0.9753719568252563, 0.005088305566459894, 0.010176611132919788, 0.14756086468696594, 0.7174510359764099, 0.010176611132919788, 0.010176611132919788, 0.10685441642999649, 0.018143991008400917, 0.1391039341688156, 0.06047997251152992, 0.09475195407867432, 0.22982388734817505, 0.08870396018028259, 0.3669118285179138, 0.053349003195762634, 0.056487180292606354, 0.037658121436834335, 0.1600470095872879, 0.18829059600830078, 0.056487180292606354, 0.4487592577934265, 0.9542400240898132, 0.01839504949748516, 0.1655554473400116, 0.05518515035510063, 0.1471603959798813, 0.3862960636615753, 0.20234555006027222, 0.932415246963501, 0.9335947036743164, 0.07191292941570282, 0.06985826790332794, 0.0842408537864685, 0.18902826309204102, 0.1808096468448639, 0.09245947748422623, 0.31436222791671753, 0.03817145153880119, 0.07634290307760239, 0.07634290307760239, 0.5916575193405151, 0.009542862884700298, 0.2099429965019226, 0.9171448945999146, 0.03162568435072899, 0.963460385799408, 0.915117621421814, 0.7916536927223206, 0.04589296504855156, 0.09178593009710312, 0.03441972658038139, 0.03441972658038139, 0.01147324126213789, 0.8768692016601562, 0.003655953798443079, 0.018279768526554108, 0.5886085629463196, 0.28516438603401184, 0.05118335410952568, 0.010967861860990524, 0.040215492248535156, 0.9636754989624023, 0.05175846442580223, 0.4761778712272644, 0.10351692885160446, 0.14492370188236237, 0.062110159546136856, 0.020703386515378952, 0.13457201421260834, 0.04436885938048363, 0.13310657441616058, 0.709901750087738, 0.11092215031385422, 0.9459892511367798, 0.9460004568099976, 0.94626784324646, 0.037108540534973145, 0.9312394857406616, 0.9542525410652161, 0.006068998482078314, 0.9892467260360718, 0.9843388199806213, 0.03901755437254906, 0.033443618565797806, 0.12262659519910812, 0.14492234587669373, 0.3957494795322418, 0.027869680896401405, 0.23410531878471375, 0.9510295987129211, 0.8692160844802856, 0.02120039239525795, 0.0848015695810318, 0.02120039239525795, 0.8643703460693359, 0.02511202171444893, 0.05022404342889786, 0.904032826423645, 0.029179245233535767, 0.014589622616767883, 0.14589622616767883, 0.4230990409851074, 0.1750754714012146, 0.029179245233535767, 0.18966509401798248, 0.025006966665387154, 0.5301477313041687, 0.010002787224948406, 0.020005574449896812, 0.4151156544685364, 0.9128579497337341, 0.04149354249238968, 0.9766210913658142, 0.015427965670824051, 0.1542796492576599, 0.29313135147094727, 0.12728071212768555, 0.05014088749885559, 0.011570974253118038, 0.35098621249198914, 0.10302148759365082, 0.7211503982543945, 0.14423008263111115, 0.8949881196022034, 0.9659602046012878, 0.9659537076950073, 0.9399311542510986, 0.8693717122077942, 0.11064731329679489, 0.056862056255340576, 0.9097929000854492, 0.009689578786492348, 0.04747893661260605, 0.23448780179023743, 0.0998026579618454, 0.13274723291397095, 0.016472283750772476, 0.4602549970149994, 0.012841071002185345, 0.16265356540679932, 0.12413035333156586, 0.0642053559422493, 0.12413035333156586, 0.06848571449518204, 0.4494374990463257, 0.9165995121002197, 0.9132320880889893, 0.019025668501853943, 0.019025668501853943, 0.05707700550556183, 0.017512453719973564, 0.011674968525767326, 0.47867369651794434, 0.2159869223833084, 0.1225871667265892, 0.07004981487989426, 0.08172477781772614, 0.9628165364265442, 0.12991495430469513, 0.025144830346107483, 0.029335636645555496, 0.07543449103832245, 0.08381610363721848, 0.19696784019470215, 0.4609885811805725, 0.07931641489267349, 0.06345313042402267, 0.11330916732549667, 0.11104298382997513, 0.2583448886871338, 0.07705023139715195, 0.2991361916065216, 0.9355452656745911, 0.01242415327578783, 0.14908984303474426, 0.2526244521141052, 0.1366656869649887, 0.16151398420333862, 0.016565537080168724, 0.2733313739299774, 0.8892539739608765, 0.06351813673973083, 0.03469499945640564, 0.8673749566078186, 0.10408499836921692, 0.9040595889091492, 0.00979265570640564, 0.979265570640564, 0.008755511604249477, 0.017511023208498955, 0.061288584023714066, 0.9018177390098572, 0.9833523631095886, 0.8826192617416382, 0.04903440177440643, 0.9677280187606812, 0.02037862502038479, 0.02037862502038479, 0.9374167919158936, 0.5569431781768799, 0.04801234230399132, 0.32648390531539917, 0.009602468460798264, 0.019204936921596527, 0.04801234230399132, 0.8453449606895447, 0.14793536067008972, 0.007960079237818718, 0.7243672013282776, 0.007960079237818718, 0.2228822112083435, 0.023880237713456154, 0.9800480008125305, 0.06475271284580231, 0.05582130700349808, 0.10271120071411133, 0.17192962765693665, 0.1875595897436142, 0.07814982533454895, 0.3371606767177582, 0.953131914138794, 0.0644831657409668, 0.04298877716064453, 0.7523036003112793, 0.0644831657409668, 0.04298877716064453, 0.8967997431755066, 0.0427047498524189, 0.05014665424823761, 0.04412905499339104, 0.1725044846534729, 0.1404106318950653, 0.2045983523130417, 0.05415838584303856, 0.33297377824783325, 0.04067558795213699, 0.0785459578037262, 0.14446845650672913, 0.13885803520679474, 0.13184499740600586, 0.07994856685400009, 0.3843141496181488, 0.008306650444865227, 0.15782636404037476, 0.09691092371940613, 0.16059523820877075, 0.05260878801345825, 0.04707102105021477, 0.47901684045791626, 0.05110008642077446, 0.07063835859298706, 0.0931825116276741, 0.1578090935945511, 0.24197393655776978, 0.05110008642077446, 0.3351564407348633, 0.6439940333366394, 0.3219970166683197, 0.022999785840511322, 0.07062216103076935, 0.05044439807534218, 0.07062216103076935, 0.5750661492347717, 0.04035551846027374, 0.2017775923013687, 0.025563489645719528, 0.03834523260593414, 0.7029959559440613, 0.0894722118973732, 0.14059919118881226, 0.8972301483154297, 0.06131087616086006, 0.91966313123703, 0.9559876918792725, 0.9334443807601929, 0.0287900622934103, 0.04030608758330345, 0.1381922960281372, 0.5182211399078369, 0.17849838733673096, 0.09788621217012405, 0.9634979963302612, 0.9253396987915039, 0.9741497039794922, 0.9877391457557678, 0.9608294367790222, 0.9659900069236755], \"Term\": [\"a3g\", \"abml\", \"abml\", \"accuracy\", \"accuracy\", \"accuracy\", \"accuracy\", \"accuracy\", \"accuracy\", \"accuracy\", \"acetic\", \"acetic acid\", \"activity\", \"activity\", \"activity\", \"activity\", \"activity\", \"activity\", \"adiabatic\", \"agent\", \"agent\", \"agent\", \"agent\", \"agent\", \"agent\", \"agent\", \"agile\", \"aircraft\", \"aircraft\", \"algorithm\", \"algorithm\", \"algorithm\", \"algorithm\", \"algorithm\", \"algorithm\", \"algorithm\", \"alternative\", \"alternative\", \"alternative\", \"alternative\", \"alternative\", \"alternative\", \"alternative\", \"ambulatory\", \"amoeba\", \"amoeba\", \"annotation\", \"annotation\", \"annotation\", \"annotation\", \"antibiotic\", \"appearance-based\", \"application\", \"application\", \"application\", \"application\", \"application\", \"application\", \"application\", \"approach\", \"approach\", \"approach\", \"approach\", \"approach\", \"approach\", \"approach\", \"archetypal\", \"architecture\", \"architecture\", \"architecture\", \"architecture\", \"architecture\", \"architecture\", \"architecture\", \"argument\", \"argument\", \"argument\", \"argumentation\", \"art\", \"art\", \"art\", \"art\", \"art\", \"art\", \"attribute\", \"attribute\", \"attribute\", \"attribute\", \"attribute\", \"automaton\", \"automaton\", \"automaton\", \"automaton qca\", \"banerjee\", \"based\", \"based\", \"based\", \"based\", \"based\", \"based\", \"based\", \"behavioural cloning\", \"bell\", \"bind\", \"binding\", \"binding\", \"binding\", \"biomedical\", \"biomedical\", \"bipartite\", \"bone\", \"bone\", \"bpel\", \"business\", \"business\", \"business\", \"business\", \"business\", \"capstone\", \"capstone course\", \"care\", \"care\", \"care\", \"care\", \"celf4\", \"cell\", \"cell\", \"cell\", \"cell\", \"cell\", \"cell\", \"cell\", \"centralized\", \"cep\", \"certification\", \"checkmate\", \"chemotherapy\", \"chemotherapy\", \"chess\", \"chess\", \"chess endgame\", \"chess endgame\", \"chronic wound\", \"classification\", \"classification\", \"classification\", \"classification\", \"classification\", \"classification\", \"classification\", \"classifier\", \"classifier\", \"classifier\", \"classifier\", \"classifier\", \"clinical\", \"clinical\", \"clinical\", \"clinical\", \"clinical\", \"clip\", \"cloning\", \"cmm\", \"cnn\", \"color\", \"color\", \"color\", \"color\", \"color\", \"communication\", \"communication\", \"communication\", \"communication\", \"communication\", \"communication\", \"communication\", \"community\", \"community\", \"community\", \"community\", \"community\", \"commutative\", \"commuting\", \"company\", \"company\", \"company\", \"company\", \"computer\", \"computer\", \"computer\", \"computer\", \"computer\", \"computer\", \"computer\", \"confidence\", \"confidence\", \"confidence\", \"connectivity\", \"connectivity\", \"contraction\", \"control\", \"control\", \"control\", \"control\", \"control\", \"control\", \"control\", \"controller\", \"controller\", \"convex\", \"convex\", \"convex\", \"convex skeleton\", \"coronary\", \"coronary\", \"coronary\", \"coronary\", \"corpus\", \"corpus\", \"corpus\", \"corpus\", \"corpus\", \"course\", \"course\", \"course\", \"course\", \"course\", \"course\", \"crafty\", \"data\", \"data\", \"data\", \"data\", \"data\", \"data\", \"data\", \"database\", \"database\", \"database\", \"database\", \"database\", \"database\", \"database\", \"decision\", \"decision\", \"decision\", \"decision\", \"decision\", \"decision\", \"decision\", \"deidentification\", \"deidentification\", \"dependence\", \"dependence\", \"dependence\", \"design\", \"design\", \"design\", \"design\", \"design\", \"design\", \"detection\", \"detection\", \"detection\", \"detection\", \"detection\", \"detection\", \"detection\", \"development\", \"development\", \"development\", \"development\", \"development\", \"development\", \"development\", \"dfs\", \"diagnostic\", \"diagnostic\", \"diagnostic\", \"diagnostic\", \"diagnostic\", \"diagnostic\", \"diameter\", \"diameter\", \"diameter\", \"dictyostelium\", \"dictyostelium\", \"dictyostelium\", \"dictyostelium discoideum\", \"different\", \"different\", \"different\", \"different\", \"different\", \"different\", \"different\", \"discoideum\", \"disease\", \"disease\", \"disease\", \"disease\", \"disease\", \"disease\", \"disorder\", \"disorder\", \"distributed\", \"distributed\", \"distributed\", \"distributed\", \"distributed\", \"distributed\", \"distributed\", \"dm\", \"domain\", \"domain\", \"domain\", \"domain\", \"domain\", \"domain\", \"domain\", \"dopaminergic\", \"dopaminergic\", \"dsl\", \"ear\", \"egfr\", \"egfr mutation\", \"ehg\", \"eigenimages\", \"eigenspace\", \"embedded\", \"embedded\", \"embedded\", \"endgame\", \"engineering\", \"engineering\", \"engineering\", \"engineering\", \"engineering\", \"enterprise\", \"enterprise\", \"enterprise\", \"enterprise\", \"environment\", \"environment\", \"environment\", \"environment\", \"environment\", \"environment\", \"environment\", \"episode\", \"episode\", \"essay\", \"essay\", \"estimation\", \"estimation\", \"estimation\", \"estimation\", \"estimation\", \"estimation\", \"estimation\", \"ev\", \"evaluation\", \"evaluation\", \"evaluation\", \"evaluation\", \"evaluation\", \"evaluation\", \"evaluation\", \"example\", \"example\", \"example\", \"example\", \"example\", \"example\", \"example\", \"exon\", \"exon\", \"expert\", \"expert\", \"expert\", \"expert\", \"expert\", \"expert\", \"expert\", \"explaining\", \"explaining\", \"explanation\", \"explanation\", \"explanation\", \"explanation\", \"expression\", \"expression\", \"expression\", \"expression\", \"expression\", \"expression\", \"fabric\", \"factor\", \"factor\", \"factor\", \"factor\", \"factor\", \"factor\", \"factor\", \"family medicine\", \"fault\", \"fault\", \"fault handling\", \"feature\", \"feature\", \"feature\", \"feature\", \"feature\", \"feature\", \"feature\", \"folk\", \"folk song\", \"fraud\", \"fraud management\", \"function\", \"function\", \"function\", \"function\", \"function\", \"function\", \"function\", \"gait\", \"gait\", \"gait\", \"game\", \"game\", \"game\", \"game\", \"game\", \"gaussian\", \"gcd\", \"gene\", \"gene\", \"gene\", \"gene\", \"gene\", \"gene\", \"genepath\", \"genetic\", \"genetic\", \"genetic\", \"genetic\", \"genetic\", \"genetic\", \"genome\", \"genome\", \"genome\", \"genome\", \"genome\", \"gram\", \"grammar\", \"grammar\", \"graph\", \"graph\", \"graph\", \"graph\", \"graph\", \"graph\", \"graph\", \"graphlets\", \"grid\", \"grid\", \"grid\", \"group\", \"group\", \"group\", \"group\", \"group\", \"group\", \"group\", \"healing\", \"healing rate\", \"hint\", \"hnrnp\", \"hungarian\", \"hypermedia\", \"iaa\", \"iclip\", \"ict\", \"ict\", \"ihc\", \"illumination\", \"illumination\", \"illumination\", \"image\", \"image\", \"image\", \"image\", \"image\", \"image\", \"implementation\", \"implementation\", \"implementation\", \"implementation\", \"implementation\", \"implementation\", \"important\", \"important\", \"important\", \"important\", \"important\", \"important\", \"important\", \"induction\", \"induction\", \"induction\", \"infer\", \"infer\", \"infer\", \"infer\", \"infer\", \"information\", \"information\", \"information\", \"information\", \"information\", \"information\", \"information\", \"input string\", \"intelligent tutoring\", \"interaction\", \"interaction\", \"interaction\", \"interaction\", \"interaction\", \"interaction\", \"interaction\", \"internet\", \"internet\", \"internet\", \"internet\", \"internet\", \"interruptibility\", \"intervention\", \"intervention\", \"iris\", \"ischaemic\", \"ischaemic\", \"ischemia\", \"ischemia\", \"ischemic\", \"isdm\", \"itg\", \"java\", \"java\", \"java\", \"java\", \"java\", \"kanban\", \"kernel density\", \"kinetic\", \"knowledge\", \"knowledge\", \"knowledge\", \"knowledge\", \"knowledge\", \"knowledge\", \"knowledge\", \"language\", \"language\", \"language\", \"language\", \"language\", \"language\", \"large\", \"large\", \"large\", \"large\", \"large\", \"large\", \"large\", \"learning\", \"learning\", \"learning\", \"learning\", \"learning\", \"learning\", \"learning\", \"left\", \"left\", \"left\", \"left\", \"left\", \"left\", \"left lr\", \"left parse\", \"liver\", \"liver\", \"ljubljana\", \"ljubljana\", \"ljubljana\", \"ljubljana\", \"lllr\", \"lr\", \"lr parser\", \"ltst\", \"ltst db\", \"machine\", \"machine\", \"machine\", \"machine\", \"machine\", \"machine\", \"machine\", \"management\", \"management\", \"management\", \"management\", \"management\", \"marketing\", \"matrix\", \"matrix\", \"matrix\", \"matrix\", \"matrix\", \"md\", \"mdl\", \"melodic\", \"mesh\", \"mesh\", \"mesh\", \"mesh\", \"metamodel\", \"metastasis\", \"methylation\", \"migrant\", \"minimax\", \"mining\", \"mining\", \"mining\", \"mining\", \"ml\", \"ml\", \"ml\", \"mobility\", \"model\", \"model\", \"model\", \"model\", \"model\", \"model\", \"model\", \"motor\", \"motor\", \"motor\", \"motor\", \"move\", \"move\", \"move\", \"move\", \"move\", \"mrna\", \"mrna\", \"mrna\", \"multi-document\", \"multilevel\", \"multithreaded processor\", \"naive bayesian\", \"network\", \"network\", \"network\", \"network\", \"network\", \"network\", \"network\", \"new\", \"new\", \"new\", \"new\", \"new\", \"new\", \"new\", \"ngn\", \"nilpotent\", \"nilpotent matrix\", \"node\", \"node\", \"node\", \"non-ischemic\", \"non-ischemic st\", \"nucleus\", \"nucleus\", \"nucleus\", \"number\", \"number\", \"number\", \"number\", \"number\", \"number\", \"number\", \"numerical\", \"numerical\", \"numerical\", \"object\", \"object\", \"object\", \"object\", \"object\", \"object\", \"one\", \"one\", \"one\", \"one\", \"one\", \"one\", \"one\", \"organisation\", \"organisation\", \"overlay\", \"panoramic\", \"panoramic\", \"parallelization\", \"parallelization\", \"parkinson\", \"parkinson\", \"parkinson disease\", \"parkinson disease\", \"parse\", \"parse\", \"parser\", \"parsing\", \"parsing\", \"path\", \"path\", \"path\", \"path\", \"path\", \"path\", \"pathology\", \"pathology\", \"pathway\", \"pathway\", \"pathway\", \"patient\", \"patient\", \"patient\", \"patient\", \"patient\", \"patient\", \"patient\", \"pca\", \"pca\", \"pd\", \"pd\", \"pd\", \"pd\", \"pd\", \"pd\", \"peer-to-peer\", \"percent\", \"performance\", \"performance\", \"performance\", \"performance\", \"performance\", \"performance\", \"performance\", \"pex11\", \"pi\", \"pixel\", \"plagiarism\", \"player\", \"player\", \"player\", \"player\", \"player\", \"pool\", \"position\", \"position\", \"position\", \"position\", \"position\", \"position\", \"position\", \"potato\", \"ppdr\", \"predator\", \"predator\", \"prediction\", \"prediction\", \"prediction\", \"prediction\", \"prediction\", \"present\", \"present\", \"present\", \"present\", \"present\", \"present\", \"present\", \"preterm\", \"prey\", \"prey\", \"prey\", \"problem\", \"problem\", \"problem\", \"problem\", \"problem\", \"problem\", \"problem\", \"process\", \"process\", \"process\", \"process\", \"process\", \"process\", \"process\", \"processor\", \"processor\", \"processor\", \"processor\", \"processor\", \"processor\", \"processor\", \"profile\", \"profile\", \"profile\", \"profile\", \"profile\", \"profile\", \"program\", \"program\", \"program\", \"program\", \"program\", \"program\", \"program\", \"programmable\", \"project\", \"project\", \"project\", \"project\", \"project\", \"property\", \"property\", \"property\", \"property\", \"property\", \"property\", \"property\", \"proposed\", \"proposed\", \"proposed\", \"proposed\", \"proposed\", \"proposed\", \"proposed\", \"protein\", \"protein\", \"protein\", \"protein\", \"protein\", \"pulse\", \"qad\", \"qca\", \"qrs\", \"qualitative\", \"qualitative\", \"qualitative\", \"qualitative\", \"qualitative\", \"quantum-dot\", \"quantum-dot cellular\", \"query\", \"query\", \"query\", \"query\", \"query\", \"query\", \"radiotherapy\", \"rainfall\", \"range\", \"range\", \"range\", \"range\", \"range\", \"range\", \"range\", \"rate\", \"rate\", \"rate\", \"rate\", \"rate\", \"rate\", \"rbps\", \"recognition\", \"recognition\", \"recognition\", \"recognition\", \"recognition\", \"recognition\", \"recognition\", \"recommender\", \"record\", \"record\", \"record\", \"record\", \"record\", \"recording\", \"recording\", \"recording\", \"recovery\", \"recovery\", \"recovery\", \"recovery\", \"recovery\", \"recurrent\", \"recurrent\", \"recurrent neural\", \"recurrent neural\", \"regression\", \"regression\", \"regression\", \"regression\", \"regression\", \"regression\", \"regression\", \"regulated\", \"regulation\", \"regulation\", \"regulation\", \"relation\", \"relation\", \"relation\", \"relation\", \"relation\", \"relation\", \"reliability\", \"reliability\", \"reliability\", \"reliability\", \"reliability\", \"representation\", \"representation\", \"representation\", \"representation\", \"representation\", \"representation\", \"representation\", \"rfid\", \"rmi\", \"rna\", \"rna\", \"rna\", \"rna binding\", \"rna-binding\", \"rna-binding protein\", \"road\", \"robot\", \"robot\", \"robot\", \"robot\", \"robot\", \"routing\", \"routing\", \"routing\", \"rule\", \"rule\", \"rule\", \"rule\", \"rule\", \"rule\", \"rule\", \"scene\", \"scene\", \"scene\", \"sclc\", \"sclera\", \"scrum\", \"search\", \"search\", \"search\", \"search\", \"search\", \"search\", \"search\", \"security\", \"security\", \"security\", \"security\", \"security\", \"segment\", \"segment\", \"segment\", \"segment\", \"segmentation\", \"segmentation\", \"segmentation\", \"segmentation\", \"segmentation\", \"semiring\", \"semirings\", \"serialization\", \"service\", \"service\", \"service\", \"service\", \"service\", \"service\", \"service\", \"set\", \"set\", \"set\", \"set\", \"set\", \"set\", \"set\", \"several\", \"several\", \"several\", \"several\", \"several\", \"several\", \"several\", \"shock\", \"short\", \"short\", \"short\", \"short\", \"short\", \"short\", \"short simd\", \"shot\", \"show\", \"show\", \"show\", \"show\", \"show\", \"show\", \"show\", \"signal\", \"signal\", \"signal\", \"signal\", \"signal\", \"signal\", \"simd\", \"simd\", \"simd execution\", \"sisp\", \"site\", \"site\", \"site\", \"site\", \"site\", \"site\", \"smartphone\", \"software\", \"software\", \"software\", \"software\", \"software\", \"software\", \"software\", \"song\", \"source\", \"source\", \"source\", \"source\", \"source\", \"source\", \"source\", \"speech\", \"speech\", \"speech\", \"speech\", \"splice\", \"splice site\", \"splicing\", \"splicing\", \"sport\", \"srsf3\", \"st\", \"st\", \"st segment\", \"standard\", \"standard\", \"standard\", \"standard\", \"standard\", \"standard\", \"standard\", \"stereo\", \"stimulation\", \"stimulation\", \"stimulation\", \"stimulation\", \"stone\", \"strain\", \"strain\", \"strain\", \"structure\", \"structure\", \"structure\", \"structure\", \"structure\", \"structure\", \"structure\", \"student\", \"student\", \"student\", \"student\", \"student\", \"subgraph\", \"subgraph\", \"summarization\", \"support\", \"support\", \"support\", \"support\", \"support\", \"support\", \"support\", \"survival\", \"survival\", \"survival\", \"svm\", \"sweet\", \"sweet potato\", \"swt\", \"symptom\", \"symptom\", \"synchronization\", \"synchronization\", \"system\", \"system\", \"system\", \"system\", \"system\", \"system\", \"system\", \"task\", \"task\", \"task\", \"task\", \"task\", \"task\", \"task\", \"tdp-43\", \"teaching\", \"teaching\", \"teaching\", \"teaching\", \"technology\", \"technology\", \"technology\", \"technology\", \"technology\", \"technology\", \"technology\", \"ternary\", \"test\", \"test\", \"test\", \"test\", \"test\", \"test\", \"test\", \"time\", \"time\", \"time\", \"time\", \"time\", \"time\", \"time\", \"tolerance\", \"tool\", \"tool\", \"tool\", \"tool\", \"tool\", \"tool\", \"tool\", \"topological\", \"topological\", \"topology\", \"topology\", \"topology\", \"traceability\", \"tracker\", \"tracker\", \"tracking\", \"tracking\", \"tracking\", \"tracking\", \"traffic\", \"transcript\", \"transcript\", \"transductive\", \"transient\", \"transient\", \"transient\", \"treatment\", \"treatment\", \"treatment\", \"treatment\", \"treatment\", \"treatment\", \"tremor\", \"tremor\", \"trust\", \"trust\", \"trust\", \"trust\", \"trust\", \"tutoring\", \"two\", \"two\", \"two\", \"two\", \"two\", \"two\", \"two\", \"uncertainty\", \"university\", \"university\", \"university\", \"university\", \"university\", \"university ljubljana\", \"university ljubljana\", \"use\", \"use\", \"use\", \"use\", \"use\", \"use\", \"use\", \"used\", \"used\", \"used\", \"used\", \"used\", \"used\", \"used\", \"user\", \"user\", \"user\", \"user\", \"user\", \"user\", \"user\", \"using\", \"using\", \"using\", \"using\", \"using\", \"using\", \"using\", \"vertex\", \"vertex\", \"vertex\", \"view\", \"view\", \"view\", \"view\", \"view\", \"view\", \"vision\", \"vision\", \"vision\", \"vision\", \"vision\", \"vizrank\", \"vot\", \"vot\", \"vot2014\", \"walking speed\", \"web\", \"web\", \"web\", \"web\", \"web\", \"web\", \"whole-body\", \"whole-body bone\", \"wound\", \"wound healing\", \"wsdl\", \"xml serialization\"]}, \"R\": 30, \"lambda.step\": 0.01, \"plot.opts\": {\"xlab\": \"PC1\", \"ylab\": \"PC2\"}, \"topic.order\": [1, 2, 3, 4, 5, 6, 7]};\n",
       "\n",
       "function LDAvis_load_lib(url, callback){\n",
       "  var s = document.createElement('script');\n",
       "  s.src = url;\n",
       "  s.async = true;\n",
       "  s.onreadystatechange = s.onload = callback;\n",
       "  s.onerror = function(){console.warn(\"failed to load library \" + url);};\n",
       "  document.getElementsByTagName(\"head\")[0].appendChild(s);\n",
       "}\n",
       "\n",
       "if(typeof(LDAvis) !== \"undefined\"){\n",
       "   // already loaded: just create the visualization\n",
       "   !function(LDAvis){\n",
       "       new LDAvis(\"#\" + \"ldavis_el69911398806520929049996862638\", ldavis_el69911398806520929049996862638_data);\n",
       "   }(LDAvis);\n",
       "}else if(typeof define === \"function\" && define.amd){\n",
       "   // require.js is available: use it to load d3/LDAvis\n",
       "   require.config({paths: {d3: \"https://cdnjs.cloudflare.com/ajax/libs/d3/3.5.5/d3.min\"}});\n",
       "   require([\"d3\"], function(d3){\n",
       "      window.d3 = d3;\n",
       "      LDAvis_load_lib(\"https://cdn.rawgit.com/bmabey/pyLDAvis/files/ldavis.v1.0.0.js\", function(){\n",
       "        new LDAvis(\"#\" + \"ldavis_el69911398806520929049996862638\", ldavis_el69911398806520929049996862638_data);\n",
       "      });\n",
       "    });\n",
       "}else{\n",
       "    // require.js not available: dynamically load d3 & LDAvis\n",
       "    LDAvis_load_lib(\"https://cdnjs.cloudflare.com/ajax/libs/d3/3.5.5/d3.min.js\", function(){\n",
       "         LDAvis_load_lib(\"https://cdn.rawgit.com/bmabey/pyLDAvis/files/ldavis.v1.0.0.js\", function(){\n",
       "                 new LDAvis(\"#\" + \"ldavis_el69911398806520929049996862638\", ldavis_el69911398806520929049996862638_data);\n",
       "            })\n",
       "         });\n",
       "}\n",
       "</script>"
      ],
      "text/plain": [
       "<IPython.core.display.HTML object>"
      ]
     },
     "execution_count": 14,
     "metadata": {},
     "output_type": "execute_result"
    }
   ],
   "source": [
    "pyldavis_vis(corpus, dictionary, ldamodel, save_to_html='tmp.html')"
   ]
  },
  {
   "cell_type": "markdown",
   "metadata": {},
   "source": [
    "## Cluster documents and topics\n",
    "\n",
    "Add topic vectors and generate a clustering of documents."
   ]
  },
  {
   "cell_type": "code",
   "execution_count": 15,
   "metadata": {},
   "outputs": [],
   "source": [
    "%run \"Topic Modeling/visualization.ipynb\""
   ]
  },
  {
   "cell_type": "code",
   "execution_count": 16,
   "metadata": {},
   "outputs": [],
   "source": [
    "topic_vectors = add_topics_vector(corpus, ldamodel)\n",
    "data_preprocessed_vectors = pd.concat([data_preprocessed, topic_vectors], axis=1)\n",
    "data_preprocessed_vectors.to_csv('tmp_preprocessed_vectors.csv', index=False)"
   ]
  },
  {
   "cell_type": "markdown",
   "metadata": {},
   "source": [
    "Visualize with heatmaps."
   ]
  },
  {
   "cell_type": "code",
   "execution_count": 17,
   "metadata": {
    "scrolled": false
   },
   "outputs": [
    {
     "data": {
      "image/png": "[encoded data removed]",
      "text/plain": [
       "<Figure size 432x1080 with 2 Axes>"
      ]
     },
     "metadata": {
      "needs_background": "light"
     },
     "output_type": "display_data"
    },
    {
     "data": {
      "image/png": "[encoded data removed]",
      "text/plain": [
       "<Figure size 432x1080 with 4 Axes>"
      ]
     },
     "metadata": {
      "needs_background": "light"
     },
     "output_type": "display_data"
    }
   ],
   "source": [
    "hm, cm = visualize(topic_vectors)"
   ]
  },
  {
   "cell_type": "markdown",
   "metadata": {},
   "source": [
    "Visualize by time."
   ]
  },
  {
   "cell_type": "code",
   "execution_count": 18,
   "metadata": {},
   "outputs": [],
   "source": [
    "#datetime_data = get_datetime(topic_vectors, data)\n",
    "#hm_t = heat_map_time('2000-01-01', '2010-12-31', datetime_data)"
   ]
  },
  {
   "cell_type": "code",
   "execution_count": 19,
   "metadata": {},
   "outputs": [
    {
     "data": {
      "text/html": [
       "<div>\n",
       "<style scoped>\n",
       "    .dataframe tbody tr th:only-of-type {\n",
       "        vertical-align: middle;\n",
       "    }\n",
       "\n",
       "    .dataframe tbody tr th {\n",
       "        vertical-align: top;\n",
       "    }\n",
       "\n",
       "    .dataframe thead th {\n",
       "        text-align: right;\n",
       "    }\n",
       "</style>\n",
       "<table border=\"1\" class=\"dataframe\">\n",
       "  <thead>\n",
       "    <tr style=\"text-align: right;\">\n",
       "      <th></th>\n",
       "      <th>Document_No</th>\n",
       "      <th>Dominant_Topic</th>\n",
       "      <th>Topic_Perc_Contrib</th>\n",
       "      <th>Keywords</th>\n",
       "      <th>Text</th>\n",
       "      <th>Title</th>\n",
       "    </tr>\n",
       "  </thead>\n",
       "  <tbody>\n",
       "    <tr>\n",
       "      <td>0</td>\n",
       "      <td>0</td>\n",
       "      <td>4.0</td>\n",
       "      <td>0.9906</td>\n",
       "      <td>image, algorithm, recognition, approach, detec...</td>\n",
       "      <td>Text detection in natural images has gained mu...</td>\n",
       "      <td>An improved edge profile based method for text...</td>\n",
       "    </tr>\n",
       "    <tr>\n",
       "      <td>1</td>\n",
       "      <td>1</td>\n",
       "      <td>2.0</td>\n",
       "      <td>0.5421</td>\n",
       "      <td>system, patient, process, development, managem...</td>\n",
       "      <td>Ability to integrate legacy assets and reusing...</td>\n",
       "      <td>Improving mobile operator information system e...</td>\n",
       "    </tr>\n",
       "    <tr>\n",
       "      <td>2</td>\n",
       "      <td>2</td>\n",
       "      <td>4.0</td>\n",
       "      <td>0.7843</td>\n",
       "      <td>image, algorithm, recognition, approach, detec...</td>\n",
       "      <td>Traditionally, sign languages used by the deaf...</td>\n",
       "      <td>Learning sign language through multimedia</td>\n",
       "    </tr>\n",
       "    <tr>\n",
       "      <td>3</td>\n",
       "      <td>3</td>\n",
       "      <td>6.0</td>\n",
       "      <td>0.9928</td>\n",
       "      <td>model, learning, data, system, approach, probl...</td>\n",
       "      <td>Education is a dominating application area for...</td>\n",
       "      <td>Fuzzy user modeling for adaptation in educatio...</td>\n",
       "    </tr>\n",
       "    <tr>\n",
       "      <td>4</td>\n",
       "      <td>4</td>\n",
       "      <td>6.0</td>\n",
       "      <td>0.8505</td>\n",
       "      <td>model, learning, data, system, approach, probl...</td>\n",
       "      <td>The paper presents a method for visualizing da...</td>\n",
       "      <td>Visualization in machine learning</td>\n",
       "    </tr>\n",
       "    <tr>\n",
       "      <td>...</td>\n",
       "      <td>...</td>\n",
       "      <td>...</td>\n",
       "      <td>...</td>\n",
       "      <td>...</td>\n",
       "      <td>...</td>\n",
       "      <td>...</td>\n",
       "    </tr>\n",
       "    <tr>\n",
       "      <td>1777</td>\n",
       "      <td>1777</td>\n",
       "      <td>6.0</td>\n",
       "      <td>0.9900</td>\n",
       "      <td>model, learning, data, system, approach, probl...</td>\n",
       "      <td>Data-driven intelligent tutoring systems learn...</td>\n",
       "      <td>Rewrite rules for debugging student programs i...</td>\n",
       "    </tr>\n",
       "    <tr>\n",
       "      <td>1778</td>\n",
       "      <td>1778</td>\n",
       "      <td>4.0</td>\n",
       "      <td>0.9915</td>\n",
       "      <td>image, algorithm, recognition, approach, detec...</td>\n",
       "      <td>Bell chiming is a folk music tradition that in...</td>\n",
       "      <td>Automatic transcription of bell chiming record...</td>\n",
       "    </tr>\n",
       "    <tr>\n",
       "      <td>1779</td>\n",
       "      <td>1779</td>\n",
       "      <td>0.0</td>\n",
       "      <td>0.9269</td>\n",
       "      <td>disease, patient, protein, rna, binding, site,...</td>\n",
       "      <td>Hardware multithreading is becoming a generall...</td>\n",
       "      <td>A survey of processors with explicit multithre...</td>\n",
       "    </tr>\n",
       "    <tr>\n",
       "      <td>1780</td>\n",
       "      <td>1780</td>\n",
       "      <td>5.0</td>\n",
       "      <td>0.9874</td>\n",
       "      <td>model, data, chess, matrix, used, image, test,...</td>\n",
       "      <td>Let B be a nilpotent matrix and suppose that i...</td>\n",
       "      <td>On pairs of commuting nilpotent matrices</td>\n",
       "    </tr>\n",
       "    <tr>\n",
       "      <td>1781</td>\n",
       "      <td>1781</td>\n",
       "      <td>4.0</td>\n",
       "      <td>0.7809</td>\n",
       "      <td>image, algorithm, recognition, approach, detec...</td>\n",
       "      <td>We test the hypothesis that different temporal...</td>\n",
       "      <td>Diurnal changes of heart rate and sympathovaga...</td>\n",
       "    </tr>\n",
       "  </tbody>\n",
       "</table>\n",
       "<p>1782 rows × 6 columns</p>\n",
       "</div>"
      ],
      "text/plain": [
       "      Document_No  Dominant_Topic  Topic_Perc_Contrib  \\\n",
       "0               0             4.0              0.9906   \n",
       "1               1             2.0              0.5421   \n",
       "2               2             4.0              0.7843   \n",
       "3               3             6.0              0.9928   \n",
       "4               4             6.0              0.8505   \n",
       "...           ...             ...                 ...   \n",
       "1777         1777             6.0              0.9900   \n",
       "1778         1778             4.0              0.9915   \n",
       "1779         1779             0.0              0.9269   \n",
       "1780         1780             5.0              0.9874   \n",
       "1781         1781             4.0              0.7809   \n",
       "\n",
       "                                               Keywords  \\\n",
       "0     image, algorithm, recognition, approach, detec...   \n",
       "1     system, patient, process, development, managem...   \n",
       "2     image, algorithm, recognition, approach, detec...   \n",
       "3     model, learning, data, system, approach, probl...   \n",
       "4     model, learning, data, system, approach, probl...   \n",
       "...                                                 ...   \n",
       "1777  model, learning, data, system, approach, probl...   \n",
       "1778  image, algorithm, recognition, approach, detec...   \n",
       "1779  disease, patient, protein, rna, binding, site,...   \n",
       "1780  model, data, chess, matrix, used, image, test,...   \n",
       "1781  image, algorithm, recognition, approach, detec...   \n",
       "\n",
       "                                                   Text  \\\n",
       "0     Text detection in natural images has gained mu...   \n",
       "1     Ability to integrate legacy assets and reusing...   \n",
       "2     Traditionally, sign languages used by the deaf...   \n",
       "3     Education is a dominating application area for...   \n",
       "4     The paper presents a method for visualizing da...   \n",
       "...                                                 ...   \n",
       "1777  Data-driven intelligent tutoring systems learn...   \n",
       "1778  Bell chiming is a folk music tradition that in...   \n",
       "1779  Hardware multithreading is becoming a generall...   \n",
       "1780  Let B be a nilpotent matrix and suppose that i...   \n",
       "1781  We test the hypothesis that different temporal...   \n",
       "\n",
       "                                                  Title  \n",
       "0     An improved edge profile based method for text...  \n",
       "1     Improving mobile operator information system e...  \n",
       "2             Learning sign language through multimedia  \n",
       "3     Fuzzy user modeling for adaptation in educatio...  \n",
       "4                     Visualization in machine learning  \n",
       "...                                                 ...  \n",
       "1777  Rewrite rules for debugging student programs i...  \n",
       "1778  Automatic transcription of bell chiming record...  \n",
       "1779  A survey of processors with explicit multithre...  \n",
       "1780           On pairs of commuting nilpotent matrices  \n",
       "1781  Diurnal changes of heart rate and sympathovaga...  \n",
       "\n",
       "[1782 rows x 6 columns]"
      ]
     },
     "execution_count": 19,
     "metadata": {},
     "output_type": "execute_result"
    }
   ],
   "source": [
    "dominant_topic = get_dominant_topic(ldamodel, corpus, data)\n",
    "dominant_topic"
   ]
  },
  {
   "cell_type": "code",
   "execution_count": 20,
   "metadata": {},
   "outputs": [
    {
     "data": {
      "text/html": [
       "<div>\n",
       "<style scoped>\n",
       "    .dataframe tbody tr th:only-of-type {\n",
       "        vertical-align: middle;\n",
       "    }\n",
       "\n",
       "    .dataframe tbody tr th {\n",
       "        vertical-align: top;\n",
       "    }\n",
       "\n",
       "    .dataframe thead th {\n",
       "        text-align: right;\n",
       "    }\n",
       "</style>\n",
       "<table border=\"1\" class=\"dataframe\">\n",
       "  <thead>\n",
       "    <tr style=\"text-align: right;\">\n",
       "      <th></th>\n",
       "      <th>Document_No</th>\n",
       "      <th>Topic_Num</th>\n",
       "      <th>Topic_Perc_Contrib</th>\n",
       "      <th>Keywords</th>\n",
       "      <th>Text</th>\n",
       "      <th>Title</th>\n",
       "    </tr>\n",
       "  </thead>\n",
       "  <tbody>\n",
       "    <tr>\n",
       "      <td>0</td>\n",
       "      <td>170</td>\n",
       "      <td>0.0</td>\n",
       "      <td>0.9961</td>\n",
       "      <td>disease, patient, protein, rna, binding, site,...</td>\n",
       "      <td>Pallidal deep brain stimulation is an establis...</td>\n",
       "      <td>Parkinsonian signs in patients with cervical d...</td>\n",
       "    </tr>\n",
       "    <tr>\n",
       "      <td>1</td>\n",
       "      <td>189</td>\n",
       "      <td>1.0</td>\n",
       "      <td>0.9969</td>\n",
       "      <td>data, gene, mining, approach, network, differe...</td>\n",
       "      <td>Predicting preterm birth is uncertain, and num...</td>\n",
       "      <td>Characterization and automatic classification ...</td>\n",
       "    </tr>\n",
       "    <tr>\n",
       "      <td>2</td>\n",
       "      <td>1513</td>\n",
       "      <td>2.0</td>\n",
       "      <td>0.9967</td>\n",
       "      <td>system, patient, process, development, managem...</td>\n",
       "      <td>Background. Small cell lung cancer (SCLC) repr...</td>\n",
       "      <td>Outcome of small cell lung cancer (SCLC) patie...</td>\n",
       "    </tr>\n",
       "    <tr>\n",
       "      <td>3</td>\n",
       "      <td>1564</td>\n",
       "      <td>3.0</td>\n",
       "      <td>0.9964</td>\n",
       "      <td>network, graph, algorithm, application, servic...</td>\n",
       "      <td>Background: Acetic acid is one of the major in...</td>\n",
       "      <td>Polygenic analysis and targeted improvement of...</td>\n",
       "    </tr>\n",
       "    <tr>\n",
       "      <td>4</td>\n",
       "      <td>1350</td>\n",
       "      <td>4.0</td>\n",
       "      <td>0.9973</td>\n",
       "      <td>image, algorithm, recognition, approach, detec...</td>\n",
       "      <td>Ischemia is a condition which can lead to insu...</td>\n",
       "      <td>Multipass Algorithm for Detection of Transient...</td>\n",
       "    </tr>\n",
       "    <tr>\n",
       "      <td>5</td>\n",
       "      <td>153</td>\n",
       "      <td>5.0</td>\n",
       "      <td>0.9942</td>\n",
       "      <td>model, data, chess, matrix, used, image, test,...</td>\n",
       "      <td>Trust ratings shared by users in electronic co...</td>\n",
       "      <td>TACO: a novel method for trust rating subjecti...</td>\n",
       "    </tr>\n",
       "    <tr>\n",
       "      <td>6</td>\n",
       "      <td>156</td>\n",
       "      <td>6.0</td>\n",
       "      <td>0.9956</td>\n",
       "      <td>model, learning, data, system, approach, probl...</td>\n",
       "      <td>Comparisons between classifiers are a crucial ...</td>\n",
       "      <td>Statistical comparisons of classifiers in mach...</td>\n",
       "    </tr>\n",
       "  </tbody>\n",
       "</table>\n",
       "</div>"
      ],
      "text/plain": [
       "   Document_No  Topic_Num  Topic_Perc_Contrib  \\\n",
       "0          170        0.0              0.9961   \n",
       "1          189        1.0              0.9969   \n",
       "2         1513        2.0              0.9967   \n",
       "3         1564        3.0              0.9964   \n",
       "4         1350        4.0              0.9973   \n",
       "5          153        5.0              0.9942   \n",
       "6          156        6.0              0.9956   \n",
       "\n",
       "                                            Keywords  \\\n",
       "0  disease, patient, protein, rna, binding, site,...   \n",
       "1  data, gene, mining, approach, network, differe...   \n",
       "2  system, patient, process, development, managem...   \n",
       "3  network, graph, algorithm, application, servic...   \n",
       "4  image, algorithm, recognition, approach, detec...   \n",
       "5  model, data, chess, matrix, used, image, test,...   \n",
       "6  model, learning, data, system, approach, probl...   \n",
       "\n",
       "                                                Text  \\\n",
       "0  Pallidal deep brain stimulation is an establis...   \n",
       "1  Predicting preterm birth is uncertain, and num...   \n",
       "2  Background. Small cell lung cancer (SCLC) repr...   \n",
       "3  Background: Acetic acid is one of the major in...   \n",
       "4  Ischemia is a condition which can lead to insu...   \n",
       "5  Trust ratings shared by users in electronic co...   \n",
       "6  Comparisons between classifiers are a crucial ...   \n",
       "\n",
       "                                               Title  \n",
       "0  Parkinsonian signs in patients with cervical d...  \n",
       "1  Characterization and automatic classification ...  \n",
       "2  Outcome of small cell lung cancer (SCLC) patie...  \n",
       "3  Polygenic analysis and targeted improvement of...  \n",
       "4  Multipass Algorithm for Detection of Transient...  \n",
       "5  TACO: a novel method for trust rating subjecti...  \n",
       "6  Statistical comparisons of classifiers in mach...  "
      ]
     },
     "execution_count": 20,
     "metadata": {},
     "output_type": "execute_result"
    }
   ],
   "source": [
    "representative_docs = get_representative_doc(dominant_topic)\n",
    "representative_docs"
   ]
  },
  {
   "cell_type": "code",
   "execution_count": 21,
   "metadata": {},
   "outputs": [
    {
     "data": {
      "text/html": [
       "<div>\n",
       "<style scoped>\n",
       "    .dataframe tbody tr th:only-of-type {\n",
       "        vertical-align: middle;\n",
       "    }\n",
       "\n",
       "    .dataframe tbody tr th {\n",
       "        vertical-align: top;\n",
       "    }\n",
       "\n",
       "    .dataframe thead th {\n",
       "        text-align: right;\n",
       "    }\n",
       "</style>\n",
       "<table border=\"1\" class=\"dataframe\">\n",
       "  <thead>\n",
       "    <tr style=\"text-align: right;\">\n",
       "      <th></th>\n",
       "      <th>Topic_Num</th>\n",
       "      <th>Topic_Keywords</th>\n",
       "      <th>Num_Documents</th>\n",
       "      <th>Perc_Documents</th>\n",
       "    </tr>\n",
       "  </thead>\n",
       "  <tbody>\n",
       "    <tr>\n",
       "      <td>0.0</td>\n",
       "      <td>0.0</td>\n",
       "      <td>disease, patient, protein, rna, binding, site,...</td>\n",
       "      <td>104</td>\n",
       "      <td>0.0584</td>\n",
       "    </tr>\n",
       "    <tr>\n",
       "      <td>1.0</td>\n",
       "      <td>1.0</td>\n",
       "      <td>data, gene, mining, approach, network, differe...</td>\n",
       "      <td>137</td>\n",
       "      <td>0.0769</td>\n",
       "    </tr>\n",
       "    <tr>\n",
       "      <td>2.0</td>\n",
       "      <td>2.0</td>\n",
       "      <td>system, patient, process, development, managem...</td>\n",
       "      <td>266</td>\n",
       "      <td>0.1493</td>\n",
       "    </tr>\n",
       "    <tr>\n",
       "      <td>3.0</td>\n",
       "      <td>3.0</td>\n",
       "      <td>network, graph, algorithm, application, servic...</td>\n",
       "      <td>299</td>\n",
       "      <td>0.1678</td>\n",
       "    </tr>\n",
       "    <tr>\n",
       "      <td>4.0</td>\n",
       "      <td>4.0</td>\n",
       "      <td>image, algorithm, recognition, approach, detec...</td>\n",
       "      <td>314</td>\n",
       "      <td>0.1762</td>\n",
       "    </tr>\n",
       "    <tr>\n",
       "      <td>5.0</td>\n",
       "      <td>5.0</td>\n",
       "      <td>model, data, chess, matrix, used, image, test,...</td>\n",
       "      <td>146</td>\n",
       "      <td>0.0819</td>\n",
       "    </tr>\n",
       "    <tr>\n",
       "      <td>6.0</td>\n",
       "      <td>6.0</td>\n",
       "      <td>model, learning, data, system, approach, probl...</td>\n",
       "      <td>516</td>\n",
       "      <td>0.2896</td>\n",
       "    </tr>\n",
       "  </tbody>\n",
       "</table>\n",
       "</div>"
      ],
      "text/plain": [
       "     Topic_Num                                     Topic_Keywords  \\\n",
       "0.0        0.0  disease, patient, protein, rna, binding, site,...   \n",
       "1.0        1.0  data, gene, mining, approach, network, differe...   \n",
       "2.0        2.0  system, patient, process, development, managem...   \n",
       "3.0        3.0  network, graph, algorithm, application, servic...   \n",
       "4.0        4.0  image, algorithm, recognition, approach, detec...   \n",
       "5.0        5.0  model, data, chess, matrix, used, image, test,...   \n",
       "6.0        6.0  model, learning, data, system, approach, probl...   \n",
       "\n",
       "     Num_Documents  Perc_Documents  \n",
       "0.0            104          0.0584  \n",
       "1.0            137          0.0769  \n",
       "2.0            266          0.1493  \n",
       "3.0            299          0.1678  \n",
       "4.0            314          0.1762  \n",
       "5.0            146          0.0819  \n",
       "6.0            516          0.2896  "
      ]
     },
     "execution_count": 21,
     "metadata": {},
     "output_type": "execute_result"
    }
   ],
   "source": [
    "topic_distribution = get_topic_distribution(dominant_topic, representative_docs)\n",
    "topic_distribution"
   ]
  },
  {
   "cell_type": "markdown",
   "metadata": {},
   "source": [
    "## Time-based visualizations"
   ]
  },
  {
   "cell_type": "markdown",
   "metadata": {},
   "source": [
    "Visualizing which topics were the most popular throughout the years."
   ]
  },
  {
   "cell_type": "code",
   "execution_count": 22,
   "metadata": {},
   "outputs": [],
   "source": [
    "import plotly.graph_objects as go\n",
    "import plotly.express as px"
   ]
  },
  {
   "cell_type": "code",
   "execution_count": 40,
   "metadata": {},
   "outputs": [],
   "source": [
    "totals = []\n",
    "means = []\n",
    "x = []\n",
    "\n",
    "for year in range(2003, 2020):\n",
    "    indices = data.index[data['Date'] == year].tolist()\n",
    "    \n",
    "    total = len(indices)\n",
    "\n",
    "    year_dominant_topic = dominant_topic[dominant_topic.index.isin(indices)]\n",
    "    topic_count = year_dominant_topic['Dominant_Topic'].value_counts()\n",
    "    \n",
    "    t = []\n",
    "    m = []\n",
    "    \n",
    "    for i in range(num_topics):\n",
    "        try:\n",
    "            t.append(topic_count[i])\n",
    "            m.append(topic_count[i] / total)\n",
    "        except:\n",
    "            t.append(0)\n",
    "            m.append(0)\n",
    "        \n",
    "    totals.append(t)\n",
    "    means.append(m)\n",
    "    x.append(year)\n",
    "    \n",
    "totals = np.array(totals).transpose()\n",
    "means = np.array(means).transpose()"
   ]
  },
  {
   "cell_type": "code",
   "execution_count": 41,
   "metadata": {},
   "outputs": [
    {
     "data": {
      "application/vnd.plotly.v1+json": {
       "config": {
        "plotlyServerURL": "https://plot.ly"
       },
       "data": [
        {
         "mode": "lines",
         "name": "topic 1",
         "type": "scatter",
         "x": [
          2003,
          2004,
          2005,
          2006,
          2007,
          2008,
          2009,
          2010,
          2011,
          2012,
          2013,
          2014,
          2015,
          2016,
          2017,
          2018,
          2019
         ],
         "y": [
          0,
          0,
          0,
          0,
          0,
          0,
          0,
          0,
          0,
          0,
          0,
          0,
          0,
          0,
          0,
          0,
          0
         ]
        },
        {
         "mode": "lines",
         "name": "topic 2",
         "type": "scatter",
         "x": [
          2003,
          2004,
          2005,
          2006,
          2007,
          2008,
          2009,
          2010,
          2011,
          2012,
          2013,
          2014,
          2015,
          2016,
          2017,
          2018,
          2019
         ],
         "y": [
          0,
          0,
          0,
          0,
          0,
          0,
          0,
          0,
          0,
          0,
          0,
          0,
          0,
          0,
          0,
          0,
          0
         ]
        },
        {
         "mode": "lines",
         "name": "topic 3",
         "type": "scatter",
         "x": [
          2003,
          2004,
          2005,
          2006,
          2007,
          2008,
          2009,
          2010,
          2011,
          2012,
          2013,
          2014,
          2015,
          2016,
          2017,
          2018,
          2019
         ],
         "y": [
          0,
          0,
          0,
          0,
          0,
          0,
          0,
          0,
          0,
          0,
          0,
          0,
          0,
          0,
          0,
          0,
          0
         ]
        },
        {
         "mode": "lines",
         "name": "topic 4",
         "type": "scatter",
         "x": [
          2003,
          2004,
          2005,
          2006,
          2007,
          2008,
          2009,
          2010,
          2011,
          2012,
          2013,
          2014,
          2015,
          2016,
          2017,
          2018,
          2019
         ],
         "y": [
          0,
          0,
          0,
          0,
          0,
          0,
          0,
          0,
          0,
          0,
          0,
          0,
          0,
          0,
          0,
          0,
          0
         ]
        },
        {
         "mode": "lines",
         "name": "topic 5",
         "type": "scatter",
         "x": [
          2003,
          2004,
          2005,
          2006,
          2007,
          2008,
          2009,
          2010,
          2011,
          2012,
          2013,
          2014,
          2015,
          2016,
          2017,
          2018,
          2019
         ],
         "y": [
          0,
          0,
          0,
          0,
          0,
          0,
          0,
          0,
          0,
          0,
          0,
          0,
          0,
          0,
          0,
          0,
          0
         ]
        },
        {
         "mode": "lines",
         "name": "topic 6",
         "type": "scatter",
         "x": [
          2003,
          2004,
          2005,
          2006,
          2007,
          2008,
          2009,
          2010,
          2011,
          2012,
          2013,
          2014,
          2015,
          2016,
          2017,
          2018,
          2019
         ],
         "y": [
          0,
          0,
          0,
          0,
          0,
          0,
          0,
          0,
          0,
          0,
          0,
          0,
          0,
          0,
          0,
          0,
          0
         ]
        },
        {
         "mode": "lines",
         "name": "topic 7",
         "type": "scatter",
         "x": [
          2003,
          2004,
          2005,
          2006,
          2007,
          2008,
          2009,
          2010,
          2011,
          2012,
          2013,
          2014,
          2015,
          2016,
          2017,
          2018,
          2019
         ],
         "y": [
          0,
          0,
          0,
          0,
          0,
          0,
          1,
          0,
          0,
          0,
          0,
          0,
          0,
          0,
          0,
          0,
          0
         ]
        }
       ],
       "layout": {
        "template": {
         "data": {
          "bar": [
           {
            "error_x": {
             "color": "#2a3f5f"
            },
            "error_y": {
             "color": "#2a3f5f"
            },
            "marker": {
             "line": {
              "color": "#E5ECF6",
              "width": 0.5
             }
            },
            "type": "bar"
           }
          ],
          "barpolar": [
           {
            "marker": {
             "line": {
              "color": "#E5ECF6",
              "width": 0.5
             }
            },
            "type": "barpolar"
           }
          ],
          "carpet": [
           {
            "aaxis": {
             "endlinecolor": "#2a3f5f",
             "gridcolor": "white",
             "linecolor": "white",
             "minorgridcolor": "white",
             "startlinecolor": "#2a3f5f"
            },
            "baxis": {
             "endlinecolor": "#2a3f5f",
             "gridcolor": "white",
             "linecolor": "white",
             "minorgridcolor": "white",
             "startlinecolor": "#2a3f5f"
            },
            "type": "carpet"
           }
          ],
          "choropleth": [
           {
            "colorbar": {
             "outlinewidth": 0,
             "ticks": ""
            },
            "type": "choropleth"
           }
          ],
          "contour": [
           {
            "colorbar": {
             "outlinewidth": 0,
             "ticks": ""
            },
            "colorscale": [
             [
              0,
              "#0d0887"
             ],
             [
              0.1111111111111111,
              "#46039f"
             ],
             [
              0.2222222222222222,
              "#7201a8"
             ],
             [
              0.3333333333333333,
              "#9c179e"
             ],
             [
              0.4444444444444444,
              "#bd3786"
             ],
             [
              0.5555555555555556,
              "#d8576b"
             ],
             [
              0.6666666666666666,
              "#ed7953"
             ],
             [
              0.7777777777777778,
              "#fb9f3a"
             ],
             [
              0.8888888888888888,
              "#fdca26"
             ],
             [
              1,
              "#f0f921"
             ]
            ],
            "type": "contour"
           }
          ],
          "contourcarpet": [
           {
            "colorbar": {
             "outlinewidth": 0,
             "ticks": ""
            },
            "type": "contourcarpet"
           }
          ],
          "heatmap": [
           {
            "colorbar": {
             "outlinewidth": 0,
             "ticks": ""
            },
            "colorscale": [
             [
              0,
              "#0d0887"
             ],
             [
              0.1111111111111111,
              "#46039f"
             ],
             [
              0.2222222222222222,
              "#7201a8"
             ],
             [
              0.3333333333333333,
              "#9c179e"
             ],
             [
              0.4444444444444444,
              "#bd3786"
             ],
             [
              0.5555555555555556,
              "#d8576b"
             ],
             [
              0.6666666666666666,
              "#ed7953"
             ],
             [
              0.7777777777777778,
              "#fb9f3a"
             ],
             [
              0.8888888888888888,
              "#fdca26"
             ],
             [
              1,
              "#f0f921"
             ]
            ],
            "type": "heatmap"
           }
          ],
          "heatmapgl": [
           {
            "colorbar": {
             "outlinewidth": 0,
             "ticks": ""
            },
            "colorscale": [
             [
              0,
              "#0d0887"
             ],
             [
              0.1111111111111111,
              "#46039f"
             ],
             [
              0.2222222222222222,
              "#7201a8"
             ],
             [
              0.3333333333333333,
              "#9c179e"
             ],
             [
              0.4444444444444444,
              "#bd3786"
             ],
             [
              0.5555555555555556,
              "#d8576b"
             ],
             [
              0.6666666666666666,
              "#ed7953"
             ],
             [
              0.7777777777777778,
              "#fb9f3a"
             ],
             [
              0.8888888888888888,
              "#fdca26"
             ],
             [
              1,
              "#f0f921"
             ]
            ],
            "type": "heatmapgl"
           }
          ],
          "histogram": [
           {
            "marker": {
             "colorbar": {
              "outlinewidth": 0,
              "ticks": ""
             }
            },
            "type": "histogram"
           }
          ],
          "histogram2d": [
           {
            "colorbar": {
             "outlinewidth": 0,
             "ticks": ""
            },
            "colorscale": [
             [
              0,
              "#0d0887"
             ],
             [
              0.1111111111111111,
              "#46039f"
             ],
             [
              0.2222222222222222,
              "#7201a8"
             ],
             [
              0.3333333333333333,
              "#9c179e"
             ],
             [
              0.4444444444444444,
              "#bd3786"
             ],
             [
              0.5555555555555556,
              "#d8576b"
             ],
             [
              0.6666666666666666,
              "#ed7953"
             ],
             [
              0.7777777777777778,
              "#fb9f3a"
             ],
             [
              0.8888888888888888,
              "#fdca26"
             ],
             [
              1,
              "#f0f921"
             ]
            ],
            "type": "histogram2d"
           }
          ],
          "histogram2dcontour": [
           {
            "colorbar": {
             "outlinewidth": 0,
             "ticks": ""
            },
            "colorscale": [
             [
              0,
              "#0d0887"
             ],
             [
              0.1111111111111111,
              "#46039f"
             ],
             [
              0.2222222222222222,
              "#7201a8"
             ],
             [
              0.3333333333333333,
              "#9c179e"
             ],
             [
              0.4444444444444444,
              "#bd3786"
             ],
             [
              0.5555555555555556,
              "#d8576b"
             ],
             [
              0.6666666666666666,
              "#ed7953"
             ],
             [
              0.7777777777777778,
              "#fb9f3a"
             ],
             [
              0.8888888888888888,
              "#fdca26"
             ],
             [
              1,
              "#f0f921"
             ]
            ],
            "type": "histogram2dcontour"
           }
          ],
          "mesh3d": [
           {
            "colorbar": {
             "outlinewidth": 0,
             "ticks": ""
            },
            "type": "mesh3d"
           }
          ],
          "parcoords": [
           {
            "line": {
             "colorbar": {
              "outlinewidth": 0,
              "ticks": ""
             }
            },
            "type": "parcoords"
           }
          ],
          "scatter": [
           {
            "marker": {
             "colorbar": {
              "outlinewidth": 0,
              "ticks": ""
             }
            },
            "type": "scatter"
           }
          ],
          "scatter3d": [
           {
            "line": {
             "colorbar": {
              "outlinewidth": 0,
              "ticks": ""
             }
            },
            "marker": {
             "colorbar": {
              "outlinewidth": 0,
              "ticks": ""
             }
            },
            "type": "scatter3d"
           }
          ],
          "scattercarpet": [
           {
            "marker": {
             "colorbar": {
              "outlinewidth": 0,
              "ticks": ""
             }
            },
            "type": "scattercarpet"
           }
          ],
          "scattergeo": [
           {
            "marker": {
             "colorbar": {
              "outlinewidth": 0,
              "ticks": ""
             }
            },
            "type": "scattergeo"
           }
          ],
          "scattergl": [
           {
            "marker": {
             "colorbar": {
              "outlinewidth": 0,
              "ticks": ""
             }
            },
            "type": "scattergl"
           }
          ],
          "scattermapbox": [
           {
            "marker": {
             "colorbar": {
              "outlinewidth": 0,
              "ticks": ""
             }
            },
            "type": "scattermapbox"
           }
          ],
          "scatterpolar": [
           {
            "marker": {
             "colorbar": {
              "outlinewidth": 0,
              "ticks": ""
             }
            },
            "type": "scatterpolar"
           }
          ],
          "scatterpolargl": [
           {
            "marker": {
             "colorbar": {
              "outlinewidth": 0,
              "ticks": ""
             }
            },
            "type": "scatterpolargl"
           }
          ],
          "scatterternary": [
           {
            "marker": {
             "colorbar": {
              "outlinewidth": 0,
              "ticks": ""
             }
            },
            "type": "scatterternary"
           }
          ],
          "surface": [
           {
            "colorbar": {
             "outlinewidth": 0,
             "ticks": ""
            },
            "colorscale": [
             [
              0,
              "#0d0887"
             ],
             [
              0.1111111111111111,
              "#46039f"
             ],
             [
              0.2222222222222222,
              "#7201a8"
             ],
             [
              0.3333333333333333,
              "#9c179e"
             ],
             [
              0.4444444444444444,
              "#bd3786"
             ],
             [
              0.5555555555555556,
              "#d8576b"
             ],
             [
              0.6666666666666666,
              "#ed7953"
             ],
             [
              0.7777777777777778,
              "#fb9f3a"
             ],
             [
              0.8888888888888888,
              "#fdca26"
             ],
             [
              1,
              "#f0f921"
             ]
            ],
            "type": "surface"
           }
          ],
          "table": [
           {
            "cells": {
             "fill": {
              "color": "#EBF0F8"
             },
             "line": {
              "color": "white"
             }
            },
            "header": {
             "fill": {
              "color": "#C8D4E3"
             },
             "line": {
              "color": "white"
             }
            },
            "type": "table"
           }
          ]
         },
         "layout": {
          "annotationdefaults": {
           "arrowcolor": "#2a3f5f",
           "arrowhead": 0,
           "arrowwidth": 1
          },
          "colorscale": {
           "diverging": [
            [
             0,
             "#8e0152"
            ],
            [
             0.1,
             "#c51b7d"
            ],
            [
             0.2,
             "#de77ae"
            ],
            [
             0.3,
             "#f1b6da"
            ],
            [
             0.4,
             "#fde0ef"
            ],
            [
             0.5,
             "#f7f7f7"
            ],
            [
             0.6,
             "#e6f5d0"
            ],
            [
             0.7,
             "#b8e186"
            ],
            [
             0.8,
             "#7fbc41"
            ],
            [
             0.9,
             "#4d9221"
            ],
            [
             1,
             "#276419"
            ]
           ],
           "sequential": [
            [
             0,
             "#0d0887"
            ],
            [
             0.1111111111111111,
             "#46039f"
            ],
            [
             0.2222222222222222,
             "#7201a8"
            ],
            [
             0.3333333333333333,
             "#9c179e"
            ],
            [
             0.4444444444444444,
             "#bd3786"
            ],
            [
             0.5555555555555556,
             "#d8576b"
            ],
            [
             0.6666666666666666,
             "#ed7953"
            ],
            [
             0.7777777777777778,
             "#fb9f3a"
            ],
            [
             0.8888888888888888,
             "#fdca26"
            ],
            [
             1,
             "#f0f921"
            ]
           ],
           "sequentialminus": [
            [
             0,
             "#0d0887"
            ],
            [
             0.1111111111111111,
             "#46039f"
            ],
            [
             0.2222222222222222,
             "#7201a8"
            ],
            [
             0.3333333333333333,
             "#9c179e"
            ],
            [
             0.4444444444444444,
             "#bd3786"
            ],
            [
             0.5555555555555556,
             "#d8576b"
            ],
            [
             0.6666666666666666,
             "#ed7953"
            ],
            [
             0.7777777777777778,
             "#fb9f3a"
            ],
            [
             0.8888888888888888,
             "#fdca26"
            ],
            [
             1,
             "#f0f921"
            ]
           ]
          },
          "colorway": [
           "#636efa",
           "#EF553B",
           "#00cc96",
           "#ab63fa",
           "#FFA15A",
           "#19d3f3",
           "#FF6692",
           "#B6E880",
           "#FF97FF",
           "#FECB52"
          ],
          "font": {
           "color": "#2a3f5f"
          },
          "geo": {
           "bgcolor": "white",
           "lakecolor": "white",
           "landcolor": "#E5ECF6",
           "showlakes": true,
           "showland": true,
           "subunitcolor": "white"
          },
          "hoverlabel": {
           "align": "left"
          },
          "hovermode": "closest",
          "mapbox": {
           "style": "light"
          },
          "paper_bgcolor": "white",
          "plot_bgcolor": "#E5ECF6",
          "polar": {
           "angularaxis": {
            "gridcolor": "white",
            "linecolor": "white",
            "ticks": ""
           },
           "bgcolor": "#E5ECF6",
           "radialaxis": {
            "gridcolor": "white",
            "linecolor": "white",
            "ticks": ""
           }
          },
          "scene": {
           "xaxis": {
            "backgroundcolor": "#E5ECF6",
            "gridcolor": "white",
            "gridwidth": 2,
            "linecolor": "white",
            "showbackground": true,
            "ticks": "",
            "zerolinecolor": "white"
           },
           "yaxis": {
            "backgroundcolor": "#E5ECF6",
            "gridcolor": "white",
            "gridwidth": 2,
            "linecolor": "white",
            "showbackground": true,
            "ticks": "",
            "zerolinecolor": "white"
           },
           "zaxis": {
            "backgroundcolor": "#E5ECF6",
            "gridcolor": "white",
            "gridwidth": 2,
            "linecolor": "white",
            "showbackground": true,
            "ticks": "",
            "zerolinecolor": "white"
           }
          },
          "shapedefaults": {
           "line": {
            "color": "#2a3f5f"
           }
          },
          "ternary": {
           "aaxis": {
            "gridcolor": "white",
            "linecolor": "white",
            "ticks": ""
           },
           "baxis": {
            "gridcolor": "white",
            "linecolor": "white",
            "ticks": ""
           },
           "bgcolor": "#E5ECF6",
           "caxis": {
            "gridcolor": "white",
            "linecolor": "white",
            "ticks": ""
           }
          },
          "title": {
           "x": 0.05
          },
          "xaxis": {
           "automargin": true,
           "gridcolor": "white",
           "linecolor": "white",
           "ticks": "",
           "zerolinecolor": "white",
           "zerolinewidth": 2
          },
          "yaxis": {
           "automargin": true,
           "gridcolor": "white",
           "linecolor": "white",
           "ticks": "",
           "zerolinecolor": "white",
           "zerolinewidth": 2
          }
         }
        }
       }
      },
      "text/html": [
       "<div>\n",
       "        \n",
       "        \n",
       "            <div id=\"984d338a-716f-4eb0-bdec-b8bd88f6dd19\" class=\"plotly-graph-div\" style=\"height:525px; width:100%;\"></div>\n",
       "            <script type=\"text/javascript\">\n",
       "                require([\"plotly\"], function(Plotly) {\n",
       "                    window.PLOTLYENV=window.PLOTLYENV || {};\n",
       "                    \n",
       "                if (document.getElementById(\"984d338a-716f-4eb0-bdec-b8bd88f6dd19\")) {\n",
       "                    Plotly.newPlot(\n",
       "                        '984d338a-716f-4eb0-bdec-b8bd88f6dd19',\n",
       "                        [{\"mode\": \"lines\", \"name\": \"topic 1\", \"type\": \"scatter\", \"x\": [2003, 2004, 2005, 2006, 2007, 2008, 2009, 2010, 2011, 2012, 2013, 2014, 2015, 2016, 2017, 2018, 2019], \"y\": [0, 0, 0, 0, 0, 0, 0, 0, 0, 0, 0, 0, 0, 0, 0, 0, 0]}, {\"mode\": \"lines\", \"name\": \"topic 2\", \"type\": \"scatter\", \"x\": [2003, 2004, 2005, 2006, 2007, 2008, 2009, 2010, 2011, 2012, 2013, 2014, 2015, 2016, 2017, 2018, 2019], \"y\": [0, 0, 0, 0, 0, 0, 0, 0, 0, 0, 0, 0, 0, 0, 0, 0, 0]}, {\"mode\": \"lines\", \"name\": \"topic 3\", \"type\": \"scatter\", \"x\": [2003, 2004, 2005, 2006, 2007, 2008, 2009, 2010, 2011, 2012, 2013, 2014, 2015, 2016, 2017, 2018, 2019], \"y\": [0, 0, 0, 0, 0, 0, 0, 0, 0, 0, 0, 0, 0, 0, 0, 0, 0]}, {\"mode\": \"lines\", \"name\": \"topic 4\", \"type\": \"scatter\", \"x\": [2003, 2004, 2005, 2006, 2007, 2008, 2009, 2010, 2011, 2012, 2013, 2014, 2015, 2016, 2017, 2018, 2019], \"y\": [0, 0, 0, 0, 0, 0, 0, 0, 0, 0, 0, 0, 0, 0, 0, 0, 0]}, {\"mode\": \"lines\", \"name\": \"topic 5\", \"type\": \"scatter\", \"x\": [2003, 2004, 2005, 2006, 2007, 2008, 2009, 2010, 2011, 2012, 2013, 2014, 2015, 2016, 2017, 2018, 2019], \"y\": [0, 0, 0, 0, 0, 0, 0, 0, 0, 0, 0, 0, 0, 0, 0, 0, 0]}, {\"mode\": \"lines\", \"name\": \"topic 6\", \"type\": \"scatter\", \"x\": [2003, 2004, 2005, 2006, 2007, 2008, 2009, 2010, 2011, 2012, 2013, 2014, 2015, 2016, 2017, 2018, 2019], \"y\": [0, 0, 0, 0, 0, 0, 0, 0, 0, 0, 0, 0, 0, 0, 0, 0, 0]}, {\"mode\": \"lines\", \"name\": \"topic 7\", \"type\": \"scatter\", \"x\": [2003, 2004, 2005, 2006, 2007, 2008, 2009, 2010, 2011, 2012, 2013, 2014, 2015, 2016, 2017, 2018, 2019], \"y\": [0, 0, 0, 0, 0, 0, 1, 0, 0, 0, 0, 0, 0, 0, 0, 0, 0]}],\n",
       "                        {\"template\": {\"data\": {\"bar\": [{\"error_x\": {\"color\": \"#2a3f5f\"}, \"error_y\": {\"color\": \"#2a3f5f\"}, \"marker\": {\"line\": {\"color\": \"#E5ECF6\", \"width\": 0.5}}, \"type\": \"bar\"}], \"barpolar\": [{\"marker\": {\"line\": {\"color\": \"#E5ECF6\", \"width\": 0.5}}, \"type\": \"barpolar\"}], \"carpet\": [{\"aaxis\": {\"endlinecolor\": \"#2a3f5f\", \"gridcolor\": \"white\", \"linecolor\": \"white\", \"minorgridcolor\": \"white\", \"startlinecolor\": \"#2a3f5f\"}, \"baxis\": {\"endlinecolor\": \"#2a3f5f\", \"gridcolor\": \"white\", \"linecolor\": \"white\", \"minorgridcolor\": \"white\", \"startlinecolor\": \"#2a3f5f\"}, \"type\": \"carpet\"}], \"choropleth\": [{\"colorbar\": {\"outlinewidth\": 0, \"ticks\": \"\"}, \"type\": \"choropleth\"}], \"contour\": [{\"colorbar\": {\"outlinewidth\": 0, \"ticks\": \"\"}, \"colorscale\": [[0.0, \"#0d0887\"], [0.1111111111111111, \"#46039f\"], [0.2222222222222222, \"#7201a8\"], [0.3333333333333333, \"#9c179e\"], [0.4444444444444444, \"#bd3786\"], [0.5555555555555556, \"#d8576b\"], [0.6666666666666666, \"#ed7953\"], [0.7777777777777778, \"#fb9f3a\"], [0.8888888888888888, \"#fdca26\"], [1.0, \"#f0f921\"]], \"type\": \"contour\"}], \"contourcarpet\": [{\"colorbar\": {\"outlinewidth\": 0, \"ticks\": \"\"}, \"type\": \"contourcarpet\"}], \"heatmap\": [{\"colorbar\": {\"outlinewidth\": 0, \"ticks\": \"\"}, \"colorscale\": [[0.0, \"#0d0887\"], [0.1111111111111111, \"#46039f\"], [0.2222222222222222, \"#7201a8\"], [0.3333333333333333, \"#9c179e\"], [0.4444444444444444, \"#bd3786\"], [0.5555555555555556, \"#d8576b\"], [0.6666666666666666, \"#ed7953\"], [0.7777777777777778, \"#fb9f3a\"], [0.8888888888888888, \"#fdca26\"], [1.0, \"#f0f921\"]], \"type\": \"heatmap\"}], \"heatmapgl\": [{\"colorbar\": {\"outlinewidth\": 0, \"ticks\": \"\"}, \"colorscale\": [[0.0, \"#0d0887\"], [0.1111111111111111, \"#46039f\"], [0.2222222222222222, \"#7201a8\"], [0.3333333333333333, \"#9c179e\"], [0.4444444444444444, \"#bd3786\"], [0.5555555555555556, \"#d8576b\"], [0.6666666666666666, \"#ed7953\"], [0.7777777777777778, \"#fb9f3a\"], [0.8888888888888888, \"#fdca26\"], [1.0, \"#f0f921\"]], \"type\": \"heatmapgl\"}], \"histogram\": [{\"marker\": {\"colorbar\": {\"outlinewidth\": 0, \"ticks\": \"\"}}, \"type\": \"histogram\"}], \"histogram2d\": [{\"colorbar\": {\"outlinewidth\": 0, \"ticks\": \"\"}, \"colorscale\": [[0.0, \"#0d0887\"], [0.1111111111111111, \"#46039f\"], [0.2222222222222222, \"#7201a8\"], [0.3333333333333333, \"#9c179e\"], [0.4444444444444444, \"#bd3786\"], [0.5555555555555556, \"#d8576b\"], [0.6666666666666666, \"#ed7953\"], [0.7777777777777778, \"#fb9f3a\"], [0.8888888888888888, \"#fdca26\"], [1.0, \"#f0f921\"]], \"type\": \"histogram2d\"}], \"histogram2dcontour\": [{\"colorbar\": {\"outlinewidth\": 0, \"ticks\": \"\"}, \"colorscale\": [[0.0, \"#0d0887\"], [0.1111111111111111, \"#46039f\"], [0.2222222222222222, \"#7201a8\"], [0.3333333333333333, \"#9c179e\"], [0.4444444444444444, \"#bd3786\"], [0.5555555555555556, \"#d8576b\"], [0.6666666666666666, \"#ed7953\"], [0.7777777777777778, \"#fb9f3a\"], [0.8888888888888888, \"#fdca26\"], [1.0, \"#f0f921\"]], \"type\": \"histogram2dcontour\"}], \"mesh3d\": [{\"colorbar\": {\"outlinewidth\": 0, \"ticks\": \"\"}, \"type\": \"mesh3d\"}], \"parcoords\": [{\"line\": {\"colorbar\": {\"outlinewidth\": 0, \"ticks\": \"\"}}, \"type\": \"parcoords\"}], \"scatter\": [{\"marker\": {\"colorbar\": {\"outlinewidth\": 0, \"ticks\": \"\"}}, \"type\": \"scatter\"}], \"scatter3d\": [{\"line\": {\"colorbar\": {\"outlinewidth\": 0, \"ticks\": \"\"}}, \"marker\": {\"colorbar\": {\"outlinewidth\": 0, \"ticks\": \"\"}}, \"type\": \"scatter3d\"}], \"scattercarpet\": [{\"marker\": {\"colorbar\": {\"outlinewidth\": 0, \"ticks\": \"\"}}, \"type\": \"scattercarpet\"}], \"scattergeo\": [{\"marker\": {\"colorbar\": {\"outlinewidth\": 0, \"ticks\": \"\"}}, \"type\": \"scattergeo\"}], \"scattergl\": [{\"marker\": {\"colorbar\": {\"outlinewidth\": 0, \"ticks\": \"\"}}, \"type\": \"scattergl\"}], \"scattermapbox\": [{\"marker\": {\"colorbar\": {\"outlinewidth\": 0, \"ticks\": \"\"}}, \"type\": \"scattermapbox\"}], \"scatterpolar\": [{\"marker\": {\"colorbar\": {\"outlinewidth\": 0, \"ticks\": \"\"}}, \"type\": \"scatterpolar\"}], \"scatterpolargl\": [{\"marker\": {\"colorbar\": {\"outlinewidth\": 0, \"ticks\": \"\"}}, \"type\": \"scatterpolargl\"}], \"scatterternary\": [{\"marker\": {\"colorbar\": {\"outlinewidth\": 0, \"ticks\": \"\"}}, \"type\": \"scatterternary\"}], \"surface\": [{\"colorbar\": {\"outlinewidth\": 0, \"ticks\": \"\"}, \"colorscale\": [[0.0, \"#0d0887\"], [0.1111111111111111, \"#46039f\"], [0.2222222222222222, \"#7201a8\"], [0.3333333333333333, \"#9c179e\"], [0.4444444444444444, \"#bd3786\"], [0.5555555555555556, \"#d8576b\"], [0.6666666666666666, \"#ed7953\"], [0.7777777777777778, \"#fb9f3a\"], [0.8888888888888888, \"#fdca26\"], [1.0, \"#f0f921\"]], \"type\": \"surface\"}], \"table\": [{\"cells\": {\"fill\": {\"color\": \"#EBF0F8\"}, \"line\": {\"color\": \"white\"}}, \"header\": {\"fill\": {\"color\": \"#C8D4E3\"}, \"line\": {\"color\": \"white\"}}, \"type\": \"table\"}]}, \"layout\": {\"annotationdefaults\": {\"arrowcolor\": \"#2a3f5f\", \"arrowhead\": 0, \"arrowwidth\": 1}, \"colorscale\": {\"diverging\": [[0, \"#8e0152\"], [0.1, \"#c51b7d\"], [0.2, \"#de77ae\"], [0.3, \"#f1b6da\"], [0.4, \"#fde0ef\"], [0.5, \"#f7f7f7\"], [0.6, \"#e6f5d0\"], [0.7, \"#b8e186\"], [0.8, \"#7fbc41\"], [0.9, \"#4d9221\"], [1, \"#276419\"]], \"sequential\": [[0.0, \"#0d0887\"], [0.1111111111111111, \"#46039f\"], [0.2222222222222222, \"#7201a8\"], [0.3333333333333333, \"#9c179e\"], [0.4444444444444444, \"#bd3786\"], [0.5555555555555556, \"#d8576b\"], [0.6666666666666666, \"#ed7953\"], [0.7777777777777778, \"#fb9f3a\"], [0.8888888888888888, \"#fdca26\"], [1.0, \"#f0f921\"]], \"sequentialminus\": [[0.0, \"#0d0887\"], [0.1111111111111111, \"#46039f\"], [0.2222222222222222, \"#7201a8\"], [0.3333333333333333, \"#9c179e\"], [0.4444444444444444, \"#bd3786\"], [0.5555555555555556, \"#d8576b\"], [0.6666666666666666, \"#ed7953\"], [0.7777777777777778, \"#fb9f3a\"], [0.8888888888888888, \"#fdca26\"], [1.0, \"#f0f921\"]]}, \"colorway\": [\"#636efa\", \"#EF553B\", \"#00cc96\", \"#ab63fa\", \"#FFA15A\", \"#19d3f3\", \"#FF6692\", \"#B6E880\", \"#FF97FF\", \"#FECB52\"], \"font\": {\"color\": \"#2a3f5f\"}, \"geo\": {\"bgcolor\": \"white\", \"lakecolor\": \"white\", \"landcolor\": \"#E5ECF6\", \"showlakes\": true, \"showland\": true, \"subunitcolor\": \"white\"}, \"hoverlabel\": {\"align\": \"left\"}, \"hovermode\": \"closest\", \"mapbox\": {\"style\": \"light\"}, \"paper_bgcolor\": \"white\", \"plot_bgcolor\": \"#E5ECF6\", \"polar\": {\"angularaxis\": {\"gridcolor\": \"white\", \"linecolor\": \"white\", \"ticks\": \"\"}, \"bgcolor\": \"#E5ECF6\", \"radialaxis\": {\"gridcolor\": \"white\", \"linecolor\": \"white\", \"ticks\": \"\"}}, \"scene\": {\"xaxis\": {\"backgroundcolor\": \"#E5ECF6\", \"gridcolor\": \"white\", \"gridwidth\": 2, \"linecolor\": \"white\", \"showbackground\": true, \"ticks\": \"\", \"zerolinecolor\": \"white\"}, \"yaxis\": {\"backgroundcolor\": \"#E5ECF6\", \"gridcolor\": \"white\", \"gridwidth\": 2, \"linecolor\": \"white\", \"showbackground\": true, \"ticks\": \"\", \"zerolinecolor\": \"white\"}, \"zaxis\": {\"backgroundcolor\": \"#E5ECF6\", \"gridcolor\": \"white\", \"gridwidth\": 2, \"linecolor\": \"white\", \"showbackground\": true, \"ticks\": \"\", \"zerolinecolor\": \"white\"}}, \"shapedefaults\": {\"line\": {\"color\": \"#2a3f5f\"}}, \"ternary\": {\"aaxis\": {\"gridcolor\": \"white\", \"linecolor\": \"white\", \"ticks\": \"\"}, \"baxis\": {\"gridcolor\": \"white\", \"linecolor\": \"white\", \"ticks\": \"\"}, \"bgcolor\": \"#E5ECF6\", \"caxis\": {\"gridcolor\": \"white\", \"linecolor\": \"white\", \"ticks\": \"\"}}, \"title\": {\"x\": 0.05}, \"xaxis\": {\"automargin\": true, \"gridcolor\": \"white\", \"linecolor\": \"white\", \"ticks\": \"\", \"zerolinecolor\": \"white\", \"zerolinewidth\": 2}, \"yaxis\": {\"automargin\": true, \"gridcolor\": \"white\", \"linecolor\": \"white\", \"ticks\": \"\", \"zerolinecolor\": \"white\", \"zerolinewidth\": 2}}}},\n",
       "                        {\"responsive\": true}\n",
       "                    ).then(function(){\n",
       "                            \n",
       "var gd = document.getElementById('984d338a-716f-4eb0-bdec-b8bd88f6dd19');\n",
       "var x = new MutationObserver(function (mutations, observer) {{\n",
       "        var display = window.getComputedStyle(gd).display;\n",
       "        if (!display || display === 'none') {{\n",
       "            console.log([gd, 'removed!']);\n",
       "            Plotly.purge(gd);\n",
       "            observer.disconnect();\n",
       "        }}\n",
       "}});\n",
       "\n",
       "// Listen for the removal of the full notebook cells\n",
       "var notebookContainer = gd.closest('#notebook-container');\n",
       "if (notebookContainer) {{\n",
       "    x.observe(notebookContainer, {childList: true});\n",
       "}}\n",
       "\n",
       "// Listen for the clearing of the current output cell\n",
       "var outputEl = gd.closest('.output');\n",
       "if (outputEl) {{\n",
       "    x.observe(outputEl, {childList: true});\n",
       "}}\n",
       "\n",
       "                        })\n",
       "                };\n",
       "                });\n",
       "            </script>\n",
       "        </div>"
      ]
     },
     "metadata": {},
     "output_type": "display_data"
    }
   ],
   "source": [
    "fig = go.Figure()\n",
    "\n",
    "for i in range(len(totals)):\n",
    "    fig.add_trace(go.Scatter(x = x, y=totals[i],\n",
    "                    mode='lines',\n",
    "                    name='topic {:}'.format(i + 1)))\n",
    "fig.show()"
   ]
  },
  {
   "cell_type": "code",
   "execution_count": 42,
   "metadata": {},
   "outputs": [
    {
     "data": {
      "application/vnd.plotly.v1+json": {
       "config": {
        "plotlyServerURL": "https://plot.ly"
       },
       "data": [
        {
         "mode": "lines",
         "name": "topic 1",
         "type": "scatter",
         "x": [
          2003,
          2004,
          2005,
          2006,
          2007,
          2008,
          2009,
          2010,
          2011,
          2012,
          2013,
          2014,
          2015,
          2016,
          2017,
          2018,
          2019
         ],
         "y": [
          0,
          0,
          0,
          0,
          0,
          0,
          0,
          0,
          0,
          0,
          0,
          0,
          0,
          0,
          0,
          0,
          0
         ]
        },
        {
         "mode": "lines",
         "name": "topic 2",
         "type": "scatter",
         "x": [
          2003,
          2004,
          2005,
          2006,
          2007,
          2008,
          2009,
          2010,
          2011,
          2012,
          2013,
          2014,
          2015,
          2016,
          2017,
          2018,
          2019
         ],
         "y": [
          0,
          0,
          0,
          0,
          0,
          0,
          0,
          0,
          0,
          0,
          0,
          0,
          0,
          0,
          0,
          0,
          0
         ]
        },
        {
         "mode": "lines",
         "name": "topic 3",
         "type": "scatter",
         "x": [
          2003,
          2004,
          2005,
          2006,
          2007,
          2008,
          2009,
          2010,
          2011,
          2012,
          2013,
          2014,
          2015,
          2016,
          2017,
          2018,
          2019
         ],
         "y": [
          0,
          0,
          0,
          0,
          0,
          0,
          0,
          0,
          0,
          0,
          0,
          0,
          0,
          0,
          0,
          0,
          0
         ]
        },
        {
         "mode": "lines",
         "name": "topic 4",
         "type": "scatter",
         "x": [
          2003,
          2004,
          2005,
          2006,
          2007,
          2008,
          2009,
          2010,
          2011,
          2012,
          2013,
          2014,
          2015,
          2016,
          2017,
          2018,
          2019
         ],
         "y": [
          0,
          0,
          0,
          0,
          0,
          0,
          0,
          0,
          0,
          0,
          0,
          0,
          0,
          0,
          0,
          0,
          0
         ]
        },
        {
         "mode": "lines",
         "name": "topic 5",
         "type": "scatter",
         "x": [
          2003,
          2004,
          2005,
          2006,
          2007,
          2008,
          2009,
          2010,
          2011,
          2012,
          2013,
          2014,
          2015,
          2016,
          2017,
          2018,
          2019
         ],
         "y": [
          0,
          0,
          0,
          0,
          0,
          0,
          0,
          0,
          0,
          0,
          0,
          0,
          0,
          0,
          0,
          0,
          0
         ]
        },
        {
         "mode": "lines",
         "name": "topic 6",
         "type": "scatter",
         "x": [
          2003,
          2004,
          2005,
          2006,
          2007,
          2008,
          2009,
          2010,
          2011,
          2012,
          2013,
          2014,
          2015,
          2016,
          2017,
          2018,
          2019
         ],
         "y": [
          0,
          0,
          0,
          0,
          0,
          0,
          0,
          0,
          0,
          0,
          0,
          0,
          0,
          0,
          0,
          0,
          0
         ]
        },
        {
         "mode": "lines",
         "name": "topic 7",
         "type": "scatter",
         "x": [
          2003,
          2004,
          2005,
          2006,
          2007,
          2008,
          2009,
          2010,
          2011,
          2012,
          2013,
          2014,
          2015,
          2016,
          2017,
          2018,
          2019
         ],
         "y": [
          0,
          0,
          0,
          0,
          0,
          0,
          1,
          0,
          0,
          0,
          0,
          0,
          0,
          0,
          0,
          0,
          0
         ]
        }
       ],
       "layout": {
        "template": {
         "data": {
          "bar": [
           {
            "error_x": {
             "color": "#2a3f5f"
            },
            "error_y": {
             "color": "#2a3f5f"
            },
            "marker": {
             "line": {
              "color": "#E5ECF6",
              "width": 0.5
             }
            },
            "type": "bar"
           }
          ],
          "barpolar": [
           {
            "marker": {
             "line": {
              "color": "#E5ECF6",
              "width": 0.5
             }
            },
            "type": "barpolar"
           }
          ],
          "carpet": [
           {
            "aaxis": {
             "endlinecolor": "#2a3f5f",
             "gridcolor": "white",
             "linecolor": "white",
             "minorgridcolor": "white",
             "startlinecolor": "#2a3f5f"
            },
            "baxis": {
             "endlinecolor": "#2a3f5f",
             "gridcolor": "white",
             "linecolor": "white",
             "minorgridcolor": "white",
             "startlinecolor": "#2a3f5f"
            },
            "type": "carpet"
           }
          ],
          "choropleth": [
           {
            "colorbar": {
             "outlinewidth": 0,
             "ticks": ""
            },
            "type": "choropleth"
           }
          ],
          "contour": [
           {
            "colorbar": {
             "outlinewidth": 0,
             "ticks": ""
            },
            "colorscale": [
             [
              0,
              "#0d0887"
             ],
             [
              0.1111111111111111,
              "#46039f"
             ],
             [
              0.2222222222222222,
              "#7201a8"
             ],
             [
              0.3333333333333333,
              "#9c179e"
             ],
             [
              0.4444444444444444,
              "#bd3786"
             ],
             [
              0.5555555555555556,
              "#d8576b"
             ],
             [
              0.6666666666666666,
              "#ed7953"
             ],
             [
              0.7777777777777778,
              "#fb9f3a"
             ],
             [
              0.8888888888888888,
              "#fdca26"
             ],
             [
              1,
              "#f0f921"
             ]
            ],
            "type": "contour"
           }
          ],
          "contourcarpet": [
           {
            "colorbar": {
             "outlinewidth": 0,
             "ticks": ""
            },
            "type": "contourcarpet"
           }
          ],
          "heatmap": [
           {
            "colorbar": {
             "outlinewidth": 0,
             "ticks": ""
            },
            "colorscale": [
             [
              0,
              "#0d0887"
             ],
             [
              0.1111111111111111,
              "#46039f"
             ],
             [
              0.2222222222222222,
              "#7201a8"
             ],
             [
              0.3333333333333333,
              "#9c179e"
             ],
             [
              0.4444444444444444,
              "#bd3786"
             ],
             [
              0.5555555555555556,
              "#d8576b"
             ],
             [
              0.6666666666666666,
              "#ed7953"
             ],
             [
              0.7777777777777778,
              "#fb9f3a"
             ],
             [
              0.8888888888888888,
              "#fdca26"
             ],
             [
              1,
              "#f0f921"
             ]
            ],
            "type": "heatmap"
           }
          ],
          "heatmapgl": [
           {
            "colorbar": {
             "outlinewidth": 0,
             "ticks": ""
            },
            "colorscale": [
             [
              0,
              "#0d0887"
             ],
             [
              0.1111111111111111,
              "#46039f"
             ],
             [
              0.2222222222222222,
              "#7201a8"
             ],
             [
              0.3333333333333333,
              "#9c179e"
             ],
             [
              0.4444444444444444,
              "#bd3786"
             ],
             [
              0.5555555555555556,
              "#d8576b"
             ],
             [
              0.6666666666666666,
              "#ed7953"
             ],
             [
              0.7777777777777778,
              "#fb9f3a"
             ],
             [
              0.8888888888888888,
              "#fdca26"
             ],
             [
              1,
              "#f0f921"
             ]
            ],
            "type": "heatmapgl"
           }
          ],
          "histogram": [
           {
            "marker": {
             "colorbar": {
              "outlinewidth": 0,
              "ticks": ""
             }
            },
            "type": "histogram"
           }
          ],
          "histogram2d": [
           {
            "colorbar": {
             "outlinewidth": 0,
             "ticks": ""
            },
            "colorscale": [
             [
              0,
              "#0d0887"
             ],
             [
              0.1111111111111111,
              "#46039f"
             ],
             [
              0.2222222222222222,
              "#7201a8"
             ],
             [
              0.3333333333333333,
              "#9c179e"
             ],
             [
              0.4444444444444444,
              "#bd3786"
             ],
             [
              0.5555555555555556,
              "#d8576b"
             ],
             [
              0.6666666666666666,
              "#ed7953"
             ],
             [
              0.7777777777777778,
              "#fb9f3a"
             ],
             [
              0.8888888888888888,
              "#fdca26"
             ],
             [
              1,
              "#f0f921"
             ]
            ],
            "type": "histogram2d"
           }
          ],
          "histogram2dcontour": [
           {
            "colorbar": {
             "outlinewidth": 0,
             "ticks": ""
            },
            "colorscale": [
             [
              0,
              "#0d0887"
             ],
             [
              0.1111111111111111,
              "#46039f"
             ],
             [
              0.2222222222222222,
              "#7201a8"
             ],
             [
              0.3333333333333333,
              "#9c179e"
             ],
             [
              0.4444444444444444,
              "#bd3786"
             ],
             [
              0.5555555555555556,
              "#d8576b"
             ],
             [
              0.6666666666666666,
              "#ed7953"
             ],
             [
              0.7777777777777778,
              "#fb9f3a"
             ],
             [
              0.8888888888888888,
              "#fdca26"
             ],
             [
              1,
              "#f0f921"
             ]
            ],
            "type": "histogram2dcontour"
           }
          ],
          "mesh3d": [
           {
            "colorbar": {
             "outlinewidth": 0,
             "ticks": ""
            },
            "type": "mesh3d"
           }
          ],
          "parcoords": [
           {
            "line": {
             "colorbar": {
              "outlinewidth": 0,
              "ticks": ""
             }
            },
            "type": "parcoords"
           }
          ],
          "scatter": [
           {
            "marker": {
             "colorbar": {
              "outlinewidth": 0,
              "ticks": ""
             }
            },
            "type": "scatter"
           }
          ],
          "scatter3d": [
           {
            "line": {
             "colorbar": {
              "outlinewidth": 0,
              "ticks": ""
             }
            },
            "marker": {
             "colorbar": {
              "outlinewidth": 0,
              "ticks": ""
             }
            },
            "type": "scatter3d"
           }
          ],
          "scattercarpet": [
           {
            "marker": {
             "colorbar": {
              "outlinewidth": 0,
              "ticks": ""
             }
            },
            "type": "scattercarpet"
           }
          ],
          "scattergeo": [
           {
            "marker": {
             "colorbar": {
              "outlinewidth": 0,
              "ticks": ""
             }
            },
            "type": "scattergeo"
           }
          ],
          "scattergl": [
           {
            "marker": {
             "colorbar": {
              "outlinewidth": 0,
              "ticks": ""
             }
            },
            "type": "scattergl"
           }
          ],
          "scattermapbox": [
           {
            "marker": {
             "colorbar": {
              "outlinewidth": 0,
              "ticks": ""
             }
            },
            "type": "scattermapbox"
           }
          ],
          "scatterpolar": [
           {
            "marker": {
             "colorbar": {
              "outlinewidth": 0,
              "ticks": ""
             }
            },
            "type": "scatterpolar"
           }
          ],
          "scatterpolargl": [
           {
            "marker": {
             "colorbar": {
              "outlinewidth": 0,
              "ticks": ""
             }
            },
            "type": "scatterpolargl"
           }
          ],
          "scatterternary": [
           {
            "marker": {
             "colorbar": {
              "outlinewidth": 0,
              "ticks": ""
             }
            },
            "type": "scatterternary"
           }
          ],
          "surface": [
           {
            "colorbar": {
             "outlinewidth": 0,
             "ticks": ""
            },
            "colorscale": [
             [
              0,
              "#0d0887"
             ],
             [
              0.1111111111111111,
              "#46039f"
             ],
             [
              0.2222222222222222,
              "#7201a8"
             ],
             [
              0.3333333333333333,
              "#9c179e"
             ],
             [
              0.4444444444444444,
              "#bd3786"
             ],
             [
              0.5555555555555556,
              "#d8576b"
             ],
             [
              0.6666666666666666,
              "#ed7953"
             ],
             [
              0.7777777777777778,
              "#fb9f3a"
             ],
             [
              0.8888888888888888,
              "#fdca26"
             ],
             [
              1,
              "#f0f921"
             ]
            ],
            "type": "surface"
           }
          ],
          "table": [
           {
            "cells": {
             "fill": {
              "color": "#EBF0F8"
             },
             "line": {
              "color": "white"
             }
            },
            "header": {
             "fill": {
              "color": "#C8D4E3"
             },
             "line": {
              "color": "white"
             }
            },
            "type": "table"
           }
          ]
         },
         "layout": {
          "annotationdefaults": {
           "arrowcolor": "#2a3f5f",
           "arrowhead": 0,
           "arrowwidth": 1
          },
          "colorscale": {
           "diverging": [
            [
             0,
             "#8e0152"
            ],
            [
             0.1,
             "#c51b7d"
            ],
            [
             0.2,
             "#de77ae"
            ],
            [
             0.3,
             "#f1b6da"
            ],
            [
             0.4,
             "#fde0ef"
            ],
            [
             0.5,
             "#f7f7f7"
            ],
            [
             0.6,
             "#e6f5d0"
            ],
            [
             0.7,
             "#b8e186"
            ],
            [
             0.8,
             "#7fbc41"
            ],
            [
             0.9,
             "#4d9221"
            ],
            [
             1,
             "#276419"
            ]
           ],
           "sequential": [
            [
             0,
             "#0d0887"
            ],
            [
             0.1111111111111111,
             "#46039f"
            ],
            [
             0.2222222222222222,
             "#7201a8"
            ],
            [
             0.3333333333333333,
             "#9c179e"
            ],
            [
             0.4444444444444444,
             "#bd3786"
            ],
            [
             0.5555555555555556,
             "#d8576b"
            ],
            [
             0.6666666666666666,
             "#ed7953"
            ],
            [
             0.7777777777777778,
             "#fb9f3a"
            ],
            [
             0.8888888888888888,
             "#fdca26"
            ],
            [
             1,
             "#f0f921"
            ]
           ],
           "sequentialminus": [
            [
             0,
             "#0d0887"
            ],
            [
             0.1111111111111111,
             "#46039f"
            ],
            [
             0.2222222222222222,
             "#7201a8"
            ],
            [
             0.3333333333333333,
             "#9c179e"
            ],
            [
             0.4444444444444444,
             "#bd3786"
            ],
            [
             0.5555555555555556,
             "#d8576b"
            ],
            [
             0.6666666666666666,
             "#ed7953"
            ],
            [
             0.7777777777777778,
             "#fb9f3a"
            ],
            [
             0.8888888888888888,
             "#fdca26"
            ],
            [
             1,
             "#f0f921"
            ]
           ]
          },
          "colorway": [
           "#636efa",
           "#EF553B",
           "#00cc96",
           "#ab63fa",
           "#FFA15A",
           "#19d3f3",
           "#FF6692",
           "#B6E880",
           "#FF97FF",
           "#FECB52"
          ],
          "font": {
           "color": "#2a3f5f"
          },
          "geo": {
           "bgcolor": "white",
           "lakecolor": "white",
           "landcolor": "#E5ECF6",
           "showlakes": true,
           "showland": true,
           "subunitcolor": "white"
          },
          "hoverlabel": {
           "align": "left"
          },
          "hovermode": "closest",
          "mapbox": {
           "style": "light"
          },
          "paper_bgcolor": "white",
          "plot_bgcolor": "#E5ECF6",
          "polar": {
           "angularaxis": {
            "gridcolor": "white",
            "linecolor": "white",
            "ticks": ""
           },
           "bgcolor": "#E5ECF6",
           "radialaxis": {
            "gridcolor": "white",
            "linecolor": "white",
            "ticks": ""
           }
          },
          "scene": {
           "xaxis": {
            "backgroundcolor": "#E5ECF6",
            "gridcolor": "white",
            "gridwidth": 2,
            "linecolor": "white",
            "showbackground": true,
            "ticks": "",
            "zerolinecolor": "white"
           },
           "yaxis": {
            "backgroundcolor": "#E5ECF6",
            "gridcolor": "white",
            "gridwidth": 2,
            "linecolor": "white",
            "showbackground": true,
            "ticks": "",
            "zerolinecolor": "white"
           },
           "zaxis": {
            "backgroundcolor": "#E5ECF6",
            "gridcolor": "white",
            "gridwidth": 2,
            "linecolor": "white",
            "showbackground": true,
            "ticks": "",
            "zerolinecolor": "white"
           }
          },
          "shapedefaults": {
           "line": {
            "color": "#2a3f5f"
           }
          },
          "ternary": {
           "aaxis": {
            "gridcolor": "white",
            "linecolor": "white",
            "ticks": ""
           },
           "baxis": {
            "gridcolor": "white",
            "linecolor": "white",
            "ticks": ""
           },
           "bgcolor": "#E5ECF6",
           "caxis": {
            "gridcolor": "white",
            "linecolor": "white",
            "ticks": ""
           }
          },
          "title": {
           "x": 0.05
          },
          "xaxis": {
           "automargin": true,
           "gridcolor": "white",
           "linecolor": "white",
           "ticks": "",
           "zerolinecolor": "white",
           "zerolinewidth": 2
          },
          "yaxis": {
           "automargin": true,
           "gridcolor": "white",
           "linecolor": "white",
           "ticks": "",
           "zerolinecolor": "white",
           "zerolinewidth": 2
          }
         }
        }
       }
      },
      "text/html": [
       "<div>\n",
       "        \n",
       "        \n",
       "            <div id=\"e6c4a8fa-b38a-49d2-a304-5107157f86b9\" class=\"plotly-graph-div\" style=\"height:525px; width:100%;\"></div>\n",
       "            <script type=\"text/javascript\">\n",
       "                require([\"plotly\"], function(Plotly) {\n",
       "                    window.PLOTLYENV=window.PLOTLYENV || {};\n",
       "                    \n",
       "                if (document.getElementById(\"e6c4a8fa-b38a-49d2-a304-5107157f86b9\")) {\n",
       "                    Plotly.newPlot(\n",
       "                        'e6c4a8fa-b38a-49d2-a304-5107157f86b9',\n",
       "                        [{\"mode\": \"lines\", \"name\": \"topic 1\", \"type\": \"scatter\", \"x\": [2003, 2004, 2005, 2006, 2007, 2008, 2009, 2010, 2011, 2012, 2013, 2014, 2015, 2016, 2017, 2018, 2019], \"y\": [0.0, 0.0, 0.0, 0.0, 0.0, 0.0, 0.0, 0.0, 0.0, 0.0, 0.0, 0.0, 0.0, 0.0, 0.0, 0.0, 0.0]}, {\"mode\": \"lines\", \"name\": \"topic 2\", \"type\": \"scatter\", \"x\": [2003, 2004, 2005, 2006, 2007, 2008, 2009, 2010, 2011, 2012, 2013, 2014, 2015, 2016, 2017, 2018, 2019], \"y\": [0.0, 0.0, 0.0, 0.0, 0.0, 0.0, 0.0, 0.0, 0.0, 0.0, 0.0, 0.0, 0.0, 0.0, 0.0, 0.0, 0.0]}, {\"mode\": \"lines\", \"name\": \"topic 3\", \"type\": \"scatter\", \"x\": [2003, 2004, 2005, 2006, 2007, 2008, 2009, 2010, 2011, 2012, 2013, 2014, 2015, 2016, 2017, 2018, 2019], \"y\": [0.0, 0.0, 0.0, 0.0, 0.0, 0.0, 0.0, 0.0, 0.0, 0.0, 0.0, 0.0, 0.0, 0.0, 0.0, 0.0, 0.0]}, {\"mode\": \"lines\", \"name\": \"topic 4\", \"type\": \"scatter\", \"x\": [2003, 2004, 2005, 2006, 2007, 2008, 2009, 2010, 2011, 2012, 2013, 2014, 2015, 2016, 2017, 2018, 2019], \"y\": [0.0, 0.0, 0.0, 0.0, 0.0, 0.0, 0.0, 0.0, 0.0, 0.0, 0.0, 0.0, 0.0, 0.0, 0.0, 0.0, 0.0]}, {\"mode\": \"lines\", \"name\": \"topic 5\", \"type\": \"scatter\", \"x\": [2003, 2004, 2005, 2006, 2007, 2008, 2009, 2010, 2011, 2012, 2013, 2014, 2015, 2016, 2017, 2018, 2019], \"y\": [0.0, 0.0, 0.0, 0.0, 0.0, 0.0, 0.0, 0.0, 0.0, 0.0, 0.0, 0.0, 0.0, 0.0, 0.0, 0.0, 0.0]}, {\"mode\": \"lines\", \"name\": \"topic 6\", \"type\": \"scatter\", \"x\": [2003, 2004, 2005, 2006, 2007, 2008, 2009, 2010, 2011, 2012, 2013, 2014, 2015, 2016, 2017, 2018, 2019], \"y\": [0.0, 0.0, 0.0, 0.0, 0.0, 0.0, 0.0, 0.0, 0.0, 0.0, 0.0, 0.0, 0.0, 0.0, 0.0, 0.0, 0.0]}, {\"mode\": \"lines\", \"name\": \"topic 7\", \"type\": \"scatter\", \"x\": [2003, 2004, 2005, 2006, 2007, 2008, 2009, 2010, 2011, 2012, 2013, 2014, 2015, 2016, 2017, 2018, 2019], \"y\": [0.0, 0.0, 0.0, 0.0, 0.0, 0.0, 1.0, 0.0, 0.0, 0.0, 0.0, 0.0, 0.0, 0.0, 0.0, 0.0, 0.0]}],\n",
       "                        {\"template\": {\"data\": {\"bar\": [{\"error_x\": {\"color\": \"#2a3f5f\"}, \"error_y\": {\"color\": \"#2a3f5f\"}, \"marker\": {\"line\": {\"color\": \"#E5ECF6\", \"width\": 0.5}}, \"type\": \"bar\"}], \"barpolar\": [{\"marker\": {\"line\": {\"color\": \"#E5ECF6\", \"width\": 0.5}}, \"type\": \"barpolar\"}], \"carpet\": [{\"aaxis\": {\"endlinecolor\": \"#2a3f5f\", \"gridcolor\": \"white\", \"linecolor\": \"white\", \"minorgridcolor\": \"white\", \"startlinecolor\": \"#2a3f5f\"}, \"baxis\": {\"endlinecolor\": \"#2a3f5f\", \"gridcolor\": \"white\", \"linecolor\": \"white\", \"minorgridcolor\": \"white\", \"startlinecolor\": \"#2a3f5f\"}, \"type\": \"carpet\"}], \"choropleth\": [{\"colorbar\": {\"outlinewidth\": 0, \"ticks\": \"\"}, \"type\": \"choropleth\"}], \"contour\": [{\"colorbar\": {\"outlinewidth\": 0, \"ticks\": \"\"}, \"colorscale\": [[0.0, \"#0d0887\"], [0.1111111111111111, \"#46039f\"], [0.2222222222222222, \"#7201a8\"], [0.3333333333333333, \"#9c179e\"], [0.4444444444444444, \"#bd3786\"], [0.5555555555555556, \"#d8576b\"], [0.6666666666666666, \"#ed7953\"], [0.7777777777777778, \"#fb9f3a\"], [0.8888888888888888, \"#fdca26\"], [1.0, \"#f0f921\"]], \"type\": \"contour\"}], \"contourcarpet\": [{\"colorbar\": {\"outlinewidth\": 0, \"ticks\": \"\"}, \"type\": \"contourcarpet\"}], \"heatmap\": [{\"colorbar\": {\"outlinewidth\": 0, \"ticks\": \"\"}, \"colorscale\": [[0.0, \"#0d0887\"], [0.1111111111111111, \"#46039f\"], [0.2222222222222222, \"#7201a8\"], [0.3333333333333333, \"#9c179e\"], [0.4444444444444444, \"#bd3786\"], [0.5555555555555556, \"#d8576b\"], [0.6666666666666666, \"#ed7953\"], [0.7777777777777778, \"#fb9f3a\"], [0.8888888888888888, \"#fdca26\"], [1.0, \"#f0f921\"]], \"type\": \"heatmap\"}], \"heatmapgl\": [{\"colorbar\": {\"outlinewidth\": 0, \"ticks\": \"\"}, \"colorscale\": [[0.0, \"#0d0887\"], [0.1111111111111111, \"#46039f\"], [0.2222222222222222, \"#7201a8\"], [0.3333333333333333, \"#9c179e\"], [0.4444444444444444, \"#bd3786\"], [0.5555555555555556, \"#d8576b\"], [0.6666666666666666, \"#ed7953\"], [0.7777777777777778, \"#fb9f3a\"], [0.8888888888888888, \"#fdca26\"], [1.0, \"#f0f921\"]], \"type\": \"heatmapgl\"}], \"histogram\": [{\"marker\": {\"colorbar\": {\"outlinewidth\": 0, \"ticks\": \"\"}}, \"type\": \"histogram\"}], \"histogram2d\": [{\"colorbar\": {\"outlinewidth\": 0, \"ticks\": \"\"}, \"colorscale\": [[0.0, \"#0d0887\"], [0.1111111111111111, \"#46039f\"], [0.2222222222222222, \"#7201a8\"], [0.3333333333333333, \"#9c179e\"], [0.4444444444444444, \"#bd3786\"], [0.5555555555555556, \"#d8576b\"], [0.6666666666666666, \"#ed7953\"], [0.7777777777777778, \"#fb9f3a\"], [0.8888888888888888, \"#fdca26\"], [1.0, \"#f0f921\"]], \"type\": \"histogram2d\"}], \"histogram2dcontour\": [{\"colorbar\": {\"outlinewidth\": 0, \"ticks\": \"\"}, \"colorscale\": [[0.0, \"#0d0887\"], [0.1111111111111111, \"#46039f\"], [0.2222222222222222, \"#7201a8\"], [0.3333333333333333, \"#9c179e\"], [0.4444444444444444, \"#bd3786\"], [0.5555555555555556, \"#d8576b\"], [0.6666666666666666, \"#ed7953\"], [0.7777777777777778, \"#fb9f3a\"], [0.8888888888888888, \"#fdca26\"], [1.0, \"#f0f921\"]], \"type\": \"histogram2dcontour\"}], \"mesh3d\": [{\"colorbar\": {\"outlinewidth\": 0, \"ticks\": \"\"}, \"type\": \"mesh3d\"}], \"parcoords\": [{\"line\": {\"colorbar\": {\"outlinewidth\": 0, \"ticks\": \"\"}}, \"type\": \"parcoords\"}], \"scatter\": [{\"marker\": {\"colorbar\": {\"outlinewidth\": 0, \"ticks\": \"\"}}, \"type\": \"scatter\"}], \"scatter3d\": [{\"line\": {\"colorbar\": {\"outlinewidth\": 0, \"ticks\": \"\"}}, \"marker\": {\"colorbar\": {\"outlinewidth\": 0, \"ticks\": \"\"}}, \"type\": \"scatter3d\"}], \"scattercarpet\": [{\"marker\": {\"colorbar\": {\"outlinewidth\": 0, \"ticks\": \"\"}}, \"type\": \"scattercarpet\"}], \"scattergeo\": [{\"marker\": {\"colorbar\": {\"outlinewidth\": 0, \"ticks\": \"\"}}, \"type\": \"scattergeo\"}], \"scattergl\": [{\"marker\": {\"colorbar\": {\"outlinewidth\": 0, \"ticks\": \"\"}}, \"type\": \"scattergl\"}], \"scattermapbox\": [{\"marker\": {\"colorbar\": {\"outlinewidth\": 0, \"ticks\": \"\"}}, \"type\": \"scattermapbox\"}], \"scatterpolar\": [{\"marker\": {\"colorbar\": {\"outlinewidth\": 0, \"ticks\": \"\"}}, \"type\": \"scatterpolar\"}], \"scatterpolargl\": [{\"marker\": {\"colorbar\": {\"outlinewidth\": 0, \"ticks\": \"\"}}, \"type\": \"scatterpolargl\"}], \"scatterternary\": [{\"marker\": {\"colorbar\": {\"outlinewidth\": 0, \"ticks\": \"\"}}, \"type\": \"scatterternary\"}], \"surface\": [{\"colorbar\": {\"outlinewidth\": 0, \"ticks\": \"\"}, \"colorscale\": [[0.0, \"#0d0887\"], [0.1111111111111111, \"#46039f\"], [0.2222222222222222, \"#7201a8\"], [0.3333333333333333, \"#9c179e\"], [0.4444444444444444, \"#bd3786\"], [0.5555555555555556, \"#d8576b\"], [0.6666666666666666, \"#ed7953\"], [0.7777777777777778, \"#fb9f3a\"], [0.8888888888888888, \"#fdca26\"], [1.0, \"#f0f921\"]], \"type\": \"surface\"}], \"table\": [{\"cells\": {\"fill\": {\"color\": \"#EBF0F8\"}, \"line\": {\"color\": \"white\"}}, \"header\": {\"fill\": {\"color\": \"#C8D4E3\"}, \"line\": {\"color\": \"white\"}}, \"type\": \"table\"}]}, \"layout\": {\"annotationdefaults\": {\"arrowcolor\": \"#2a3f5f\", \"arrowhead\": 0, \"arrowwidth\": 1}, \"colorscale\": {\"diverging\": [[0, \"#8e0152\"], [0.1, \"#c51b7d\"], [0.2, \"#de77ae\"], [0.3, \"#f1b6da\"], [0.4, \"#fde0ef\"], [0.5, \"#f7f7f7\"], [0.6, \"#e6f5d0\"], [0.7, \"#b8e186\"], [0.8, \"#7fbc41\"], [0.9, \"#4d9221\"], [1, \"#276419\"]], \"sequential\": [[0.0, \"#0d0887\"], [0.1111111111111111, \"#46039f\"], [0.2222222222222222, \"#7201a8\"], [0.3333333333333333, \"#9c179e\"], [0.4444444444444444, \"#bd3786\"], [0.5555555555555556, \"#d8576b\"], [0.6666666666666666, \"#ed7953\"], [0.7777777777777778, \"#fb9f3a\"], [0.8888888888888888, \"#fdca26\"], [1.0, \"#f0f921\"]], \"sequentialminus\": [[0.0, \"#0d0887\"], [0.1111111111111111, \"#46039f\"], [0.2222222222222222, \"#7201a8\"], [0.3333333333333333, \"#9c179e\"], [0.4444444444444444, \"#bd3786\"], [0.5555555555555556, \"#d8576b\"], [0.6666666666666666, \"#ed7953\"], [0.7777777777777778, \"#fb9f3a\"], [0.8888888888888888, \"#fdca26\"], [1.0, \"#f0f921\"]]}, \"colorway\": [\"#636efa\", \"#EF553B\", \"#00cc96\", \"#ab63fa\", \"#FFA15A\", \"#19d3f3\", \"#FF6692\", \"#B6E880\", \"#FF97FF\", \"#FECB52\"], \"font\": {\"color\": \"#2a3f5f\"}, \"geo\": {\"bgcolor\": \"white\", \"lakecolor\": \"white\", \"landcolor\": \"#E5ECF6\", \"showlakes\": true, \"showland\": true, \"subunitcolor\": \"white\"}, \"hoverlabel\": {\"align\": \"left\"}, \"hovermode\": \"closest\", \"mapbox\": {\"style\": \"light\"}, \"paper_bgcolor\": \"white\", \"plot_bgcolor\": \"#E5ECF6\", \"polar\": {\"angularaxis\": {\"gridcolor\": \"white\", \"linecolor\": \"white\", \"ticks\": \"\"}, \"bgcolor\": \"#E5ECF6\", \"radialaxis\": {\"gridcolor\": \"white\", \"linecolor\": \"white\", \"ticks\": \"\"}}, \"scene\": {\"xaxis\": {\"backgroundcolor\": \"#E5ECF6\", \"gridcolor\": \"white\", \"gridwidth\": 2, \"linecolor\": \"white\", \"showbackground\": true, \"ticks\": \"\", \"zerolinecolor\": \"white\"}, \"yaxis\": {\"backgroundcolor\": \"#E5ECF6\", \"gridcolor\": \"white\", \"gridwidth\": 2, \"linecolor\": \"white\", \"showbackground\": true, \"ticks\": \"\", \"zerolinecolor\": \"white\"}, \"zaxis\": {\"backgroundcolor\": \"#E5ECF6\", \"gridcolor\": \"white\", \"gridwidth\": 2, \"linecolor\": \"white\", \"showbackground\": true, \"ticks\": \"\", \"zerolinecolor\": \"white\"}}, \"shapedefaults\": {\"line\": {\"color\": \"#2a3f5f\"}}, \"ternary\": {\"aaxis\": {\"gridcolor\": \"white\", \"linecolor\": \"white\", \"ticks\": \"\"}, \"baxis\": {\"gridcolor\": \"white\", \"linecolor\": \"white\", \"ticks\": \"\"}, \"bgcolor\": \"#E5ECF6\", \"caxis\": {\"gridcolor\": \"white\", \"linecolor\": \"white\", \"ticks\": \"\"}}, \"title\": {\"x\": 0.05}, \"xaxis\": {\"automargin\": true, \"gridcolor\": \"white\", \"linecolor\": \"white\", \"ticks\": \"\", \"zerolinecolor\": \"white\", \"zerolinewidth\": 2}, \"yaxis\": {\"automargin\": true, \"gridcolor\": \"white\", \"linecolor\": \"white\", \"ticks\": \"\", \"zerolinecolor\": \"white\", \"zerolinewidth\": 2}}}},\n",
       "                        {\"responsive\": true}\n",
       "                    ).then(function(){\n",
       "                            \n",
       "var gd = document.getElementById('e6c4a8fa-b38a-49d2-a304-5107157f86b9');\n",
       "var x = new MutationObserver(function (mutations, observer) {{\n",
       "        var display = window.getComputedStyle(gd).display;\n",
       "        if (!display || display === 'none') {{\n",
       "            console.log([gd, 'removed!']);\n",
       "            Plotly.purge(gd);\n",
       "            observer.disconnect();\n",
       "        }}\n",
       "}});\n",
       "\n",
       "// Listen for the removal of the full notebook cells\n",
       "var notebookContainer = gd.closest('#notebook-container');\n",
       "if (notebookContainer) {{\n",
       "    x.observe(notebookContainer, {childList: true});\n",
       "}}\n",
       "\n",
       "// Listen for the clearing of the current output cell\n",
       "var outputEl = gd.closest('.output');\n",
       "if (outputEl) {{\n",
       "    x.observe(outputEl, {childList: true});\n",
       "}}\n",
       "\n",
       "                        })\n",
       "                };\n",
       "                });\n",
       "            </script>\n",
       "        </div>"
      ]
     },
     "metadata": {},
     "output_type": "display_data"
    }
   ],
   "source": [
    "fig = go.Figure()\n",
    "\n",
    "for i in range(len(totals)):\n",
    "    fig.add_trace(go.Scatter(x = x, y=means[i],\n",
    "                    mode='lines',\n",
    "                    name='topic {:}'.format(i + 1)))\n",
    "fig.show()"
   ]
  },
  {
   "cell_type": "code",
   "execution_count": 43,
   "metadata": {},
   "outputs": [
    {
     "data": {
      "text/plain": [
       "[]"
      ]
     },
     "execution_count": 43,
     "metadata": {},
     "output_type": "execute_result"
    }
   ],
   "source": [
    "indices"
   ]
  }
 ],
 "metadata": {
  "kernelspec": {
   "display_name": "Python 3",
   "language": "python",
   "name": "python3"
  },
  "language_info": {
   "codemirror_mode": {
    "name": "ipython",
    "version": 3
   },
   "file_extension": ".py",
   "mimetype": "text/x-python",
   "name": "python",
   "nbconvert_exporter": "python",
   "pygments_lexer": "ipython3",
   "version": "3.6.8"
  },
  "latex_envs": {
   "LaTeX_envs_menu_present": true,
   "autocomplete": true,
   "bibliofile": "biblio.bib",
   "cite_by": "apalike",
   "current_citInitial": 1,
   "eqLabelWithNumbers": true,
   "eqNumInitial": 1,
   "hotkeys": {
    "equation": "Ctrl-E",
    "itemize": "Ctrl-I"
   },
   "labels_anchors": false,
   "latex_user_defs": false,
   "report_style_numbering": false,
   "user_envs_cfg": false
  },
  "nbTranslate": {
   "displayLangs": [
    "*"
   ],
   "hotkey": "alt-t",
   "langInMainMenu": true,
   "sourceLang": "en",
   "targetLang": "fr",
   "useGoogleTranslate": true
  }
 },
 "nbformat": 4,
 "nbformat_minor": 2
}
